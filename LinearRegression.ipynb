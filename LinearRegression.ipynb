{
 "cells": [
  {
   "cell_type": "markdown",
   "metadata": {},
   "source": [
    "# Machine Learning - Simple? Complex? Effective.\n",
    "## (Episode 1 - Univariate Linear Regression)"
   ]
  },
  {
   "cell_type": "markdown",
   "metadata": {},
   "source": [
    "<hr style=\"border:solid 1px\">"
   ]
  },
  {
   "cell_type": "markdown",
   "metadata": {},
   "source": [
    "### What is Univariate Linear Regression?\n",
    "\n",
    "<i>Univariate Linear Regression</i> is a model that fits a linear function to an observable feature graphed against a target variable. It is univariate because only a single feature is used to model the output variable. A model that fits a linear function of multiple observable features the same way is <i>Multivariate Linear Regression.</i>"
   ]
  },
  {
   "cell_type": "markdown",
   "metadata": {},
   "source": [
    "<hr style=\"border:solid 1px\">"
   ]
  },
  {
   "cell_type": "markdown",
   "metadata": {},
   "source": [
    "### How does it work?\n",
    "\n",
    "We will be looking at simple linear regression first. Therefore, our hypothesis function is the equation of a line defined from algebra as:\n",
    "<br><br>\n",
    "$$ y = mx + b$$ \n",
    "is the same as,\n",
    "$$ h(x) = \\theta_1 x + \\theta_0  $$\n",
    "<div style=\"text-align: right\"> (1) </div>\n",
    "<br>\n",
    "However, when trying to fit a linear model to data points, there will also always exist some error between those the true values and predicted values. This is known as the residual error. Including the residual error and looking at the ith dependant value, (1) becomes:\n",
    "<br>\n",
    "$$y_i = \\theta_1 x_i + \\theta_0 + e_i$$ where $e_i$ is the ith residual error.\n",
    "<br><br>\n",
    "If we rearrange this equation, then we see that the ith residual error value is:<br>\n",
    "$$e_i = (\\theta_1 x_1 + \\theta_0) - y_i$$<br>\n",
    "<br>\n",
    "The total residual error is then:<br>\n",
    "$$e = \\sum\\limits_{i=1}^n{e_i} = \\sum\\limits_{i=1}^n(\\theta_1 x_i + \\theta_0) - y_i$$\n",
    "\n",
    "Given $n$ datapoints, let $\\bf{X}$ be the $(2 \\times n)$ design matrix:<br>\n",
    "$$\\bf{X} = \n",
    "\\begin{bmatrix}\n",
    "1 \\ x_1 \\\\\n",
    "1 \\ x_2 \\\\\n",
    "... \\ ... \\\\\n",
    "1 \\ x_n\n",
    "\\end{bmatrix}\n",
    "$$\n",
    "and $\\boldsymbol{\\theta}$ be the $(2 \\times 1)$parameter matrix\n",
    "$$\n",
    "\\boldsymbol{\\theta} = \\vec{\\theta} =\n",
    "\\begin{bmatrix}\n",
    "\\theta_0 \\\\\n",
    "\\theta_1\n",
    "\\end{bmatrix}\n",
    "$$\n",
    "and $\\textbf{e}$ be the $(n\\times 1)$ residual error matrix:\n",
    "$$\n",
    "\\textbf{e} = \\vec{e} =\n",
    "\\begin{bmatrix}\n",
    "e_1 \\\\\n",
    "e_2 \\\\\n",
    "\\dots \\\\\n",
    "e_n\n",
    "\\end{bmatrix}\n",
    "$$\n",
    "and $\\textbf{Y}$ be the $(n \\times 1)$ matrix of actual values:\n",
    "$$\n",
    "\\textbf{Y} = \\vec{y} =\n",
    "\\begin{bmatrix}\n",
    "y_1 \\\\\n",
    "y_2 \\\\\n",
    "\\dots \\\\\n",
    "y_n\n",
    "\\end{bmatrix}\n",
    "$$\n",
    "\n",
    "<br>\n",
    "\n",
    "Then,our original equation in matrix form looks like:<br>\n",
    "$$ \\textbf{Y} = \\textbf{X} \\boldsymbol{\\theta} + \\textbf{e} $$ <div style=\"text-align: right\"> (2) </div> where \n",
    "\n",
    "$$ \\bf{X}\\boldsymbol{\\theta} =\n",
    "\\begin{bmatrix}\n",
    "\\theta_0 + \\theta_1 x_1 \\\\\n",
    "\\theta_0 + \\theta_1 x_2 \\\\\n",
    "\\dots \\\\\n",
    "\\theta_0 + \\theta_1 x_n \\\\\n",
    "\\end{bmatrix}\n",
    "$$ \n",
    "<div style=\"text-align: right\"> (3) </div>\n",
    "\n",
    "This implies that the residual error is the following:<br>\n",
    "$$ \\textbf{e} = \\textbf{X}\\boldsymbol{\\theta} - \\textbf{Y} $$\n",
    "\n",
    "\n",
    "In order for $\\textbf{e}$ to have defined values, given $\\textbf{X}$ and $\\textbf{Y}$, we need to determine the coefficients or parameters $\\vec{\\theta}$. There are several estimation techniques available to achieve this."
   ]
  },
  {
   "cell_type": "markdown",
   "metadata": {},
   "source": [
    "##### Estimation Techniques\n",
    "\n",
    "- Ordinary Least Squares\n",
    "- Weighted Least Squares\n",
    "- Generalized Least Squares\n",
    "- Maximum liklihood estimation\n",
    "- Ridge Regression\n",
    "- Least Absolute Deviation\n",
    "- Adaptive estimation\n",
    "- Bayesian linear regression\n",
    "- quantile regression\n",
    "- mixed models\n",
    "- principle component regression\n",
    "- least angle regression\n",
    "- theil-sen estimator\n",
    "- alpha trimmed mean\n",
    "- etc\n",
    "- GRADIENT DESCENT\n",
    "More on estimators here: https://en.wikipedia.org/wiki/Linear_regression\n",
    "and here: https://en.wikipedia.org/wiki/List_of_algorithms#Optimization_algorithms\n",
    "$$  $$"
   ]
  },
  {
   "cell_type": "markdown",
   "metadata": {},
   "source": [
    "##### The Least Squares Estimation Technique\n",
    "\n",
    "Each parameter estimation method has advantages and disadvantages, for this demonstration we will look at the least squares regression method.\n",
    "\n",
    "For this method, optimal parameter values are defined when the sum of the <u>mean squared error</u> is minimized. Or, when<br>\n",
    "\n",
    "$$ \\frac{e^2}{n} = \\frac{ \\textbf{e}^T \\textbf{e} }{n} = \\frac{ || \\textbf{X}\\boldsymbol{\\theta}-\\textbf{Y} ||^2 }{n} $$ is minimized. In this case, the mean squared error has been chosen as our <u>cost function</u>."
   ]
  },
  {
   "cell_type": "markdown",
   "metadata": {},
   "source": [
    "Now, in expanded form the mean squared error is\n",
    "$$ \n",
    "MSE(\\textbf{e}) = \n",
    "\\frac{ \\textbf{e}^T \\textbf{e} }{n} = \n",
    "\\frac{1}{n}\n",
    "(\\textbf{X}\\boldsymbol{\\theta}-\\textbf{Y})^T (\\textbf{X}\\boldsymbol{\\theta}-\\textbf{Y}) = \n",
    "\\frac{1}{n}\n",
    "(\\textbf{X}^T \\boldsymbol{\\theta}^T \\textbf{X}\\boldsymbol{\\theta} \n",
    "- \\textbf{Y}^T \\textbf{X} \\boldsymbol{\\theta} \n",
    "- \\textbf{Y} \\textbf{X}^T \\boldsymbol{\\theta}^T + \n",
    "\\textbf{Y}^T \\textbf{Y} )\n",
    "$$\n",
    "$$\n",
    "=\n",
    "\\frac{1}{n}(\n",
    "\\textbf{X}^T \\boldsymbol{\\theta}^T \\textbf{X}\\boldsymbol{\\theta} -\n",
    "2 \\textbf{Y} \\textbf{X}^T \\boldsymbol{\\theta}^T +\n",
    "\\textbf{Y}^T \\textbf{Y}\n",
    ")\n",
    "$$\n"
   ]
  },
  {
   "cell_type": "markdown",
   "metadata": {},
   "source": [
    "The minimum value of this $MSE(\\textbf{e})$ occurs when the derivative of the $MSE(\\textbf{e})$ with respect to the error or when \n",
    "<br><br>\n",
    "$$\\frac{\\partial MSE(\\textbf{e})}{\\partial \\boldsymbol{\\theta}} = 0$$\n",
    "\n",
    "This implies,\n",
    "$$\n",
    "\\frac{1}{n}\n",
    "\\frac{\\partial}{\\partial \\boldsymbol{\\theta}} (\n",
    "\\textbf{X}^T \\boldsymbol{\\theta}^T \\textbf{X}\\boldsymbol{\\theta} -\n",
    "2 \\textbf{Y} \\textbf{X}^T \\boldsymbol{\\theta}^T +\n",
    "\\textbf{Y}^T \\textbf{Y}\n",
    ") \n",
    "= 0 \n",
    "$$\n",
    "$\n",
    "\\implies 0 = \n",
    "2 \\textbf{X}^T \\textbf{X} \\boldsymbol{\\theta} - 2 \\textbf{Y} \\textbf{X}^T + 0\n",
    "$<br>\n",
    "$\n",
    "\\implies  \\textbf{X}^T \\textbf{X} \\boldsymbol{\\theta} =  \\textbf{Y} \\textbf{X}^T\n",
    "$<br>\n",
    "$\n",
    "\\implies  \\boldsymbol{\\theta_{min}} = (\\textbf{X}^T \\textbf{X})^{-1} \\textbf{Y} \\textbf{X}^T\n",
    "$\n"
   ]
  },
  {
   "cell_type": "markdown",
   "metadata": {},
   "source": [
    "To prove that this value for $\\boldsymbol{\\theta}$ is the minimum, we use <u>the second derivative test</u>:\n",
    "<br><br>\n",
    "$$\n",
    "\\implies \n",
    "\\frac{\\partial}{\\partial \\boldsymbol{\\theta}}\n",
    "(\\textbf{X}^T \\textbf{X} \\boldsymbol{\\theta} - \\textbf{Y} \\textbf{X}^T)\n",
    "= \\textbf{X}^T \\textbf{X}\n",
    "$$\n",
    "since\n",
    "$$\n",
    " \\textbf{X}^T \\textbf{X}\n",
    "\\gt 0\n",
    "$$\n",
    "this will always be positive, it is positive definite and is the minimum we seek"
   ]
  },
  {
   "cell_type": "markdown",
   "metadata": {},
   "source": [
    "Lastly, to find our predictions with our now known mimized parameter values, we simply use equation () and plug in the values as shown here:\n",
    "<br><br>\n",
    "$$\n",
    "\\hat{\\textbf{Y}} = \\textbf{X} \\boldsymbol{\\theta_{min}}\n",
    "$$"
   ]
  },
  {
   "cell_type": "markdown",
   "metadata": {},
   "source": [
    "<hr style=\"border:solid 1px\">"
   ]
  },
  {
   "cell_type": "markdown",
   "metadata": {},
   "source": [
    "### Linear Regression modelling in python:"
   ]
  },
  {
   "cell_type": "code",
   "execution_count": 25,
   "metadata": {},
   "outputs": [],
   "source": [
    "# Imports\n",
    "import numpy as np\n",
    "from numpy.linalg import inv\n",
    "from numpy.linalg import qr\n",
    "from numpy.linalg import pinv\n",
    "import pandas as pd\n",
    "import matplotlib.pyplot as plt\n",
    "import seaborn as sns\n",
    "from ipynb.fs.full.func_time_script import *\n",
    "from sklearn.linear_model import LinearRegression"
   ]
  },
  {
   "cell_type": "code",
   "execution_count": 424,
   "metadata": {},
   "outputs": [],
   "source": [
    "def gen_data(vec_len):\n",
    "    \"\"\"\n",
    "    Function to generate the random data we will use for the execution of the various models\n",
    "    \"\"\"\n",
    "    #Y = th0 + th1*X = 3 + 2 * X\n",
    "    x_0, x_1 = np.ones(vec_len), np.random.standard_normal(vec_len)    \n",
    "    X = np.column_stack((x_0,x_1))\n",
    "#     y = np.random.standard_normal(vec_len)\n",
    "    return X, 3 + 2*X[:,1] #X,y"
   ]
  },
  {
   "cell_type": "markdown",
   "metadata": {},
   "source": [
    "##### The Direct Way"
   ]
  },
  {
   "cell_type": "code",
   "execution_count": 26,
   "metadata": {},
   "outputs": [
    {
     "data": {
      "text/plain": [
       "array([0.121509  , 0.22383888, 0.32616875, 0.41275557, 0.4757278 ])"
      ]
     },
     "execution_count": 26,
     "metadata": {},
     "output_type": "execute_result"
    }
   ],
   "source": [
    "# For fun, in 2 lines of code, without known parameter values\n",
    "\n",
    "# Define data\n",
    "X,y = np.array([ [1,0.05],[1,0.18],[1,0.31],[1,0.42],[1,0.5] ]), np.array([0.12,0.22,0.35,0.38,0.49])\n",
    "\n",
    "# Calculate yhat predictions\n",
    "X @ (inv( X.T @ X ) @ X.T @ y) "
   ]
  },
  {
   "cell_type": "code",
   "execution_count": 1071,
   "metadata": {},
   "outputs": [],
   "source": [
    "# Generate the data\n",
    "X,y = gen_data(100)"
   ]
  },
  {
   "cell_type": "code",
   "execution_count": 1075,
   "metadata": {},
   "outputs": [],
   "source": [
    "def lr(X,y):\n",
    "    \"\"\"\n",
    "    Numpy direct method for Linear Regression\n",
    "    \"\"\"\n",
    "    \n",
    "    b = inv( X.T @ X ) @ X.T @ y\n",
    "    return b[0],b[1], X @ b #returns b,yhat"
   ]
  },
  {
   "cell_type": "code",
   "execution_count": 1076,
   "metadata": {},
   "outputs": [
    {
     "data": {
      "text/plain": [
       "(3.0,\n",
       " 1.9999999999999996,\n",
       " array([ 2.97218137,  3.16240999,  4.41367706, -0.22127957,  0.81738908,\n",
       "         5.6124312 ,  0.80250419,  7.47198071,  0.67434257,  2.80330735,\n",
       "         3.95822224,  2.03010012,  2.85349175,  4.21252192,  3.38693747,\n",
       "         1.51905788,  4.05254936, -0.58412005,  3.05453239,  4.03730329,\n",
       "         1.60869041,  3.36416034,  5.643254  ,  0.67013519,  4.79101105,\n",
       "         2.56400453,  4.68049336, -0.68472963,  2.7188559 ,  1.64533625,\n",
       "         4.05358865,  3.90637533,  1.72655032,  4.30695238,  3.32991173,\n",
       "         3.87342565,  4.02617006,  2.8240751 ,  6.11070013, -0.66369492,\n",
       "         7.14095029,  4.4132098 ,  1.80118632,  3.19624684, -0.85711909,\n",
       "         3.15444434,  4.37381352,  2.56707634,  2.8387144 ,  0.73931216,\n",
       "         4.23946658,  1.09470974,  5.19975094,  7.65651197,  3.49471988,\n",
       "         2.40000567,  3.34388434,  0.69525128,  0.18699686,  3.54724773,\n",
       "         2.69826167,  6.34021814, -1.4608774 ,  2.79078016,  2.57130796,\n",
       "         6.43450054,  5.06320923,  2.97944309,  5.08521796,  7.24517454,\n",
       "         3.56407962,  0.68389286, -0.44893581,  1.14178428,  3.94155569,\n",
       "        -1.64527506,  4.13972272,  4.18389548,  4.37387564,  3.17222873,\n",
       "         1.2351151 ,  4.02525266,  1.95317356, -0.09391338,  1.58829952,\n",
       "         2.95826   , -0.10019247,  2.18565776,  4.56675069, -0.09008807,\n",
       "         4.08383138,  4.4218874 ,  3.17863015, -0.4231844 ,  5.31048648,\n",
       "         2.64093719,  8.26201037,  0.70887552,  4.71483335,  4.6805953 ]))"
      ]
     },
     "execution_count": 1076,
     "metadata": {},
     "output_type": "execute_result"
    }
   ],
   "source": [
    "# View output\n",
    "lr(X,y)"
   ]
  },
  {
   "cell_type": "code",
   "execution_count": 1074,
   "metadata": {},
   "outputs": [
    {
     "data": {
      "text/plain": [
       "[<matplotlib.lines.Line2D at 0x7f9cf0d199b0>]"
      ]
     },
     "execution_count": 1074,
     "metadata": {},
     "output_type": "execute_result"
    },
    {
     "data": {
      "image/png": "[encoded data removed]",
      "text/plain": [
       "<Figure size 432x288 with 1 Axes>"
      ]
     },
     "metadata": {},
     "output_type": "display_data"
    }
   ],
   "source": [
    "# Plot input and prediction line\n",
    "plt.scatter(X[:,1],y)\n",
    "plt.plot(X[:,1],lr(X,y)[1],c='red')"
   ]
  },
  {
   "cell_type": "markdown",
   "metadata": {},
   "source": [
    "##### Via QR:"
   ]
  },
  {
   "cell_type": "code",
   "execution_count": 1067,
   "metadata": {},
   "outputs": [],
   "source": [
    "# Generate a new set of data\n",
    "X,y = gen_data(100)"
   ]
  },
  {
   "cell_type": "code",
   "execution_count": 1068,
   "metadata": {},
   "outputs": [],
   "source": [
    "def qr_reg(X,y):\n",
    "    \"\"\"\n",
    "    QR Decomposition method for Simple Linear Regression\n",
    "    \"\"\"\n",
    "    \n",
    "    Q, R = qr(X)\n",
    "    b = inv(R) @ (Q.T) @ y\n",
    "    return b, X @ b # returns coefficients, predictions"
   ]
  },
  {
   "cell_type": "code",
   "execution_count": 1069,
   "metadata": {},
   "outputs": [
    {
     "data": {
      "text/plain": [
       "(array([3., 2.]),\n",
       " array([ 7.43792063,  0.45361212,  3.43130717,  0.97981462,  4.68673044,\n",
       "         1.49090539,  3.01483578,  5.33766514,  2.84735156,  5.5935096 ,\n",
       "         1.55446704, -0.58746523,  1.06926919,  5.78415602,  4.54079287,\n",
       "         6.15578118,  3.14030494,  1.25597569,  5.61460291,  0.79797326,\n",
       "        -0.39450045,  5.4063178 ,  0.48841319,  1.63782324,  3.59396505,\n",
       "         2.93122256,  3.49594989,  2.55693253,  4.16121839,  2.25213579,\n",
       "         2.20147938,  0.25189205,  2.27019705,  1.37895397,  2.89655327,\n",
       "         3.64817148,  4.8897556 ,  3.34378643,  4.59664056,  5.77300248,\n",
       "         5.80158792,  4.59291454,  3.43667905,  3.56059711,  5.62311265,\n",
       "         4.100992  ,  5.97325632,  3.23286238,  1.01492359,  7.00007944,\n",
       "         3.48204328,  1.91044971,  0.44752771,  2.78936495, -0.51416641,\n",
       "         3.16688933,  1.99577105,  3.27102824,  2.58736989,  1.24404672,\n",
       "         3.04686594,  3.2978061 , -0.67504298,  2.02769015,  3.44575797,\n",
       "         3.17954674,  4.67689297,  2.142922  ,  5.34172253, -2.04069717,\n",
       "         2.12194793,  4.82729743,  2.20260734,  3.83680482,  4.53864501,\n",
       "         4.89872104,  3.37568855,  2.12508366,  7.19630758,  2.86131901,\n",
       "         5.82395536,  2.15669052,  8.59054686,  1.80335663, -1.21383678,\n",
       "         0.49502807,  3.53249158,  4.31711827,  9.19777061,  0.9215804 ,\n",
       "         2.04521471,  2.60851794,  4.15218655,  2.0057891 ,  6.75751213,\n",
       "        -2.28967409,  3.21323916,  2.33679067,  3.01482478, -1.58533801]))"
      ]
     },
     "execution_count": 1069,
     "metadata": {},
     "output_type": "execute_result"
    }
   ],
   "source": [
    "# View Output\n",
    "qr_reg(X,y)"
   ]
  },
  {
   "cell_type": "code",
   "execution_count": 1070,
   "metadata": {},
   "outputs": [
    {
     "data": {
      "text/plain": [
       "[<matplotlib.lines.Line2D at 0x7f9cf0e9b0f0>]"
      ]
     },
     "execution_count": 1070,
     "metadata": {},
     "output_type": "execute_result"
    },
    {
     "data": {
      "image/png": "[encoded data removed]",
      "text/plain": [
       "<Figure size 432x288 with 1 Axes>"
      ]
     },
     "metadata": {},
     "output_type": "display_data"
    }
   ],
   "source": [
    "# Plot input and prediction line\n",
    "plt.scatter(X[:,1], y)\n",
    "plt.plot(X[:,1], qr_reg(X,y)[1], color='red')"
   ]
  },
  {
   "cell_type": "markdown",
   "metadata": {},
   "source": [
    "##### Via SVD:"
   ]
  },
  {
   "cell_type": "code",
   "execution_count": 1063,
   "metadata": {},
   "outputs": [],
   "source": [
    "# Generate a new set of data\n",
    "X,y = gen_data(100)"
   ]
  },
  {
   "cell_type": "code",
   "execution_count": 1064,
   "metadata": {},
   "outputs": [],
   "source": [
    "def svd_reg(X,y):\n",
    "    \"\"\"\n",
    "    SVD method for Simple Linear Regression\n",
    "    \"\"\"\n",
    "    \n",
    "    b = pinv(X) @ y\n",
    "    return b, X @ b # returns coefficients, predictions"
   ]
  },
  {
   "cell_type": "code",
   "execution_count": 1065,
   "metadata": {},
   "outputs": [
    {
     "data": {
      "text/plain": [
       "(array([3., 2.]),\n",
       " array([ 1.75271121,  1.56713924,  3.53903127,  2.31489504,  0.02711106,\n",
       "         3.4769048 ,  3.99835872,  2.07260099,  0.34702336,  9.38426282,\n",
       "         1.13145914,  4.98132147,  4.28905594,  4.13876922,  5.60102999,\n",
       "         2.35274698,  4.88704657,  3.638319  ,  1.09377765,  3.36029015,\n",
       "         2.91585668,  6.76987942,  2.72227242, -1.62683505,  0.60092331,\n",
       "         3.36109839,  2.30840889,  0.47830885,  1.11928498,  5.77360306,\n",
       "         5.2269111 ,  3.41499516,  0.55964609,  3.63913359,  5.3588812 ,\n",
       "         6.37175851,  3.15305023,  5.6385504 ,  2.39462261,  2.25911909,\n",
       "        -0.93073404,  2.64575976,  1.93259933,  4.79111329,  4.05222179,\n",
       "         1.69704694,  7.7730489 ,  6.43778368,  5.8835051 ,  1.89608433,\n",
       "         4.71819576,  0.19130342,  2.66819213,  6.17994416,  4.60973164,\n",
       "         1.97438082,  6.63920922,  2.6340784 ,  4.18225665,  3.34905619,\n",
       "         2.6737097 ,  3.76286118,  4.68152526,  1.50723335,  2.6779335 ,\n",
       "         2.15278256,  0.84723768,  6.29316352,  2.10750286,  2.07100653,\n",
       "         3.92796029,  4.08953452,  1.50254491,  4.80429264, -0.97345761,\n",
       "         5.25238005,  2.05247691,  5.82537694,  2.65796833,  1.84846992,\n",
       "         1.3637853 ,  3.71963665,  4.9896496 ,  1.69684045,  1.43746816,\n",
       "         3.89834077,  5.10477897, -1.71487919,  6.11351148,  4.47821225,\n",
       "         1.4152201 ,  3.55280192,  0.7453625 ,  5.11463604,  3.41832371,\n",
       "         5.3090576 ,  3.48232343,  4.20821104,  3.0347318 ,  1.71037141]))"
      ]
     },
     "execution_count": 1065,
     "metadata": {},
     "output_type": "execute_result"
    }
   ],
   "source": [
    "# View output\n",
    "svd_reg(X,y)"
   ]
  },
  {
   "cell_type": "code",
   "execution_count": 1066,
   "metadata": {},
   "outputs": [
    {
     "data": {
      "text/plain": [
       "[<matplotlib.lines.Line2D at 0x7f9ce2ce8be0>]"
      ]
     },
     "execution_count": 1066,
     "metadata": {},
     "output_type": "execute_result"
    },
    {
     "data": {
      "image/png": "[encoded data removed]",
      "text/plain": [
       "<Figure size 432x288 with 1 Axes>"
      ]
     },
     "metadata": {},
     "output_type": "display_data"
    }
   ],
   "source": [
    "# Plot input and prediction line\n",
    "plt.scatter(X[:,1], y)\n",
    "plt.plot(X[:,1], svd_lr(X,y)[1],c='red')"
   ]
  },
  {
   "cell_type": "markdown",
   "metadata": {},
   "source": [
    "##### Via Gradient Descent:"
   ]
  },
  {
   "cell_type": "markdown",
   "metadata": {},
   "source": [
    "The so called update formula for gradient descent works like this:\n",
    "- The change in value of a parameter occurs incrementally in the direction of greatest descent as the negative value of the gradient(direction of greatest ascent) of the cost function(the function that needs optimization) multiplied by a learning rate (so it knows what step size to account for). We will call this the <b>Update Formula</b>. Mathematically, this looks like\n",
    "$$\n",
    " \\Delta \\theta_i = -\\beta \\nabla J_i\n",
    "$$\n",
    "$$\n",
    "\\implies \\theta_{i,new} = \\theta_{i,old} - \\beta \\nabla J_i\n",
    "$$\n",
    "where $\\beta$ is the learning rate and $J$ is the cost function\n",
    "\n",
    "\n",
    "Previously, we defined the <b>Hypothesis Function</b> as\n",
    "$$\n",
    "h(\\vec{\\theta}) = \\theta_0 + \\theta_1 \\textbf{X}\n",
    "$$\n",
    "and we also defined our <b>Loss Function</b> as\n",
    "$$\n",
    "L = \\frac{1}{n} \\sum\\limits_{i=0}^{n_{data}}{[h(\\vec{\\theta})-y_i]} = \\frac{1}{n} \\sum\\limits_{i=0}^{n_{data}}{[(\\theta_0 + \\theta_1 x_i)-y_i]}\n",
    "$$\n",
    "and our <b>Cost Function</b> is\n",
    "$$\n",
    "J = MSE(L) = \\frac{1}{n} \\sum\\limits_{i=1}^n{[(\\theta_1 x_i + \\theta_0) -y_i]^2} \n",
    "$$\n",
    "and for the ith value of $J$ this becomes $(J_i)$, so $\\nabla J_i$ is\n",
    "$$\n",
    "\\nabla J_i = \\frac{\\partial J_i}{\\partial \\theta_0} \\hat{\\theta_0} +  \\frac{\\partial J_i}{\\partial \\theta_1} \\hat{\\theta_1}\n",
    "$$\n",
    "$$\n",
    "= <\\frac{\\partial J_i}{\\partial \\theta_0}, \\frac{\\partial J_i}{\\partial \\theta_1}> \n",
    "$$\n",
    "$$\n",
    "= <\\frac{2}{n}[\\theta_0 + \\theta_1 x_i-y_i], \\frac{2 x_i}{n} [\\theta_0 + \\theta_1 x_i-y_i]>\n",
    "$$\n",
    "$$\n",
    "\\implies - \\beta \\nabla J_i = <\\frac{-2\\beta}{n}[\\theta_0 + \\theta_1 x_i-y_i], \\frac{-2\\beta x_i}{n} [\\theta_0 + \\theta_1 x_i-y_i]>\n",
    "$$\n",
    "so, the final form of our update function looks like this:\n",
    "$$\n",
    "\\implies \\theta_{i,new} = \\theta_{i,old} - \\beta \\nabla J_i \n",
    "= \\theta_{i,old} - <\\frac{2\\beta}{n}[\\theta_0 + \\theta_1 x_i-y_i], \\frac{2\\beta x_i}{n} [\\theta_0 + \\theta_1 x_i-y_i]> \n",
    "$$"
   ]
  },
  {
   "cell_type": "code",
   "execution_count": 1087,
   "metadata": {},
   "outputs": [],
   "source": [
    "# Generate a new set of data\n",
    "X,y = gen_data(100)"
   ]
  },
  {
   "cell_type": "code",
   "execution_count": 1218,
   "metadata": {},
   "outputs": [],
   "source": [
    "def grad_desc(X,y,lrate,iters,n_params):\n",
    "    \"\"\"\n",
    "    Gradient Descent - formulated for linear and multiple regression.\n",
    "    \n",
    "    For 2 parameter linear regression: Use n_params = 2 and X should be a design matrix of size (n x 2) where if one\n",
    "    of the parameters is an added constant such as the b in y=mx+b, the first column of X should be a column of ones.\n",
    "    Each column corresponds to a single parameter.\n",
    "    \n",
    "    For 3+ parameter multiple linear regression: use n_params = 3(or more) with a similar design matrix (n x 3+) with\n",
    "    the consideration if one parameter is constant.\n",
    "    \n",
    "    Note: the number of n_params also dictates the size of the theta matrix. n_params = 2 implies theta is (2 x n),\n",
    "    n_params = 3+ implies theta is (3+ x n)\n",
    "    \"\"\"\n",
    "    \n",
    "    # Initialize the theta matrix and list where J values will be stored\n",
    "    theta = np.zeros(n_params)\n",
    "    J_data = []\n",
    "    \n",
    "    # Loop for the number of desired updates the algorithm will take\n",
    "    for i in range(iters):\n",
    "        \n",
    "        # Define the loss function\n",
    "        Loss = X@theta-y\n",
    "        \n",
    "        # Define the cost function and store the data from this iteration in J_data\n",
    "        J_data.append(np.sum(Loss**2)/len(X))\n",
    "        \n",
    "        # Calculate and store the value of delJ for this iteration\n",
    "        delJ = [(X[:,0] @ Loss), (X[:,1] @ Loss)]\n",
    "        \n",
    "        # Calculate and store the values of the theta matrix for this iteration\n",
    "        theta = np.array([theta[0] - 2*lrate/len(X) * delJ[0], theta[1] - 2*lrate/len(X) * delJ[1]])\n",
    "        \n",
    "    # Return the theta matrix and the cost function data\n",
    "    return theta, J_data"
   ]
  },
  {
   "cell_type": "markdown",
   "metadata": {},
   "source": [
    "##### Tuning the $\\alpha$ hypterparameter:"
   ]
  },
  {
   "cell_type": "code",
   "execution_count": 1221,
   "metadata": {},
   "outputs": [],
   "source": [
    "# Get data for various hyperparameters\n",
    "rs = [grad_desc(X,y,0.9,10000,2),grad_desc(X,y,0.5,10000,2),grad_desc(X,y,0.1,10000,2),grad_desc(X,y,0.01,10000,2),grad_desc(X,y,0.001,10000,2)]"
   ]
  },
  {
   "cell_type": "code",
   "execution_count": 1242,
   "metadata": {
    "scrolled": false
   },
   "outputs": [
    {
     "data": {
      "image/png": "[encoded data removed]",
      "text/plain": [
       "<Figure size 1080x720 with 1 Axes>"
      ]
     },
     "metadata": {},
     "output_type": "display_data"
    }
   ],
   "source": [
    "# Visualizing the movement of the cost function J as the number of iterations increases\n",
    "\n",
    "# Initialize plot label information\n",
    "cs = ['r','b','green','yellow','black']\n",
    "ylabs = [r'J at $\\alpha=0.9$',r'J at $\\alpha=0.5$',r'J at $\\alpha=0.1$',r'J at $\\alpha=0.01$',r'J at $\\alpha=0.001$']\n",
    "labs = [r'J for $\\alpha=0.9$',r'J for $\\alpha=0.5$(best)',r'J for $\\alpha=0.1$',r'J for $\\alpha=0.01$',r'J for $\\alpha=0.001$']\n",
    "\n",
    "# Adjust figure parameters\n",
    "plt.figure(figsize=(15,10))\n",
    "plt.yscale('log')\n",
    "\n",
    "# Iteratively generate plots matching the data contained in the rs array for cost functions at various alphas\n",
    "for i in range(len(rs)):\n",
    "    \n",
    "    # Generate the plot\n",
    "    plt.plot(np.arange(0,10000),np.abs(rs[i][1]),c=cs[i],label=labs[i])\n",
    "        \n",
    "    # Adjust the plot settings    \n",
    "    plt.title(r'Num of iterations to get J=0 for set $\\alpha$')\n",
    "    plt.xlabel('number of iterations')\n",
    "    plt.ylabel(ylabs[i])\n",
    "    plt.xlim([0,100])\n",
    "    plt.legend()\n",
    "    plt.grid()"
   ]
  },
  {
   "cell_type": "markdown",
   "metadata": {},
   "source": [
    "Therefore, the value of $\\alpha$ that we know of that has fewest iterations to achieve the minimization is:\n",
    "$$\n",
    "\\alpha = 0.5\n",
    "$$\n",
    "and it achieves this in less than 10-30 iterations."
   ]
  },
  {
   "cell_type": "code",
   "execution_count": 1254,
   "metadata": {},
   "outputs": [
    {
     "name": "stdout",
     "output_type": "stream",
     "text": [
      "1000 loops, best of 3: 247 µs per loop\n"
     ]
    }
   ],
   "source": [
    "# Show the approx parameter values as calculated by gradient descent\n",
    "\n",
    "# NOTE: cannot store the output of this value unless you call -o !\n",
    "%timeit grad_desc(X,y,0.5,17,2) "
   ]
  },
  {
   "cell_type": "code",
   "execution_count": 1260,
   "metadata": {},
   "outputs": [],
   "source": [
    "th = grad_desc(X,y,0.5,17,2)[0]"
   ]
  },
  {
   "cell_type": "markdown",
   "metadata": {},
   "source": [
    "- Minor trial and error near 10-30 iterations shows that it achieves the exact values for our parameters at 17 iterations. \n",
    "- And it does this in 247 microseconds!, gradient descent really is awesome"
   ]
  },
  {
   "cell_type": "code",
   "execution_count": 1261,
   "metadata": {},
   "outputs": [
    {
     "data": {
      "text/plain": [
       "<matplotlib.legend.Legend at 0x7f9ce3641198>"
      ]
     },
     "execution_count": 1261,
     "metadata": {},
     "output_type": "execute_result"
    },
    {
     "data": {
      "image/png": "[encoded data removed]",
      "text/plain": [
       "<Figure size 432x288 with 1 Axes>"
      ]
     },
     "metadata": {},
     "output_type": "display_data"
    }
   ],
   "source": [
    "# Show the plot of predicted values over true values\n",
    "plt.scatter(X[:,1],3+2*X[:,1],label='true values')\n",
    "plt.plot(X[:,1],th[0]+th[1]*X[:,1],c='r',label='predicted values')\n",
    "plt.legend()"
   ]
  },
  {
   "cell_type": "markdown",
   "metadata": {},
   "source": [
    "https://datascience.stackexchange.com/questions/11261/linear-regression-and-learning-rate\n",
    "- plot the cost function vs iterations for certain values of learning rate and choose the learning rate with the lowest downshifted(fastest) learning rate"
   ]
  },
  {
   "cell_type": "markdown",
   "metadata": {},
   "source": [
    "##### Via Sklearn:"
   ]
  },
  {
   "cell_type": "code",
   "execution_count": 1037,
   "metadata": {},
   "outputs": [],
   "source": [
    "# Generate a new set of data\n",
    "X,y = gen_data(100)"
   ]
  },
  {
   "cell_type": "code",
   "execution_count": 1049,
   "metadata": {},
   "outputs": [
    {
     "data": {
      "text/plain": [
       "array([0., 2.])"
      ]
     },
     "execution_count": 1049,
     "metadata": {},
     "output_type": "execute_result"
    }
   ],
   "source": [
    "#R squared score of model\n",
    "reg.coef_"
   ]
  },
  {
   "cell_type": "code",
   "execution_count": 1050,
   "metadata": {},
   "outputs": [],
   "source": [
    "def sk_reg(X,y):\n",
    "    \"\"\"\n",
    "    Scikit-Learn method for Simple Linear Regression\n",
    "    \"\"\"\n",
    "    \n",
    "    reg = LinearRegression().fit(X,y)\n",
    "    return reg.intercept_, reg.coef_[1], reg.predict(X),reg.score(X,y)"
   ]
  },
  {
   "cell_type": "code",
   "execution_count": 1054,
   "metadata": {},
   "outputs": [
    {
     "name": "stdout",
     "output_type": "stream",
     "text": [
      "theta0 :\n",
      " 3.0 \n",
      "\n",
      "theta1 :\n",
      " 1.9999999999999991 \n",
      "\n",
      "predicted_values :\n",
      " [ 2.2395351   4.74893094  0.86536862  3.01065567  2.70926974  4.43063629\n",
      "  3.09948864  1.57642369  0.76726     3.26306721  3.06030429  3.68685608\n",
      "  4.15943373  4.36567061  3.02920019  3.69768028  2.0996291  -1.99213457\n",
      "  3.16826556  1.63290528  1.52860673  2.28477249  3.96832038  4.76513923\n",
      "  4.67246399  3.88270288  2.68426393  2.13341047  5.0452514   2.62605375\n",
      "  6.97943312  2.77822211  2.86568386  1.05240244  3.76059636  2.76212872\n",
      "  3.73766743  2.68846939  4.03866185  2.40588267  2.94985324  6.00834151\n",
      "  4.2578904   3.66825299  1.74825192  4.26483791  3.42329552  3.33788097\n",
      "  2.53942453  6.09928253  7.33819869 -0.64576995 -2.05207339  2.30001519\n",
      "  6.16485411  4.88386282  2.92292198  2.67515925  3.15212624  4.79555586\n",
      "  1.15970158  3.75315454  3.69582524  4.95403266  7.47650899  1.26919203\n",
      "  4.01215656  2.86460688  1.90156892  2.8730588   1.05548689  1.87822466\n",
      "  3.48255199  6.49029886  0.23955974  2.49589837  2.02899867  1.62303981\n",
      "  4.56006901  5.88258698  0.31469404  0.91000471  1.48182924  2.58962891\n",
      "  5.74788126  4.66375862  2.07743101  1.58659504  4.6520821   3.64723053\n",
      "  4.67630476  0.16482841 -1.27898028  5.9673738   4.46211156  3.86999765\n",
      "  1.26062198 -0.29422534  0.42043543  6.7901673 ] \n",
      "\n",
      "Rsquared :\n",
      " 1.0 \n",
      "\n"
     ]
    }
   ],
   "source": [
    "# View output\n",
    "r,labels = sk_reg(X,y), ['theta0','theta1','predicted_values','Rsquared']\n",
    "for idV,v in enumerate(r):\n",
    "    print(labels[idV],':\\n',v,'\\n')"
   ]
  },
  {
   "cell_type": "code",
   "execution_count": 1056,
   "metadata": {},
   "outputs": [
    {
     "data": {
      "text/plain": [
       "[<matplotlib.lines.Line2D at 0x7f9ce2dbbac8>]"
      ]
     },
     "execution_count": 1056,
     "metadata": {},
     "output_type": "execute_result"
    },
    {
     "data": {
      "image/png": "[encoded data removed]",
      "text/plain": [
       "<Figure size 432x288 with 1 Axes>"
      ]
     },
     "metadata": {},
     "output_type": "display_data"
    }
   ],
   "source": [
    "# Plot input and prediction line\n",
    "plt.scatter(X[:,1],y)\n",
    "plt.plot(X[:,1],reg.predict(X),c='red')"
   ]
  },
  {
   "cell_type": "markdown",
   "metadata": {},
   "source": [
    "##### Covariance approach used in source (alternate direct method):"
   ]
  },
  {
   "cell_type": "code",
   "execution_count": 1058,
   "metadata": {},
   "outputs": [],
   "source": [
    "# Generate a new set of data\n",
    "X,y = gen_data(100)"
   ]
  },
  {
   "cell_type": "code",
   "execution_count": 1059,
   "metadata": {},
   "outputs": [],
   "source": [
    "def cov_direct_reg(X,Y):\n",
    "    \"\"\"\n",
    "    Covariance method for Simple Linear Regression\n",
    "    \"\"\"\n",
    "    \n",
    "    b = np.linalg.solve( (X.T @ X)/X.shape[0] , (X.T @ Y)/X.shape[0] ).T # solve(cxx,cxy)\n",
    "    return b, X @ b "
   ]
  },
  {
   "cell_type": "code",
   "execution_count": 1060,
   "metadata": {},
   "outputs": [
    {
     "data": {
      "text/plain": [
       "(array([3., 2.]),\n",
       " array([ 3.89144857,  1.23120233,  3.39576862, -1.56207588,  1.43553765,\n",
       "         2.63713356,  4.06926136,  4.16200798,  2.71587388,  2.3642646 ,\n",
       "         4.89373914,  4.40433964,  6.2313897 ,  4.93806888,  3.34865901,\n",
       "         4.97142242,  1.03673895,  6.28985763,  0.08664925,  4.90348498,\n",
       "         6.84663486,  4.43994424,  6.71276465,  0.9702577 ,  3.94303343,\n",
       "         3.1567516 ,  4.05638814,  5.06903084,  4.28548575,  3.01918571,\n",
       "        -0.25743868,  0.30800728, -0.53260125,  4.35893584,  6.15525287,\n",
       "         3.45406625,  1.58048411,  3.00907837,  5.66801261,  2.99524213,\n",
       "         6.07766567, -0.68711121,  5.05975799,  3.64426878,  4.27772167,\n",
       "         0.86191875,  2.92922007,  1.69950088,  6.94294064,  3.71494056,\n",
       "        -0.18897309,  3.33603921,  1.20093162,  1.74371024,  6.4128771 ,\n",
       "         4.05383127,  0.76273929,  1.14988172,  1.84226357,  4.45229805,\n",
       "        -3.06653605,  3.35393963,  6.30964744,  4.0321224 ,  1.65964384,\n",
       "         1.8986075 ,  2.08909759,  2.0091812 ,  0.5188736 ,  2.9817252 ,\n",
       "         4.35107516,  3.07809121,  5.85491802,  5.91957557, -0.32329486,\n",
       "         2.17884632,  4.09533527,  2.30685843,  2.72358485,  2.82064739,\n",
       "        -0.7800662 ,  2.51972815,  4.06689528,  1.55604485,  3.47541437,\n",
       "         5.78136602,  5.15466113,  5.28758844,  7.2098196 ,  1.32278758,\n",
       "         0.52427315,  0.41206231,  2.73488068,  3.64904476,  2.7899349 ,\n",
       "         3.79925733,  1.53854022,  2.53978672,  1.57303855,  4.6713627 ]))"
      ]
     },
     "execution_count": 1060,
     "metadata": {},
     "output_type": "execute_result"
    }
   ],
   "source": [
    "# View output\n",
    "cov_direct_reg(X,y)"
   ]
  },
  {
   "cell_type": "code",
   "execution_count": 1062,
   "metadata": {},
   "outputs": [
    {
     "data": {
      "text/plain": [
       "[<matplotlib.lines.Line2D at 0x7f9ce3a8b710>]"
      ]
     },
     "execution_count": 1062,
     "metadata": {},
     "output_type": "execute_result"
    },
    {
     "data": {
      "image/png": "[encoded data removed]",
      "text/plain": [
       "<Figure size 432x288 with 1 Axes>"
      ]
     },
     "metadata": {},
     "output_type": "display_data"
    }
   ],
   "source": [
    "# Plot input and prediction line\n",
    "plt.scatter(X[:,1],y)\n",
    "plt.plot(X[:,1],cov_direct_reg(X,y)[1],c='red')"
   ]
  },
  {
   "cell_type": "markdown",
   "metadata": {},
   "source": [
    "NOTE: I will cover the currently popular Adam optimizer that is commonly being used in Deep Learning algorithms right now when I do a post on Deep Learning. The adam optimizer is classified as an adaptive learning rate optimizer and was developed specifically for optimizing deep learning neural networks."
   ]
  },
  {
   "cell_type": "markdown",
   "metadata": {},
   "source": [
    "### Execution time Analysis :"
   ]
  },
  {
   "cell_type": "markdown",
   "metadata": {},
   "source": [
    "##### Analysis of execution time for dot product operation by different methods including lists and numpy arrays"
   ]
  },
  {
   "cell_type": "code",
   "execution_count": 248,
   "metadata": {},
   "outputs": [],
   "source": [
    "# Initialize a few lits\n",
    "a = [1,2,3]\n",
    "b = [2,4,6]\n",
    "\n",
    "# Initialize a few numpy arrays\n",
    "A = np.array([1,2,3])\n",
    "B = np.array([2,4,6])"
   ]
  },
  {
   "cell_type": "markdown",
   "metadata": {},
   "source": [
    "Tests:"
   ]
  },
  {
   "cell_type": "code",
   "execution_count": 280,
   "metadata": {},
   "outputs": [
    {
     "name": "stdout",
     "output_type": "stream",
     "text": [
      "The slowest run took 12.17 times longer than the fastest. This could mean that an intermediate result is being cached.\n",
      "100000 loops, best of 3: 3.04 µs per loop\n",
      "\n",
      "\n",
      "The slowest run took 13.33 times longer than the fastest. This could mean that an intermediate result is being cached.\n",
      "1000000 loops, best of 3: 1.01 µs per loop\n",
      "\n",
      "\n",
      "The slowest run took 7.90 times longer than the fastest. This could mean that an intermediate result is being cached.\n",
      "100000 loops, best of 3: 2.68 µs per loop\n",
      "\n",
      "\n",
      "The slowest run took 7.41 times longer than the fastest. This could mean that an intermediate result is being cached.\n",
      "100000 loops, best of 3: 3.1 µs per loop\n",
      "\n",
      "\n",
      "The slowest run took 11.65 times longer than the fastest. This could mean that an intermediate result is being cached.\n",
      "1000000 loops, best of 3: 836 ns per loop\n"
     ]
    }
   ],
   "source": [
    "# Clock the lists and arrays on the dot product operation in various ways\n",
    "\n",
    "dts = []\n",
    "r = %timeit -o np.dot(a,b)\n",
    "dts.append(r.worst)\n",
    "print(\"\\n\")\n",
    "r = %timeit -o np.dot(A,B)\n",
    "dts.append(r.worst)\n",
    "print(\"\\n\")\n",
    "r = %timeit -o np.array(a).dot(np.array(b))\n",
    "dts.append(r.worst)\n",
    "print(\"\\n\")\n",
    "r = %timeit -o np.array(a) @ np.array(b)\n",
    "dts.append(r.worst)\n",
    "print(\"\\n\")\n",
    "r = %timeit -o A @ B\n",
    "dts.append(r.worst)"
   ]
  },
  {
   "cell_type": "code",
   "execution_count": 292,
   "metadata": {},
   "outputs": [
    {
     "data": {
      "image/png": "[encoded data removed]",
      "text/plain": [
       "<Figure size 432x288 with 1 Axes>"
      ]
     },
     "metadata": {},
     "output_type": "display_data"
    }
   ],
   "source": [
    "# Plot the results of those timings\n",
    "plt.scatter( np.arange( 0,len(dts) ), [dt*10**10 for dt in dts] )\n",
    "plt.title(\"Execution time by function\")\n",
    "plt.xlabel('function')\n",
    "plt.xticks(np.arange(0,len(dts)),['npdot_ab','npdot_AB','nparr_ab','nparr_a@b','A@B'],rotation=90)\n",
    "plt.ylabel('execution time')\n",
    "plt.grid()"
   ]
  },
  {
   "cell_type": "markdown",
   "metadata": {},
   "source": [
    "##### Summary of Results:\n",
    "- If we declare our lists as numpy lists up front, we gain a significant advantage in computing time\n",
    "- Using np.dot() method vs @ operator to calculate dot product, with multiple test runs, varies as to which runs faster. It comes down to np.dot()'s readability vs @'s simplicity"
   ]
  },
  {
   "cell_type": "markdown",
   "metadata": {},
   "source": [
    "##### Analysis of Execution time for various linear regression methods"
   ]
  },
  {
   "cell_type": "code",
   "execution_count": 1078,
   "metadata": {},
   "outputs": [
    {
     "data": {
      "text/plain": [
       "[2, 11, 101, 1001, 10001, 100001, 1000001]"
      ]
     },
     "execution_count": 1078,
     "metadata": {},
     "output_type": "execute_result"
    }
   ],
   "source": [
    "# Create an array of increasing vector lengths\n",
    "\n",
    "# Order of magnitude used to initialize vector length array\n",
    "order = 6\n",
    "\n",
    "# All vector lengths must be greater than 1, reformulate this for different functions (other than SLR)\n",
    "vec_lens = [1+10 ** n for n in range(0, order + 1)] \n",
    "\n",
    "vec_lens"
   ]
  },
  {
   "cell_type": "markdown",
   "metadata": {},
   "source": [
    "##### Generate Execution Times:"
   ]
  },
  {
   "cell_type": "code",
   "execution_count": 159,
   "metadata": {},
   "outputs": [
    {
     "data": {
      "text/plain": [
       "[0.02042166015598923,\n",
       " 0.018849170010071248,\n",
       " 0.025172499590553343,\n",
       " 0.03899155999533832,\n",
       " 0.21071514987852424,\n",
       " 1.449616810423322,\n",
       " 21.644933600910008]"
      ]
     },
     "metadata": {},
     "output_type": "display_data"
    }
   ],
   "source": [
    "# Numpy direct method execution time\n",
    "lr_direct_times = [time_func2(lr, len_, \"array\") for len_ in vec_lens]\n",
    "display(lr_direct_times)"
   ]
  },
  {
   "cell_type": "code",
   "execution_count": 160,
   "metadata": {},
   "outputs": [
    {
     "data": {
      "text/plain": [
       "[0.1661974607850425,\n",
       " 0.13649799017002806,\n",
       " 0.19442648976109922,\n",
       " 0.24257985991425812,\n",
       " 0.711922180489637,\n",
       " 3.826045149471611,\n",
       " 52.45366283081239]"
      ]
     },
     "metadata": {},
     "output_type": "display_data"
    }
   ],
   "source": [
    "# QR Decomposition method execution time\n",
    "qr_reg_times = [time_func2(qr_reg, len_, \"array\") for len_ in vec_lens]\n",
    "display(qr_reg_times)"
   ]
  },
  {
   "cell_type": "code",
   "execution_count": 161,
   "metadata": {},
   "outputs": [
    {
     "data": {
      "text/plain": [
       "[0.16893791005713865,\n",
       " 0.11382216005586088,\n",
       " 0.12940419052029029,\n",
       " 0.206772260426078,\n",
       " 1.0795528403832577,\n",
       " 5.932572980236728,\n",
       " 80.91530992940534]"
      ]
     },
     "metadata": {},
     "output_type": "display_data"
    }
   ],
   "source": [
    "# SVD method execution time\n",
    "svd_reg_times = [time_func2(svd_reg, len_, \"array\") for len_ in vec_lens]\n",
    "display(svd_reg_times)"
   ]
  },
  {
   "cell_type": "code",
   "execution_count": 162,
   "metadata": {},
   "outputs": [
    {
     "data": {
      "text/plain": [
       "[0.8690746399224736,\n",
       " 0.640966170176398,\n",
       " 0.40012003941228613,\n",
       " 0.4147944907890633,\n",
       " 2.2132831503404304,\n",
       " 14.03213015961228,\n",
       " 120.84346672927495]"
      ]
     },
     "metadata": {},
     "output_type": "display_data"
    }
   ],
   "source": [
    "# Scikit-Learn method execution time\n",
    "sk_reg_times = [time_func2(sk_reg, len_, \"array\") for len_ in vec_lens]\n",
    "display(sk_reg_times)"
   ]
  },
  {
   "cell_type": "code",
   "execution_count": 1292,
   "metadata": {},
   "outputs": [],
   "source": [
    "def time_gd(func, *args, reps=10):\n",
    "    \n",
    "    \"\"\"\n",
    "    \n",
    "    \"\"\"\n",
    "    \n",
    "    avg_time = timeit(lambda: func(*args), number=reps) / reps\n",
    "    \n",
    "    return avg_time * 1000\n",
    "\n",
    "\n",
    "def time_gd2(\n",
    "    func,\n",
    "    vector_length,\n",
    "    input_type = \"array\",\n",
    "    data_reps = 10,\n",
    "    reps = 10\n",
    "):\n",
    "    \"\"\"\n",
    "    \n",
    "    \"\"\"\n",
    "    \n",
    "    \n",
    "    total_time = 0\n",
    "    \n",
    "    for i in range(0, data_reps):\n",
    "        \n",
    "        A = np.random.standard_normal(vector_length)\n",
    "        B = np.random.standard_normal(vector_length)\n",
    "        X = np.column_stack((np.ones(len(A),dtype=int),A))\n",
    "        y = B\n",
    "        \n",
    "        try:\n",
    "            inst_time = t_time_function(func, X, y, 0.9, 10, 2, reps=reps)\n",
    "        except:            \n",
    "            return print(\"1/3 Possible Errors:vector length must be greater than 1, PC must have enough RAM to allocate matrices of size (n x n), and grad_desc must have the right number of parameters set in the time_gd2 function.\")\n",
    "        total_time += inst_time\n",
    "    \n",
    "    avg_time = total_time / data_reps\n",
    "    \n",
    "    return avg_time"
   ]
  },
  {
   "cell_type": "code",
   "execution_count": 1293,
   "metadata": {},
   "outputs": [
    {
     "data": {
      "text/plain": [
       "[0.20380434056278318,\n",
       " 0.16564345045480877,\n",
       " 0.18438049010001123,\n",
       " 0.2421859500464052,\n",
       " 0.9205340297194198,\n",
       " 5.9893139998894185,\n",
       " 146.72215797938406]"
      ]
     },
     "metadata": {},
     "output_type": "display_data"
    }
   ],
   "source": [
    "# Gradient Descent method execution time\n",
    "\"\"\"\n",
    "Note: time_gd2 generates a random dataset with every use, thus its parameters are not optimized properly\n",
    "and could have its time reduced or increased were those parameters identified before calculating these times.\n",
    "\"\"\"\n",
    "gd_reg_times = [time_gd2(grad_desc, len_, \"array\") for len_ in vec_lens]\n",
    "display(gd_reg_times)"
   ]
  },
  {
   "cell_type": "code",
   "execution_count": 169,
   "metadata": {},
   "outputs": [
    {
     "data": {
      "text/plain": [
       "[0.06806040997616947,\n",
       " 0.03559557982953265,\n",
       " 0.02684448118088767,\n",
       " 0.03248780965805054,\n",
       " 0.6528268399415538,\n",
       " 1.1106951296096668,\n",
       " 13.447389130305964]"
      ]
     },
     "metadata": {},
     "output_type": "display_data"
    }
   ],
   "source": [
    "# Covariance method execution time\n",
    "cov_direct_reg_times = [time_func2(cov_direct_reg, len_, \"array\") for len_ in vec_lens]\n",
    "display(cov_direct_reg_times)"
   ]
  },
  {
   "cell_type": "markdown",
   "metadata": {},
   "source": [
    "##### Visualize execution times:"
   ]
  },
  {
   "cell_type": "code",
   "execution_count": 1295,
   "metadata": {},
   "outputs": [
    {
     "data": {
      "image/png": "[encoded data removed]",
      "text/plain": [
       "<Figure size 720x720 with 1 Axes>"
      ]
     },
     "metadata": {},
     "output_type": "display_data"
    }
   ],
   "source": [
    "plt.figure(figsize=(10,10))\n",
    "plt.plot(vec_lens, lr_direct_times, label = \"Numpy Direct Method for Linear Regression\")\n",
    "plt.plot(vec_lens, qr_reg_times, label = \"QR Method for Linear Regression\")\n",
    "plt.plot(vec_lens, svd_reg_times, label = \"SVD Method for Linear Regression\")\n",
    "plt.plot(vec_lens, sk_reg_times, label = \"Sklearn Method for Linear Regression\")\n",
    "plt.plot(vec_lens, gd_reg_times, label = \"Gradient Descent Direct Method for Linear Regression\")\n",
    "plt.plot(vec_lens, cov_direct_reg_times, label = \"Covariance Direct Method for Linear Regression\")\n",
    "plt.title(\"Time Comparison of OSL Linear Regression Functions\")\n",
    "plt.xlabel(\"Length of Vectors\")\n",
    "plt.ylabel(\"Average Time (ms)\")\n",
    "plt.legend()\n",
    "plt.grid()\n",
    "plt.show()"
   ]
  },
  {
   "cell_type": "markdown",
   "metadata": {},
   "source": [
    "These results are consistent with this reference https://github.com/scikit-learn/scikit-learn/issues/13923 - albeit a slightly different design. In the reference, they use a covariance approach to the direct method which will yield similar results, but I have not thought about wether or not it will have a significant impact on execution time. Also in the reference, the execution time is checked only for the time it takes to fit the function where my functions are designed to output the array of coefficients AND the predicted values from the direct inputs. (In practice we would not want to predict over our training set, but this is just to test execution time)"
   ]
  },
  {
   "cell_type": "markdown",
   "metadata": {},
   "source": [
    "##### Summary of Results:\n",
    "\n",
    "While these results indicate useful information to consider for scientific computing with regards to execution time, it is important to mention that each method isn't without its advantages and disadvantages. I'm leaving it as an exercise for the reader determine what those advantages and disadvantages are, but here are a few observations:\n",
    "- It has been said that the QR method is more numberically stable than the numpy method. How? Why?\n",
    "- It has also been said the the SVD method is more numerically stable than the numpy method. This has also been suggested in a way at the github reference I linked above. One of the big things to mentino here is that the numpy direct method does not allow for certain types of matrices such as singular matrices where the SVD method will be more flexible in allowing this behavior due to the different formulation.\n",
    "- The covariance method looks promising, but it could suffer from the same issue with the size constraints of numpy matrices. It would be interesting to examine what kind of allocations are present during the calculation phases of the methods involved within to see how flexible it is compared to SVD.\n",
    "- We MUST consider for gradient descent that there is much more that needs to be understood to properly compare it to the other methods. The way the data is being generated for the performance calculation means a by-inspection alpha parameter optimization is not possible so we have no way of knowing if we are leaving an excessive number of iterations for the algorithm to redundantly process or if the learning rate is low making it learn at too slow of a rate for convergence in the span of those iterations, and the reverse of that may be true as well. We can confidently conclude that the shape of the performance for gradient descent should stay roughly the same and with a much sharper rate of increase than the other methods, regardless of proper optimization, the other methods should outperform it given a large enough input vector length. - The interesting question here regarding Gradient Descent is: If gradient descent performs like this compared to other methods in linear regression, if we can assume the performance is similar when used for other machine learning algorithms and cost functions, what sort of advantages does gradient descent offer to make it so popular as an optimization technique? (For one thing, not all machine learning algorithms and cost functions have closed form solutions for their parameters allowing for a direct calculation. Gradient Descent is a numerical technique that allows more flexibility for such solutions)"
   ]
  },
  {
   "cell_type": "markdown",
   "metadata": {},
   "source": [
    "##### NOTE: The specific execution times are relative to this computer's hardware!\n",
    "##### My Computer Specs: \n",
    "[ Component - Specification ]\n",
    "\n",
    "[ Model - ASUS harman/kardon ] <br>\n",
    "[ Model# - 8265NGW ] <br>\n",
    "[ CPU - Intel(R) Core(TM) i5-8250U CPU @ 1.60GHz ] <br>\n",
    "[ RAM - 8GB ] <br>\n",
    "[ GPU - Mesa DRI Intel(R) UHD Graphics 620 (Kabylake GT2) ] <br>\n",
    "[ FLAVOR,OS - Ubuntu Studio, Ubuntu 18.04.5] <br>\n",
    "[ Disk - SanDisk SD9SN8W1]"
   ]
  },
  {
   "cell_type": "markdown",
   "metadata": {},
   "source": [
    "<hr style=\"border:solid 1px\">"
   ]
  },
  {
   "cell_type": "markdown",
   "metadata": {},
   "source": [
    "### Evaluating the model (outside the scope of this tutorial)\n",
    "##### TP/TN/FP/FN\n",
    "\n",
    "?"
   ]
  },
  {
   "cell_type": "markdown",
   "metadata": {},
   "source": [
    "##### Accuracy, Recall, ... etc\n",
    "?"
   ]
  },
  {
   "cell_type": "markdown",
   "metadata": {},
   "source": [
    "##### Testing the null hypothesis\n",
    "\n",
    "https://openclassrooms.com/en/courses/5873596-design-effective-statistical-models-to-understand-your-data/6229141-build-and-interpret-a-univariate-linear-regression-model"
   ]
  },
  {
   "cell_type": "markdown",
   "metadata": {},
   "source": [
    "##### t test \n",
    "\n",
    "https://openclassrooms.com/en/courses/5873596-design-effective-statistical-models-to-understand-your-data/6229141-build-and-interpret-a-univariate-linear-regression-model"
   ]
  },
  {
   "cell_type": "markdown",
   "metadata": {},
   "source": [
    "REFERENCES:\n",
    "- https://www.stat.cmu.edu/~cshalizi/mreg/15/lectures/13/lecture-13.pdf\n",
    "- https://machinelearningmastery.com/solve-linear-regression-using-linear-algebra/\n",
    "- https://scipy-lectures.org/advanced/mathematical_optimization/\n",
    "- https://towardsdatascience.com/why-gradient-descent-isnt-enough-a-comprehensive-introduction-to-optimization-algorithms-in-59670fd5c096\n",
    "- https://scikit-learn.org/stable/auto_examples/linear_model/plot_tweedie_regression_insurance_claims.html#sphx-glr-auto-examples-linear-model-plot-tweedie-regression-insurance-claims-py\n",
    "- https://openclassrooms.com/en/courses/5873596-design-effective-statistical-models-to-understand-your-data/6229141-build-and-interpret-a-univariate-linear-regression-model\n"
   ]
  },
  {
   "cell_type": "markdown",
   "metadata": {},
   "source": [
    "<hr style=\"border:solid 1px\">"
   ]
  },
  {
   "cell_type": "markdown",
   "metadata": {},
   "source": [
    "### Application and Analysis using Univariate Linear Regression (outside the scope of this tutorial)"
   ]
  },
  {
   "cell_type": "markdown",
   "metadata": {},
   "source": [
    "Lets look at the dataset for landlord-tenant-disputes in Montgomergy county in Maryland:"
   ]
  },
  {
   "cell_type": "code",
   "execution_count": 74,
   "metadata": {},
   "outputs": [
    {
     "name": "stdout",
     "output_type": "stream",
     "text": [
      "comma-separated-values-file-1.csv  LinearRegression.ipynb\r\n"
     ]
    }
   ],
   "source": [
    "ls"
   ]
  },
  {
   "cell_type": "code",
   "execution_count": 75,
   "metadata": {},
   "outputs": [
    {
     "data": {
      "text/html": [
       "<div>\n",
       "<style scoped>\n",
       "    .dataframe tbody tr th:only-of-type {\n",
       "        vertical-align: middle;\n",
       "    }\n",
       "\n",
       "    .dataframe tbody tr th {\n",
       "        vertical-align: top;\n",
       "    }\n",
       "\n",
       "    .dataframe thead th {\n",
       "        text-align: right;\n",
       "    }\n",
       "</style>\n",
       "<table border=\"1\" class=\"dataframe\">\n",
       "  <thead>\n",
       "    <tr style=\"text-align: right;\">\n",
       "      <th></th>\n",
       "      <th>Case Number</th>\n",
       "      <th>City</th>\n",
       "      <th>Zip</th>\n",
       "      <th>Date Filed</th>\n",
       "      <th>Date Closed</th>\n",
       "      <th>Case Type</th>\n",
       "      <th>Type of Complaint</th>\n",
       "      <th>Case Disposition</th>\n",
       "      <th>Location</th>\n",
       "    </tr>\n",
       "  </thead>\n",
       "  <tbody>\n",
       "    <tr>\n",
       "      <th>0</th>\n",
       "      <td>32707</td>\n",
       "      <td>Rockville</td>\n",
       "      <td>20851</td>\n",
       "      <td>08/09/2011</td>\n",
       "      <td>08/29/2011</td>\n",
       "      <td>OLTA-TMF</td>\n",
       "      <td>Miscellaneous/Foreclosure, T want to buy</td>\n",
       "      <td>Acceptable explanation</td>\n",
       "      <td>Rockville 20851\\n(39.07701, -77.123831)</td>\n",
       "    </tr>\n",
       "    <tr>\n",
       "      <th>1</th>\n",
       "      <td>33772</td>\n",
       "      <td>Silver Spring</td>\n",
       "      <td>20901</td>\n",
       "      <td>03/27/2013</td>\n",
       "      <td>05/20/2013</td>\n",
       "      <td>OLTA-TMF</td>\n",
       "      <td>Security Deposit</td>\n",
       "      <td>Acceptable explanation</td>\n",
       "      <td>Silver Spring 20901\\n(39.020211, -77.009764)</td>\n",
       "    </tr>\n",
       "    <tr>\n",
       "      <th>2</th>\n",
       "      <td>34951</td>\n",
       "      <td>Silver Spring</td>\n",
       "      <td>20904</td>\n",
       "      <td>01/06/2015</td>\n",
       "      <td>03/20/2015</td>\n",
       "      <td>OLTA-TSF</td>\n",
       "      <td>Security Deposit</td>\n",
       "      <td>Referred to a MD State Government agency</td>\n",
       "      <td>Silver Spring 20904\\n(39.066507, -76.979098)</td>\n",
       "    </tr>\n",
       "    <tr>\n",
       "      <th>3</th>\n",
       "      <td>33829</td>\n",
       "      <td>Bethesda</td>\n",
       "      <td>20814</td>\n",
       "      <td>04/26/2013</td>\n",
       "      <td>06/27/2013</td>\n",
       "      <td>OLTA-TMF</td>\n",
       "      <td>Management</td>\n",
       "      <td>Acceptable explanation</td>\n",
       "      <td>Bethesda 20814\\n(39.003061, -77.102949)</td>\n",
       "    </tr>\n",
       "    <tr>\n",
       "      <th>4</th>\n",
       "      <td>36055</td>\n",
       "      <td>Silver Spring</td>\n",
       "      <td>20904</td>\n",
       "      <td>08/26/2016</td>\n",
       "      <td>01/24/2017</td>\n",
       "      <td>OLTA-TMF</td>\n",
       "      <td>Security Deposit</td>\n",
       "      <td>Refund (payments/deposits)</td>\n",
       "      <td>Silver Spring 20904\\n(39.066507, -76.979098)</td>\n",
       "    </tr>\n",
       "  </tbody>\n",
       "</table>\n",
       "</div>"
      ],
      "text/plain": [
       "   Case Number           City    Zip  Date Filed Date Closed Case Type  \\\n",
       "0        32707      Rockville  20851  08/09/2011  08/29/2011  OLTA-TMF   \n",
       "1        33772  Silver Spring  20901  03/27/2013  05/20/2013  OLTA-TMF   \n",
       "2        34951  Silver Spring  20904  01/06/2015  03/20/2015  OLTA-TSF   \n",
       "3        33829       Bethesda  20814  04/26/2013  06/27/2013  OLTA-TMF   \n",
       "4        36055  Silver Spring  20904  08/26/2016  01/24/2017  OLTA-TMF   \n",
       "\n",
       "                          Type of Complaint  \\\n",
       "0  Miscellaneous/Foreclosure, T want to buy   \n",
       "1                          Security Deposit   \n",
       "2                          Security Deposit   \n",
       "3                                Management   \n",
       "4                          Security Deposit   \n",
       "\n",
       "                           Case Disposition  \\\n",
       "0                    Acceptable explanation   \n",
       "1                    Acceptable explanation   \n",
       "2  Referred to a MD State Government agency   \n",
       "3                    Acceptable explanation   \n",
       "4                Refund (payments/deposits)   \n",
       "\n",
       "                                       Location  \n",
       "0       Rockville 20851\\n(39.07701, -77.123831)  \n",
       "1  Silver Spring 20901\\n(39.020211, -77.009764)  \n",
       "2  Silver Spring 20904\\n(39.066507, -76.979098)  \n",
       "3       Bethesda 20814\\n(39.003061, -77.102949)  \n",
       "4  Silver Spring 20904\\n(39.066507, -76.979098)  "
      ]
     },
     "execution_count": 75,
     "metadata": {},
     "output_type": "execute_result"
    }
   ],
   "source": [
    "df = pd.read_csv('comma-separated-values-file-1.csv')\n",
    "df.head()"
   ]
  },
  {
   "cell_type": "markdown",
   "metadata": {},
   "source": [
    "<hr style='border:solid 1px'>"
   ]
  },
  {
   "cell_type": "code",
   "execution_count": 292,
   "metadata": {},
   "outputs": [
    {
     "name": "stdout",
     "output_type": "stream",
     "text": [
      "comma-separated-values-file-1.csv         LinearRegression.ipynb\r\n",
      "Housing_Landlord-Tenant_Disputes2020.csv\r\n"
     ]
    }
   ],
   "source": [
    "ls"
   ]
  },
  {
   "cell_type": "code",
   "execution_count": 313,
   "metadata": {},
   "outputs": [
    {
     "data": {
      "text/html": [
       "<div>\n",
       "<style scoped>\n",
       "    .dataframe tbody tr th:only-of-type {\n",
       "        vertical-align: middle;\n",
       "    }\n",
       "\n",
       "    .dataframe tbody tr th {\n",
       "        vertical-align: top;\n",
       "    }\n",
       "\n",
       "    .dataframe thead th {\n",
       "        text-align: right;\n",
       "    }\n",
       "</style>\n",
       "<table border=\"1\" class=\"dataframe\">\n",
       "  <thead>\n",
       "    <tr style=\"text-align: right;\">\n",
       "      <th></th>\n",
       "      <th>Case Number</th>\n",
       "      <th>City</th>\n",
       "      <th>Zip</th>\n",
       "      <th>Date Filed</th>\n",
       "      <th>Date Closed</th>\n",
       "      <th>Case Type</th>\n",
       "      <th>Type of Complaint</th>\n",
       "      <th>Case Disposition</th>\n",
       "      <th>Location</th>\n",
       "    </tr>\n",
       "  </thead>\n",
       "  <tbody>\n",
       "    <tr>\n",
       "      <th>0</th>\n",
       "      <td>40805</td>\n",
       "      <td>SILVER SPRING</td>\n",
       "      <td>20910</td>\n",
       "      <td>06/19/2020</td>\n",
       "      <td>07/14/2020</td>\n",
       "      <td>OLTA-TMF</td>\n",
       "      <td>Rent Payment History</td>\n",
       "      <td>Complaint withdrawn</td>\n",
       "      <td>SILVER SPRING 20910\\n(39.001851, -77.034885)</td>\n",
       "    </tr>\n",
       "    <tr>\n",
       "      <th>1</th>\n",
       "      <td>40822</td>\n",
       "      <td>GAITHERSBURG</td>\n",
       "      <td>20878</td>\n",
       "      <td>07/01/2020</td>\n",
       "      <td>07/09/2020</td>\n",
       "      <td>OLTA-LSF</td>\n",
       "      <td>No Jurisdiction-Geographical</td>\n",
       "      <td>No jurisdiction</td>\n",
       "      <td>GAITHERSBURG 20878\\n(39.114215, -77.239673)</td>\n",
       "    </tr>\n",
       "    <tr>\n",
       "      <th>2</th>\n",
       "      <td>40826</td>\n",
       "      <td>GERMANTOWN</td>\n",
       "      <td>20876</td>\n",
       "      <td>07/02/2020</td>\n",
       "      <td>07/22/2020</td>\n",
       "      <td>OLTA-TMF</td>\n",
       "      <td>Lease Agreement-Early Termination</td>\n",
       "      <td>Acceptable explanation</td>\n",
       "      <td>GERMANTOWN 20876\\n(39.198155, -77.240725)</td>\n",
       "    </tr>\n",
       "    <tr>\n",
       "      <th>3</th>\n",
       "      <td>40693</td>\n",
       "      <td>MONTGOMERY VILLAGE</td>\n",
       "      <td>20886</td>\n",
       "      <td>03/20/2020</td>\n",
       "      <td>07/24/2020</td>\n",
       "      <td>OLTA-TMF</td>\n",
       "      <td>Lease Agreement-Early Termination</td>\n",
       "      <td>Refund/Rent Credit</td>\n",
       "      <td>MONTGOMERY VILLAGE 20886\\n(39.179257, -77.193738)</td>\n",
       "    </tr>\n",
       "    <tr>\n",
       "      <th>4</th>\n",
       "      <td>40784</td>\n",
       "      <td>CHEVY CHASE</td>\n",
       "      <td>20815</td>\n",
       "      <td>06/05/2020</td>\n",
       "      <td>07/10/2020</td>\n",
       "      <td>OLTA-TSF</td>\n",
       "      <td>Harassment</td>\n",
       "      <td>Complaint withdrawn</td>\n",
       "      <td>CHEVY CHASE 20815\\n(38.982537, -77.079131)</td>\n",
       "    </tr>\n",
       "  </tbody>\n",
       "</table>\n",
       "</div>"
      ],
      "text/plain": [
       "   Case Number                City    Zip  Date Filed Date Closed Case Type  \\\n",
       "0        40805       SILVER SPRING  20910  06/19/2020  07/14/2020  OLTA-TMF   \n",
       "1        40822        GAITHERSBURG  20878  07/01/2020  07/09/2020  OLTA-LSF   \n",
       "2        40826          GERMANTOWN  20876  07/02/2020  07/22/2020  OLTA-TMF   \n",
       "3        40693  MONTGOMERY VILLAGE  20886  03/20/2020  07/24/2020  OLTA-TMF   \n",
       "4        40784         CHEVY CHASE  20815  06/05/2020  07/10/2020  OLTA-TSF   \n",
       "\n",
       "                   Type of Complaint        Case Disposition  \\\n",
       "0               Rent Payment History     Complaint withdrawn   \n",
       "1       No Jurisdiction-Geographical         No jurisdiction   \n",
       "2  Lease Agreement-Early Termination  Acceptable explanation   \n",
       "3  Lease Agreement-Early Termination      Refund/Rent Credit   \n",
       "4                         Harassment     Complaint withdrawn   \n",
       "\n",
       "                                            Location  \n",
       "0       SILVER SPRING 20910\\n(39.001851, -77.034885)  \n",
       "1        GAITHERSBURG 20878\\n(39.114215, -77.239673)  \n",
       "2          GERMANTOWN 20876\\n(39.198155, -77.240725)  \n",
       "3  MONTGOMERY VILLAGE 20886\\n(39.179257, -77.193738)  \n",
       "4         CHEVY CHASE 20815\\n(38.982537, -77.079131)  "
      ]
     },
     "execution_count": 313,
     "metadata": {},
     "output_type": "execute_result"
    }
   ],
   "source": [
    "# This dataset goes up to 2020\n",
    "df2 = pd.read_csv('Housing_Landlord-Tenant_Disputes2020.csv')\n",
    "df2.head()"
   ]
  },
  {
   "cell_type": "code",
   "execution_count": 314,
   "metadata": {},
   "outputs": [],
   "source": [
    "df2['Date Filed'] = pd.to_datetime(df2['Date Filed'])\n",
    "df2 = df2.sort_values(by='Date Filed')"
   ]
  },
  {
   "cell_type": "code",
   "execution_count": 318,
   "metadata": {},
   "outputs": [
    {
     "data": {
      "text/html": [
       "<div>\n",
       "<style scoped>\n",
       "    .dataframe tbody tr th:only-of-type {\n",
       "        vertical-align: middle;\n",
       "    }\n",
       "\n",
       "    .dataframe tbody tr th {\n",
       "        vertical-align: top;\n",
       "    }\n",
       "\n",
       "    .dataframe thead th {\n",
       "        text-align: right;\n",
       "    }\n",
       "</style>\n",
       "<table border=\"1\" class=\"dataframe\">\n",
       "  <thead>\n",
       "    <tr style=\"text-align: right;\">\n",
       "      <th></th>\n",
       "      <th>Case Number</th>\n",
       "      <th>City</th>\n",
       "      <th>Zip</th>\n",
       "      <th>Date Filed</th>\n",
       "      <th>Date Closed</th>\n",
       "      <th>Case Type</th>\n",
       "      <th>Type of Complaint</th>\n",
       "      <th>Case Disposition</th>\n",
       "      <th>Location</th>\n",
       "    </tr>\n",
       "  </thead>\n",
       "  <tbody>\n",
       "    <tr>\n",
       "      <th>1061</th>\n",
       "      <td>30243</td>\n",
       "      <td>Silver Spring</td>\n",
       "      <td>20902</td>\n",
       "      <td>2008-07-01</td>\n",
       "      <td>07/16/2008</td>\n",
       "      <td>OLTA-TMF</td>\n",
       "      <td>Quit and Vacate</td>\n",
       "      <td>Complaint withdrawn</td>\n",
       "      <td>Silver Spring 20902\\n(39.042613, -77.046758)</td>\n",
       "    </tr>\n",
       "    <tr>\n",
       "      <th>3991</th>\n",
       "      <td>30231</td>\n",
       "      <td>Germantown</td>\n",
       "      <td>20876</td>\n",
       "      <td>2008-07-01</td>\n",
       "      <td>08/22/2008</td>\n",
       "      <td>OLTA-TMF</td>\n",
       "      <td>Lease Agreement</td>\n",
       "      <td>Acceptable explanation</td>\n",
       "      <td>Germantown 20876\\n(39.198155, -77.240725)</td>\n",
       "    </tr>\n",
       "    <tr>\n",
       "      <th>6421</th>\n",
       "      <td>30242</td>\n",
       "      <td>Bethesda</td>\n",
       "      <td>20814</td>\n",
       "      <td>2008-07-01</td>\n",
       "      <td>07/03/2008</td>\n",
       "      <td>OLTA-LSF</td>\n",
       "      <td>Lease Agreement</td>\n",
       "      <td>Complaint noted for the record</td>\n",
       "      <td>Bethesda 20814\\n(39.003061, -77.102949)</td>\n",
       "    </tr>\n",
       "    <tr>\n",
       "      <th>5027</th>\n",
       "      <td>30241</td>\n",
       "      <td>Kensington</td>\n",
       "      <td>20895</td>\n",
       "      <td>2008-07-01</td>\n",
       "      <td>08/14/2008</td>\n",
       "      <td>OLTA-TSF</td>\n",
       "      <td>Security Deposit</td>\n",
       "      <td>Refund (payments/deposits)</td>\n",
       "      <td>Kensington 20895\\n(39.027698, -77.077422)</td>\n",
       "    </tr>\n",
       "    <tr>\n",
       "      <th>2826</th>\n",
       "      <td>30244</td>\n",
       "      <td>Germantown</td>\n",
       "      <td>20876</td>\n",
       "      <td>2008-07-02</td>\n",
       "      <td>10/15/2008</td>\n",
       "      <td>OLTA-TSF</td>\n",
       "      <td>Lease Agreement</td>\n",
       "      <td>Refund (payments/deposits)</td>\n",
       "      <td>Germantown 20876\\n(39.198155, -77.240725)</td>\n",
       "    </tr>\n",
       "    <tr>\n",
       "      <th>...</th>\n",
       "      <td>...</td>\n",
       "      <td>...</td>\n",
       "      <td>...</td>\n",
       "      <td>...</td>\n",
       "      <td>...</td>\n",
       "      <td>...</td>\n",
       "      <td>...</td>\n",
       "      <td>...</td>\n",
       "      <td>...</td>\n",
       "    </tr>\n",
       "    <tr>\n",
       "      <th>8626</th>\n",
       "      <td>41336</td>\n",
       "      <td>SILVER SPRING</td>\n",
       "      <td>20910</td>\n",
       "      <td>2021-04-30</td>\n",
       "      <td>05/05/2021</td>\n",
       "      <td>OLTA-TMF</td>\n",
       "      <td>Lease Agreement Tenant Rights</td>\n",
       "      <td>Acceptable explanation</td>\n",
       "      <td>SILVER SPRING 20910\\n(39.001851, -77.034885)</td>\n",
       "    </tr>\n",
       "    <tr>\n",
       "      <th>8628</th>\n",
       "      <td>41348</td>\n",
       "      <td>SILVER SPRING</td>\n",
       "      <td>20906</td>\n",
       "      <td>2021-05-05</td>\n",
       "      <td>05/10/2021</td>\n",
       "      <td>OLTA-TMF</td>\n",
       "      <td>Maintenance- General</td>\n",
       "      <td>Complaint withdrawn</td>\n",
       "      <td>SILVER SPRING 20906\\n(39.083452, -77.060664)</td>\n",
       "    </tr>\n",
       "    <tr>\n",
       "      <th>8634</th>\n",
       "      <td>41354</td>\n",
       "      <td>SILVER SPRING</td>\n",
       "      <td>20906</td>\n",
       "      <td>2021-05-07</td>\n",
       "      <td>05/17/2021</td>\n",
       "      <td>OLTA-TMF</td>\n",
       "      <td>Fee</td>\n",
       "      <td>Complaint withdrawn</td>\n",
       "      <td>SILVER SPRING 20906\\n(39.083452, -77.060664)</td>\n",
       "    </tr>\n",
       "    <tr>\n",
       "      <th>8633</th>\n",
       "      <td>41366</td>\n",
       "      <td>GERMANTOWN</td>\n",
       "      <td>20874</td>\n",
       "      <td>2021-05-19</td>\n",
       "      <td>05/20/2021</td>\n",
       "      <td>OLTA-LMF</td>\n",
       "      <td>Lease Agreement</td>\n",
       "      <td>No jurisdiction</td>\n",
       "      <td>GERMANTOWN 20874\\n(39.158483, -77.280856)</td>\n",
       "    </tr>\n",
       "    <tr>\n",
       "      <th>8641</th>\n",
       "      <td>41370</td>\n",
       "      <td>SILVER SPRING</td>\n",
       "      <td>20904</td>\n",
       "      <td>2021-05-21</td>\n",
       "      <td>NaN</td>\n",
       "      <td>OLTA-TMF</td>\n",
       "      <td>Lease Agreement</td>\n",
       "      <td>Referred to a MD State Government agency</td>\n",
       "      <td>SILVER SPRING 20904\\n(39.066507, -76.979098)</td>\n",
       "    </tr>\n",
       "  </tbody>\n",
       "</table>\n",
       "<p>8646 rows × 9 columns</p>\n",
       "</div>"
      ],
      "text/plain": [
       "      Case Number           City    Zip Date Filed Date Closed Case Type  \\\n",
       "1061        30243  Silver Spring  20902 2008-07-01  07/16/2008  OLTA-TMF   \n",
       "3991        30231     Germantown  20876 2008-07-01  08/22/2008  OLTA-TMF   \n",
       "6421        30242       Bethesda  20814 2008-07-01  07/03/2008  OLTA-LSF   \n",
       "5027        30241     Kensington  20895 2008-07-01  08/14/2008  OLTA-TSF   \n",
       "2826        30244     Germantown  20876 2008-07-02  10/15/2008  OLTA-TSF   \n",
       "...           ...            ...    ...        ...         ...       ...   \n",
       "8626        41336  SILVER SPRING  20910 2021-04-30  05/05/2021  OLTA-TMF   \n",
       "8628        41348  SILVER SPRING  20906 2021-05-05  05/10/2021  OLTA-TMF   \n",
       "8634        41354  SILVER SPRING  20906 2021-05-07  05/17/2021  OLTA-TMF   \n",
       "8633        41366     GERMANTOWN  20874 2021-05-19  05/20/2021  OLTA-LMF   \n",
       "8641        41370  SILVER SPRING  20904 2021-05-21         NaN  OLTA-TMF   \n",
       "\n",
       "                  Type of Complaint                          Case Disposition  \\\n",
       "1061                Quit and Vacate                       Complaint withdrawn   \n",
       "3991                Lease Agreement                    Acceptable explanation   \n",
       "6421                Lease Agreement            Complaint noted for the record   \n",
       "5027               Security Deposit                Refund (payments/deposits)   \n",
       "2826                Lease Agreement                Refund (payments/deposits)   \n",
       "...                             ...                                       ...   \n",
       "8626  Lease Agreement Tenant Rights                    Acceptable explanation   \n",
       "8628           Maintenance- General                       Complaint withdrawn   \n",
       "8634                            Fee                       Complaint withdrawn   \n",
       "8633                Lease Agreement                           No jurisdiction   \n",
       "8641                Lease Agreement  Referred to a MD State Government agency   \n",
       "\n",
       "                                          Location  \n",
       "1061  Silver Spring 20902\\n(39.042613, -77.046758)  \n",
       "3991     Germantown 20876\\n(39.198155, -77.240725)  \n",
       "6421       Bethesda 20814\\n(39.003061, -77.102949)  \n",
       "5027     Kensington 20895\\n(39.027698, -77.077422)  \n",
       "2826     Germantown 20876\\n(39.198155, -77.240725)  \n",
       "...                                            ...  \n",
       "8626  SILVER SPRING 20910\\n(39.001851, -77.034885)  \n",
       "8628  SILVER SPRING 20906\\n(39.083452, -77.060664)  \n",
       "8634  SILVER SPRING 20906\\n(39.083452, -77.060664)  \n",
       "8633     GERMANTOWN 20874\\n(39.158483, -77.280856)  \n",
       "8641  SILVER SPRING 20904\\n(39.066507, -76.979098)  \n",
       "\n",
       "[8646 rows x 9 columns]"
      ]
     },
     "execution_count": 318,
     "metadata": {},
     "output_type": "execute_result"
    }
   ],
   "source": [
    "df2"
   ]
  },
  {
   "cell_type": "code",
   "execution_count": 325,
   "metadata": {},
   "outputs": [
    {
     "data": {
      "text/plain": [
       "<matplotlib.axes._subplots.AxesSubplot at 0x7ff9793b1d68>"
      ]
     },
     "execution_count": 325,
     "metadata": {},
     "output_type": "execute_result"
    },
    {
     "data": {
      "image/png": "[encoded data removed]",
      "text/plain": [
       "<Figure size 432x288 with 1 Axes>"
      ]
     },
     "metadata": {},
     "output_type": "display_data"
    }
   ],
   "source": [
    "tmp = df2\n",
    "tmp['Date Filed'].hist()"
   ]
  },
  {
   "cell_type": "code",
   "execution_count": 375,
   "metadata": {},
   "outputs": [
    {
     "data": {
      "text/plain": [
       "<matplotlib.axes._subplots.AxesSubplot at 0x7ff9585a28d0>"
      ]
     },
     "execution_count": 375,
     "metadata": {},
     "output_type": "execute_result"
    },
    {
     "data": {
      "image/png": "[encoded data removed]",
      "text/plain": [
       "<Figure size 432x288 with 1 Axes>"
      ]
     },
     "metadata": {},
     "output_type": "display_data"
    }
   ],
   "source": [
    "tmp = df2[df2['Case Disposition']=='Acceptable explanation']\n",
    "tmp['Date Filed'].hist()"
   ]
  },
  {
   "cell_type": "code",
   "execution_count": 378,
   "metadata": {},
   "outputs": [
    {
     "data": {
      "text/plain": [
       "(2008-06-26 07:32:09.599999999, 2009-06-26 11:04:36.923076864]    107\n",
       "(2009-06-26 11:04:36.923076864, 2010-06-21 22:09:13.846153728]    164\n",
       "(2010-06-21 22:09:13.846153728, 2011-06-17 09:13:50.769230848]    202\n",
       "(2011-06-17 09:13:50.769230848, 2012-06-11 20:18:27.692307712]    172\n",
       "(2012-06-11 20:18:27.692307712, 2013-06-07 07:23:04.615384576]    133\n",
       "(2013-06-07 07:23:04.615384576, 2014-06-02 18:27:41.538461440]    122\n",
       "(2014-06-02 18:27:41.538461440, 2015-05-29 05:32:18.461538560]    172\n",
       "(2015-05-29 05:32:18.461538560, 2016-05-23 16:36:55.384615424]    179\n",
       "(2016-05-23 16:36:55.384615424, 2017-05-19 03:41:32.307692288]    164\n",
       "(2017-05-19 03:41:32.307692288, 2018-05-14 14:46:09.230769152]    135\n",
       "(2018-05-14 14:46:09.230769152, 2019-05-10 01:50:46.153846272]    159\n",
       "(2019-05-10 01:50:46.153846272, 2020-05-04 12:55:23.076923136]    148\n",
       "(2020-05-04 12:55:23.076923136, 2021-04-30]                       104\n",
       "Name: Date Filed, dtype: int64"
      ]
     },
     "execution_count": 378,
     "metadata": {},
     "output_type": "execute_result"
    }
   ],
   "source": [
    "tmp['Date Filed'].value_counts(bins=13).sort_index()"
   ]
  },
  {
   "cell_type": "code",
   "execution_count": 379,
   "metadata": {},
   "outputs": [
    {
     "data": {
      "text/plain": [
       "([<matplotlib.axis.XTick at 0x7ff9583da160>,\n",
       "  <matplotlib.axis.XTick at 0x7ff958459438>,\n",
       "  <matplotlib.axis.XTick at 0x7ff9583c4828>,\n",
       "  <matplotlib.axis.XTick at 0x7ff9583859e8>,\n",
       "  <matplotlib.axis.XTick at 0x7ff958385eb8>,\n",
       "  <matplotlib.axis.XTick at 0x7ff95838c3c8>,\n",
       "  <matplotlib.axis.XTick at 0x7ff95838c908>,\n",
       "  <matplotlib.axis.XTick at 0x7ff95838ce80>,\n",
       "  <matplotlib.axis.XTick at 0x7ff95838cf60>,\n",
       "  <matplotlib.axis.XTick at 0x7ff958392320>,\n",
       "  <matplotlib.axis.XTick at 0x7ff958392828>,\n",
       "  <matplotlib.axis.XTick at 0x7ff958392da0>,\n",
       "  <matplotlib.axis.XTick at 0x7ff958399358>],\n",
       " <a list of 13 Text xticklabel objects>)"
      ]
     },
     "execution_count": 379,
     "metadata": {},
     "output_type": "execute_result"
    },
    {
     "data": {
      "image/png": "[encoded data removed]",
      "text/plain": [
       "<Figure size 432x288 with 1 Axes>"
      ]
     },
     "metadata": {},
     "output_type": "display_data"
    }
   ],
   "source": [
    "test = tmp['Date Filed'].value_counts(bins=13).sort_index()\n",
    "plt.scatter( np.arange(0,len(test)),test )\n",
    "plt.plot( np.arange(0,len(test.values)),test.values )\n",
    "plt.xticks(np.arange(0,13),['2008','2009','2010','2011','2012','2013','2014','2015','2016','2017','2018','2019','2020'])"
   ]
  },
  {
   "cell_type": "markdown",
   "metadata": {},
   "source": [
    "<hr style='border:solid 1px'>"
   ]
  },
  {
   "cell_type": "code",
   "execution_count": 286,
   "metadata": {},
   "outputs": [
    {
     "data": {
      "text/plain": [
       "([0,\n",
       "  1,\n",
       "  2,\n",
       "  3,\n",
       "  4,\n",
       "  5,\n",
       "  6,\n",
       "  7,\n",
       "  8,\n",
       "  9,\n",
       "  10,\n",
       "  11,\n",
       "  12,\n",
       "  13,\n",
       "  14,\n",
       "  15,\n",
       "  16,\n",
       "  17,\n",
       "  18,\n",
       "  19,\n",
       "  20,\n",
       "  21,\n",
       "  22,\n",
       "  23,\n",
       "  24,\n",
       "  25,\n",
       "  26,\n",
       "  27,\n",
       "  28,\n",
       "  29,\n",
       "  30,\n",
       "  31,\n",
       "  32,\n",
       "  33,\n",
       "  34],\n",
       " <a list of 35 Text xticklabel objects>)"
      ]
     },
     "execution_count": 286,
     "metadata": {},
     "output_type": "execute_result"
    },
    {
     "data": {
      "image/png": "[encoded data removed]",
      "text/plain": [
       "<Figure size 2880x1440 with 1 Axes>"
      ]
     },
     "metadata": {},
     "output_type": "display_data"
    }
   ],
   "source": [
    "plt.figure(figsize=(40,20))\n",
    "df['Case Disposition'].hist(bins=100)\n",
    "plt.xticks(rotation=90)"
   ]
  },
  {
   "cell_type": "code",
   "execution_count": 281,
   "metadata": {},
   "outputs": [
    {
     "data": {
      "text/plain": [
       "Acceptable explanation                                 1640\n",
       "Refund (payments/deposits)                              951\n",
       "Service performed or corrected                          851\n",
       "Settlement Agreement                                    693\n",
       "Referred to a MD State Government agency                589\n",
       "Complaint withdrawn                                     570\n",
       "Referred to a Montgomery County Agency                  350\n",
       "Referred to Landlord-Tenant Commission                  242\n",
       "Refund/Rent Credit                                      227\n",
       "Non-jurisdiction-Geographic Location                    216\n",
       "Complaint noted for the record                          173\n",
       "No jurisdiction                                         135\n",
       "Other- no communication from tenant                     108\n",
       "Non-jurisdiction-Room Rental                             98\n",
       "Lease completion                                         75\n",
       "Duplicate Case                                           59\n",
       "Other referral (private attorney/legal aid/etc.)         56\n",
       "Goods delivered or replaced                              31\n",
       "Lease provision honored                                  25\n",
       "Dismissed by Landlord-Tenant Commission                  16\n",
       "Case Reopened                                            12\n",
       "Extended Tenancy                                         12\n",
       "Case mistakenly opened                                   12\n",
       "Final walk through                                        9\n",
       "Relocation payments                                       9\n",
       "Legal Action Filed                                        6\n",
       "Non-jurisdiction-Rental Application-Referred to OCA       5\n",
       "Referred to a Federal agency                              4\n",
       "Refer to Code Enforcement                                 4\n",
       "Case can not be found                                     2\n",
       "Appealed to Circuit Court                                 2\n",
       "Non-jurisdiction-Cooperative housing unit                 1\n",
       "Referred to HOC                                           1\n",
       "Referred to States Attorney's Office                      1\n",
       "Case mistakenly closed                                    1\n",
       "Name: Case Disposition, dtype: int64"
      ]
     },
     "execution_count": 281,
     "metadata": {},
     "output_type": "execute_result"
    }
   ],
   "source": [
    "df['Case Disposition'].value_counts()"
   ]
  },
  {
   "cell_type": "code",
   "execution_count": 290,
   "metadata": {},
   "outputs": [
    {
     "data": {
      "text/plain": [
       "<matplotlib.axes._subplots.AxesSubplot at 0x7ff95dc4d4a8>"
      ]
     },
     "execution_count": 290,
     "metadata": {},
     "output_type": "execute_result"
    },
    {
     "data": {
      "image/png": "[encoded data removed]",
      "text/plain": [
       "<Figure size 432x288 with 1 Axes>"
      ]
     },
     "metadata": {},
     "output_type": "display_data"
    }
   ],
   "source": [
    "df[df['Case Disposition']=='Acceptable explanation']['Date Filed'].hist()"
   ]
  },
  {
   "cell_type": "code",
   "execution_count": 84,
   "metadata": {},
   "outputs": [
    {
     "data": {
      "text/html": [
       "<div>\n",
       "<style scoped>\n",
       "    .dataframe tbody tr th:only-of-type {\n",
       "        vertical-align: middle;\n",
       "    }\n",
       "\n",
       "    .dataframe tbody tr th {\n",
       "        vertical-align: top;\n",
       "    }\n",
       "\n",
       "    .dataframe thead th {\n",
       "        text-align: right;\n",
       "    }\n",
       "</style>\n",
       "<table border=\"1\" class=\"dataframe\">\n",
       "  <thead>\n",
       "    <tr style=\"text-align: right;\">\n",
       "      <th></th>\n",
       "      <th>Case Number</th>\n",
       "      <th>City</th>\n",
       "      <th>Zip</th>\n",
       "      <th>Date Filed</th>\n",
       "      <th>Date Closed</th>\n",
       "      <th>Case Type</th>\n",
       "      <th>Type of Complaint</th>\n",
       "      <th>Case Disposition</th>\n",
       "      <th>Location</th>\n",
       "    </tr>\n",
       "  </thead>\n",
       "  <tbody>\n",
       "    <tr>\n",
       "      <th>4559</th>\n",
       "      <td>30242</td>\n",
       "      <td>Bethesda</td>\n",
       "      <td>20814</td>\n",
       "      <td>2008-07-01</td>\n",
       "      <td>07/03/2008</td>\n",
       "      <td>OLTA-LSF</td>\n",
       "      <td>Lease Agreement</td>\n",
       "      <td>Complaint noted for the record</td>\n",
       "      <td>Bethesda 20814\\n(39.003061, -77.102949)</td>\n",
       "    </tr>\n",
       "    <tr>\n",
       "      <th>1746</th>\n",
       "      <td>30243</td>\n",
       "      <td>Silver Spring</td>\n",
       "      <td>20902</td>\n",
       "      <td>2008-07-01</td>\n",
       "      <td>07/16/2008</td>\n",
       "      <td>OLTA-TMF</td>\n",
       "      <td>Quit and Vacate</td>\n",
       "      <td>Complaint withdrawn</td>\n",
       "      <td>Silver Spring 20902\\n(39.042613, -77.046758)</td>\n",
       "    </tr>\n",
       "    <tr>\n",
       "      <th>2298</th>\n",
       "      <td>30231</td>\n",
       "      <td>Germantown</td>\n",
       "      <td>20876</td>\n",
       "      <td>2008-07-01</td>\n",
       "      <td>08/22/2008</td>\n",
       "      <td>OLTA-TMF</td>\n",
       "      <td>Lease Agreement</td>\n",
       "      <td>Acceptable explanation</td>\n",
       "      <td>Germantown 20876\\n(39.198155, -77.240725)</td>\n",
       "    </tr>\n",
       "    <tr>\n",
       "      <th>2184</th>\n",
       "      <td>30241</td>\n",
       "      <td>Kensington</td>\n",
       "      <td>20895</td>\n",
       "      <td>2008-07-01</td>\n",
       "      <td>08/14/2008</td>\n",
       "      <td>OLTA-TSF</td>\n",
       "      <td>Security Deposit</td>\n",
       "      <td>Refund (payments/deposits)</td>\n",
       "      <td>Kensington 20895\\n(39.027698, -77.077422)</td>\n",
       "    </tr>\n",
       "    <tr>\n",
       "      <th>5720</th>\n",
       "      <td>30246</td>\n",
       "      <td>Silver Spring</td>\n",
       "      <td>20906</td>\n",
       "      <td>2008-07-02</td>\n",
       "      <td>08/20/2008</td>\n",
       "      <td>OLTA-TMF</td>\n",
       "      <td>Rent Increase</td>\n",
       "      <td>Other- no communication from tenant</td>\n",
       "      <td>Silver Spring 20906\\n(39.083452, -77.060664)</td>\n",
       "    </tr>\n",
       "  </tbody>\n",
       "</table>\n",
       "</div>"
      ],
      "text/plain": [
       "      Case Number           City    Zip Date Filed Date Closed Case Type  \\\n",
       "4559        30242       Bethesda  20814 2008-07-01  07/03/2008  OLTA-LSF   \n",
       "1746        30243  Silver Spring  20902 2008-07-01  07/16/2008  OLTA-TMF   \n",
       "2298        30231     Germantown  20876 2008-07-01  08/22/2008  OLTA-TMF   \n",
       "2184        30241     Kensington  20895 2008-07-01  08/14/2008  OLTA-TSF   \n",
       "5720        30246  Silver Spring  20906 2008-07-02  08/20/2008  OLTA-TMF   \n",
       "\n",
       "     Type of Complaint                     Case Disposition  \\\n",
       "4559   Lease Agreement       Complaint noted for the record   \n",
       "1746   Quit and Vacate                  Complaint withdrawn   \n",
       "2298   Lease Agreement               Acceptable explanation   \n",
       "2184  Security Deposit           Refund (payments/deposits)   \n",
       "5720     Rent Increase  Other- no communication from tenant   \n",
       "\n",
       "                                          Location  \n",
       "4559       Bethesda 20814\\n(39.003061, -77.102949)  \n",
       "1746  Silver Spring 20902\\n(39.042613, -77.046758)  \n",
       "2298     Germantown 20876\\n(39.198155, -77.240725)  \n",
       "2184     Kensington 20895\\n(39.027698, -77.077422)  \n",
       "5720  Silver Spring 20906\\n(39.083452, -77.060664)  "
      ]
     },
     "execution_count": 84,
     "metadata": {},
     "output_type": "execute_result"
    }
   ],
   "source": [
    "df = df.sort_values(by='Date Filed')\n",
    "df.head()"
   ]
  },
  {
   "cell_type": "code",
   "execution_count": 242,
   "metadata": {},
   "outputs": [
    {
     "name": "stderr",
     "output_type": "stream",
     "text": [
      "/usr/lib/python3/dist-packages/ipykernel_launcher.py:2: FutureWarning: The pandas.datetime class is deprecated and will be removed from pandas in a future version. Import from datetime instead.\n",
      "  \n"
     ]
    },
    {
     "data": {
      "text/plain": [
       "<matplotlib.axes._subplots.AxesSubplot at 0x7ff9610ccc18>"
      ]
     },
     "execution_count": 242,
     "metadata": {},
     "output_type": "execute_result"
    },
    {
     "data": {
      "image/png": "[encoded data removed]",
      "text/plain": [
       "<Figure size 720x360 with 1 Axes>"
      ]
     },
     "metadata": {},
     "output_type": "display_data"
    }
   ],
   "source": [
    "plt.figure(figsize=(10,5))\n",
    "df[df['Date Filed']<=pd.datetime(2011,1,1)]['Date Filed'].hist()"
   ]
  },
  {
   "cell_type": "code",
   "execution_count": 268,
   "metadata": {},
   "outputs": [
    {
     "name": "stderr",
     "output_type": "stream",
     "text": [
      "/usr/lib/python3/dist-packages/ipykernel_launcher.py:1: FutureWarning: The pandas.datetime class is deprecated and will be removed from pandas in a future version. Import from datetime instead.\n",
      "  \"\"\"Entry point for launching an IPython kernel.\n"
     ]
    },
    {
     "data": {
      "text/plain": [
       "(2010-09-28 21:36:00, 2010-12-29]                       226\n",
       "(2010-03-30 16:48:00, 2010-06-29 19:12:00]              224\n",
       "(2010-06-29 19:12:00, 2010-09-28 21:36:00]              218\n",
       "(2009-06-30 09:36:00, 2009-09-29 12:00:00]              198\n",
       "(2009-12-29 14:24:00, 2010-03-30 16:48:00]              194\n",
       "(2008-06-30 02:08:09.599999999, 2008-09-30 02:24:00]    185\n",
       "(2009-09-29 12:00:00, 2009-12-29 14:24:00]              181\n",
       "(2008-12-30 04:48:00, 2009-03-31 07:12:00]              176\n",
       "(2009-03-31 07:12:00, 2009-06-30 09:36:00]              160\n",
       "(2008-09-30 02:24:00, 2008-12-30 04:48:00]              159\n",
       "Name: Date Filed, dtype: int64"
      ]
     },
     "metadata": {},
     "output_type": "display_data"
    },
    {
     "name": "stderr",
     "output_type": "stream",
     "text": [
      "/usr/lib/python3/dist-packages/ipykernel_launcher.py:2: FutureWarning: The pandas.datetime class is deprecated and will be removed from pandas in a future version. Import from datetime instead.\n",
      "  \n"
     ]
    },
    {
     "data": {
      "text/plain": [
       "(2008-06-30 02:08:09.599999999, 2008-09-30 02:24:00]    185\n",
       "(2008-09-30 02:24:00, 2008-12-30 04:48:00]              159\n",
       "(2008-12-30 04:48:00, 2009-03-31 07:12:00]              176\n",
       "(2009-03-31 07:12:00, 2009-06-30 09:36:00]              160\n",
       "(2009-06-30 09:36:00, 2009-09-29 12:00:00]              198\n",
       "(2009-09-29 12:00:00, 2009-12-29 14:24:00]              181\n",
       "(2009-12-29 14:24:00, 2010-03-30 16:48:00]              194\n",
       "(2010-03-30 16:48:00, 2010-06-29 19:12:00]              224\n",
       "(2010-06-29 19:12:00, 2010-09-28 21:36:00]              218\n",
       "(2010-09-28 21:36:00, 2010-12-29]                       226\n",
       "Name: Date Filed, dtype: int64"
      ]
     },
     "metadata": {},
     "output_type": "display_data"
    },
    {
     "name": "stderr",
     "output_type": "stream",
     "text": [
      "/usr/lib/python3/dist-packages/ipykernel_launcher.py:3: FutureWarning: The pandas.datetime class is deprecated and will be removed from pandas in a future version. Import from datetime instead.\n",
      "  This is separate from the ipykernel package so we can avoid doing imports until\n"
     ]
    }
   ],
   "source": [
    "display( df[df['Date Filed']<=pd.datetime(2011,1,1)]['Date Filed'].value_counts(bins=10) )\n",
    "display(df[df['Date Filed']<=pd.datetime(2011,1,1)]['Date Filed'].value_counts(bins=10).sort_index())\n",
    "tmp = df[df['Date Filed']<=pd.datetime(2011,1,1)]['Date Filed'].value_counts(bins=10).sort_index().values"
   ]
  },
  {
   "cell_type": "code",
   "execution_count": 269,
   "metadata": {},
   "outputs": [
    {
     "data": {
      "text/plain": [
       "<matplotlib.legend.Legend at 0x7ff96129df98>"
      ]
     },
     "execution_count": 269,
     "metadata": {},
     "output_type": "execute_result"
    },
    {
     "data": {
      "image/png": "[encoded data removed]",
      "text/plain": [
       "<Figure size 720x720 with 1 Axes>"
      ]
     },
     "metadata": {},
     "output_type": "display_data"
    }
   ],
   "source": [
    "# Time Series slice of dataset showing a linear trend from 2008 through 2011\n",
    "plt.figure(figsize=(10,10))\n",
    "plt.scatter(np.arange(0,len(tmp )),tmp,label='frequency points')\n",
    "plt.plot(np.arange(0,len(tmp)),tmp,c='green', label='lineplot')\n",
    "plt.xticks(np.arange(0,12),['2008-07','2008-10','2009-01','2009-04','2009-07','2009-10','2010-01','2010-04','2010-07','2010-07','2011-01'])\n",
    "plt.title('Title')\n",
    "plt.xlabel('Date')\n",
    "plt.ylabel('frequency')\n",
    "plt.grid()\n",
    "plt.legend()"
   ]
  },
  {
   "cell_type": "code",
   "execution_count": 244,
   "metadata": {},
   "outputs": [
    {
     "name": "stderr",
     "output_type": "stream",
     "text": [
      "/usr/lib/python3/dist-packages/ipykernel_launcher.py:2: FutureWarning: The pandas.datetime class is deprecated and will be removed from pandas in a future version. Import from datetime instead.\n",
      "  \n"
     ]
    },
    {
     "data": {
      "text/plain": [
       "<matplotlib.axes._subplots.AxesSubplot at 0x7ff960f0e630>"
      ]
     },
     "execution_count": 244,
     "metadata": {},
     "output_type": "execute_result"
    },
    {
     "data": {
      "image/png": "[encoded data removed]",
      "text/plain": [
       "<Figure size 720x360 with 1 Axes>"
      ]
     },
     "metadata": {},
     "output_type": "display_data"
    }
   ],
   "source": [
    "plt.figure(figsize=(10,5))\n",
    "df[df['Date Filed']>=pd.datetime(2011,1,1)]['Date Filed'].hist()"
   ]
  },
  {
   "cell_type": "code",
   "execution_count": 266,
   "metadata": {},
   "outputs": [
    {
     "name": "stderr",
     "output_type": "stream",
     "text": [
      "/usr/lib/python3/dist-packages/ipykernel_launcher.py:2: FutureWarning: The pandas.datetime class is deprecated and will be removed from pandas in a future version. Import from datetime instead.\n",
      "  \n"
     ]
    },
    {
     "data": {
      "text/plain": [
       "(2011-01-02 23:57:07.199999999, 2011-11-02 04:48:00]    666\n",
       "(2011-11-02 04:48:00, 2012-08-28 09:36:00]              482\n",
       "(2012-08-28 09:36:00, 2013-06-24 14:24:00]              517\n",
       "(2013-06-24 14:24:00, 2014-04-20 19:12:00]              484\n",
       "(2014-04-20 19:12:00, 2015-02-15]                       596\n",
       "(2015-02-15, 2015-12-12 04:48:00]                       580\n",
       "(2015-12-12 04:48:00, 2016-10-07 09:36:00]              538\n",
       "(2016-10-07 09:36:00, 2017-08-03 14:24:00]              478\n",
       "(2017-08-03 14:24:00, 2018-05-30 19:12:00]              503\n",
       "(2018-05-30 19:12:00, 2019-03-27]                       421\n",
       "Name: Date Filed, dtype: int64"
      ]
     },
     "metadata": {},
     "output_type": "display_data"
    },
    {
     "name": "stderr",
     "output_type": "stream",
     "text": [
      "/usr/lib/python3/dist-packages/ipykernel_launcher.py:3: FutureWarning: The pandas.datetime class is deprecated and will be removed from pandas in a future version. Import from datetime instead.\n",
      "  This is separate from the ipykernel package so we can avoid doing imports until\n"
     ]
    },
    {
     "data": {
      "text/plain": [
       "array([666, 482, 517, 484, 596, 580, 538, 478, 503, 421])"
      ]
     },
     "metadata": {},
     "output_type": "display_data"
    },
    {
     "name": "stderr",
     "output_type": "stream",
     "text": [
      "/usr/lib/python3/dist-packages/ipykernel_launcher.py:4: FutureWarning: The pandas.datetime class is deprecated and will be removed from pandas in a future version. Import from datetime instead.\n",
      "  after removing the cwd from sys.path.\n"
     ]
    }
   ],
   "source": [
    "# Frequency data after 2011\n",
    "display(df[df['Date Filed']>=pd.datetime(2011,1,1)]['Date Filed'].value_counts(bins=10).sort_index())\n",
    "display(df[df['Date Filed']>=pd.datetime(2011,1,1)]['Date Filed'].value_counts(bins=10).sort_index().values)\n",
    "tmp = df[df['Date Filed']>=pd.datetime(2011,1,1)]['Date Filed'].value_counts(bins=10).sort_index().values"
   ]
  },
  {
   "cell_type": "code",
   "execution_count": 267,
   "metadata": {},
   "outputs": [
    {
     "data": {
      "text/plain": [
       "<matplotlib.legend.Legend at 0x7ff9617d1898>"
      ]
     },
     "execution_count": 267,
     "metadata": {},
     "output_type": "execute_result"
    },
    {
     "data": {
      "image/png": "[encoded data removed]",
      "text/plain": [
       "<Figure size 720x720 with 1 Axes>"
      ]
     },
     "metadata": {},
     "output_type": "display_data"
    }
   ],
   "source": [
    "# Time Series slice of dataset showing a linear trend from 2008 through 2011\n",
    "plt.figure(figsize=(10,10))\n",
    "plt.scatter(np.arange(0,len( tmp )),tmp,label='frequency points')\n",
    "plt.plot(np.arange(0,len( tmp )),tmp,c='green', label='lineplot')\n",
    "# plt.xticks(np.arange(0,12),['2008-07','2008-10','2009-01','2009-04','2009-07','2009-10','2010-01','2010-04','2010-07','2010-07','2011-01'])\n",
    "plt.title('Title')\n",
    "plt.xlabel('Date')\n",
    "plt.ylabel('frequency')\n",
    "plt.grid()\n",
    "plt.legend()"
   ]
  },
  {
   "cell_type": "code",
   "execution_count": 247,
   "metadata": {},
   "outputs": [
    {
     "data": {
      "text/plain": [
       "<matplotlib.axes._subplots.AxesSubplot at 0x7ff960ea64e0>"
      ]
     },
     "execution_count": 247,
     "metadata": {},
     "output_type": "execute_result"
    },
    {
     "data": {
      "image/png": "[encoded data removed]",
      "text/plain": [
       "<Figure size 720x360 with 1 Axes>"
      ]
     },
     "metadata": {},
     "output_type": "display_data"
    }
   ],
   "source": [
    "plt.figure(figsize=(10,5))\n",
    "df['Date Filed'].hist(bins=10)"
   ]
  },
  {
   "cell_type": "code",
   "execution_count": 264,
   "metadata": {},
   "outputs": [
    {
     "data": {
      "text/plain": [
       "(2008-06-27 01:53:45.599999999, 2009-06-22 10:54:32.727272704]    653\n",
       "(2009-06-22 10:54:32.727272704, 2010-06-13 21:49:05.454545408]    781\n",
       "(2010-06-13 21:49:05.454545408, 2011-06-05 08:43:38.181818112]    790\n",
       "(2011-06-05 08:43:38.181818112, 2012-05-26 19:38:10.909090816]    692\n",
       "(2012-05-26 19:38:10.909090816, 2013-05-18 06:32:43.636363776]    604\n",
       "(2013-05-18 06:32:43.636363776, 2014-05-09 17:27:16.363636224]    586\n",
       "(2014-05-09 17:27:16.363636224, 2015-05-01 04:21:49.090909184]    669\n",
       "(2015-05-01 04:21:49.090909184, 2016-04-21 15:16:21.818181888]    658\n",
       "(2016-04-21 15:16:21.818181888, 2017-04-13 02:10:54.545454592]    651\n",
       "(2017-04-13 02:10:54.545454592, 2018-04-04 13:05:27.272727296]    600\n",
       "(2018-04-04 13:05:27.272727296, 2019-03-27]                       502\n",
       "Name: Date Filed, dtype: int64"
      ]
     },
     "metadata": {},
     "output_type": "display_data"
    },
    {
     "name": "stdout",
     "output_type": "stream",
     "text": [
      "\n",
      "\n"
     ]
    },
    {
     "data": {
      "text/plain": [
       "array([653, 781, 790, 692, 604, 586, 669, 658, 651, 600, 502])"
      ]
     },
     "metadata": {},
     "output_type": "display_data"
    }
   ],
   "source": [
    "# Frequency date over all time\n",
    "display(df['Date Filed'].value_counts(bins=11).sort_index())\n",
    "print('\\n')\n",
    "display(df['Date Filed'].value_counts(bins=11).sort_index().values)\n",
    "tmp = df['Date Filed'].value_counts(bins=11).sort_index().values"
   ]
  },
  {
   "cell_type": "code",
   "execution_count": 265,
   "metadata": {},
   "outputs": [
    {
     "data": {
      "text/plain": [
       "<matplotlib.legend.Legend at 0x7ff9618f27f0>"
      ]
     },
     "execution_count": 265,
     "metadata": {},
     "output_type": "execute_result"
    },
    {
     "data": {
      "image/png": "[encoded data removed]",
      "text/plain": [
       "<Figure size 720x720 with 1 Axes>"
      ]
     },
     "metadata": {},
     "output_type": "display_data"
    }
   ],
   "source": [
    "# Time Series slice of dataset showing a linear trend from 2008 through 2011\n",
    "plt.figure(figsize=(10,10))\n",
    "plt.scatter(np.arange(0,len( tmp )),tmp,label='frequency points')\n",
    "plt.plot(np.arange(0,len( tmp )),tmp,c='green', label='lineplot')\n",
    "# plt.xticks(np.arange(0,12),['2008-07','2008-10','2009-01','2009-04','2009-07','2009-10','2010-01','2010-04','2010-07','2010-07','2011-01'])\n",
    "plt.title('Title')\n",
    "plt.xlabel('Date')\n",
    "plt.ylabel('frequency')\n",
    "plt.grid()\n",
    "plt.legend()"
   ]
  },
  {
   "cell_type": "code",
   "execution_count": 320,
   "metadata": {},
   "outputs": [
    {
     "name": "stderr",
     "output_type": "stream",
     "text": [
      "/usr/lib/python3/dist-packages/ipykernel_launcher.py:1: FutureWarning: The pandas.datetime class is deprecated and will be removed from pandas in a future version. Import from datetime instead.\n",
      "  \"\"\"Entry point for launching an IPython kernel.\n"
     ]
    },
    {
     "data": {
      "image/png": "[encoded data removed]",
      "text/plain": [
       "<Figure size 432x288 with 1 Axes>"
      ]
     },
     "metadata": {},
     "output_type": "display_data"
    }
   ],
   "source": [
    "lin_data = df[df['Date Filed']<=pd.datetime(2011,1,1)]['Date Filed'].value_counts(bins=10).sort_index().values\n",
    "plt.scatter( np.arange(0,len( lin_data )), lin_data )\n",
    "plt.grid()"
   ]
  },
  {
   "cell_type": "code",
   "execution_count": null,
   "metadata": {},
   "outputs": [],
   "source": []
  }
 ],
 "metadata": {
  "kernelspec": {
   "display_name": "myenv",
   "language": "python",
   "name": "myenv"
  },
  "language_info": {
   "codemirror_mode": {
    "name": "ipython",
    "version": 3
   },
   "file_extension": ".py",
   "mimetype": "text/x-python",
   "name": "python",
   "nbconvert_exporter": "python",
   "pygments_lexer": "ipython3",
   "version": "3.6.9"
  }
 },
 "nbformat": 4,
 "nbformat_minor": 4
}
