{
 "cells": [
  {
   "cell_type": "markdown",
   "metadata": {},
   "source": [
    "# Machine Learning - Simple? Complex? Effective.\n",
    "## (Episode 1 - Univariate Linear Regression)"
   ]
  },
  {
   "cell_type": "markdown",
   "metadata": {},
   "source": [
    "<hr style=\"border:solid 1px\">"
   ]
  },
  {
   "cell_type": "markdown",
   "metadata": {},
   "source": [
    "### What is Univariate Linear Regression?\n",
    "\n",
    "<i>Univariate Linear Regression</i> is a model that fits a linear function to an observable feature graphed against a target variable. It is univariate because only a single feature is used to model the output variable. A model that fits a linear function of multiple observable features the same way is <i>Multivariate Linear Regression.</i>"
   ]
  },
  {
   "cell_type": "markdown",
   "metadata": {},
   "source": [
    "<hr style=\"border:solid 1px\">"
   ]
  },
  {
   "cell_type": "markdown",
   "metadata": {},
   "source": [
    "### How does it work?"
   ]
  },
  {
   "cell_type": "markdown",
   "metadata": {},
   "source": [
    "We will be looking at simple linear regression first. Therefore, our hypothesis function is the equation of a line defined from algebra as:\n",
    "<br><br>\n",
    "<center>$ y = mx + b $</center>"
   ]
  },
  {
   "cell_type": "markdown",
   "metadata": {},
   "source": [
    "is the same as,\n",
    "<center>$ h(x) = \\theta_1 x + \\theta_0  $</center>\n",
    "<div style=\"text-align: right\"> (1) </div>\n",
    "<br>"
   ]
  },
  {
   "cell_type": "markdown",
   "metadata": {},
   "source": [
    "However, when trying to fit a linear model to data points, there will also always exist some error between those the true values and predicted values. This is known as the residual error. Including the residual error and looking at the ith dependant value, (1) becomes:\n",
    "<br>\n",
    "<center>$ y_i = \\theta_1 x_i + \\theta_0 + e_i$</center> where $e_i$ is the ith residual error.\n",
    "<br><br>"
   ]
  },
  {
   "cell_type": "markdown",
   "metadata": {},
   "source": [
    "If we rearrange this equation, then we see that the ith residual error value is:<br>\n",
    "<center>$ e_i = (\\theta_1 x_1 + \\theta_0) - y_i$</center><br>\n",
    "<br>"
   ]
  },
  {
   "cell_type": "markdown",
   "metadata": {},
   "source": [
    "Given $n$ datapoints, let $\\bf{X}$ be the $(2 \\times n)$ design matrix:<br>\n",
    "<center>$\\bf{X} = \n",
    "\\begin{bmatrix}\n",
    "1 \\ x_1 \\\\\n",
    "1 \\ x_2 \\\\\n",
    "... \\ ... \\\\\n",
    "1 \\ x_n\n",
    "\\end{bmatrix}\n",
    "$</center>"
   ]
  },
  {
   "cell_type": "markdown",
   "metadata": {},
   "source": [
    "and $\\boldsymbol{\\theta}$ be the $(2 \\times 1)$parameter matrix\n",
    "<center>$\n",
    "\\boldsymbol{\\theta} = \\vec{\\theta} =\n",
    "\\begin{bmatrix}\n",
    "\\theta_0 \\\\\n",
    "\\theta_1\n",
    "\\end{bmatrix}\n",
    "$</center>"
   ]
  },
  {
   "cell_type": "markdown",
   "metadata": {},
   "source": [
    "and $\\textbf{e}$ be the $(n\\times 1)$ residual error matrix:\n",
    "<center>$\n",
    "\\textbf{e} = \\vec{e} =\n",
    "\\begin{bmatrix}\n",
    "e_1 \\\\\n",
    "e_2 \\\\\n",
    "\\dots \\\\\n",
    "e_n\n",
    "\\end{bmatrix}\n",
    "$</center>"
   ]
  },
  {
   "cell_type": "markdown",
   "metadata": {},
   "source": [
    "and $\\textbf{Y}$ be the $(n \\times 1)$ matrix of actual values:\n",
    "<center>$\n",
    "\\textbf{Y} = \\vec{y} =\n",
    "\\begin{bmatrix}\n",
    "y_1 \\\\\n",
    "y_2 \\\\\n",
    "\\dots \\\\\n",
    "y_n\n",
    "\\end{bmatrix}\n",
    "$</center>\n",
    "<br>"
   ]
  },
  {
   "cell_type": "markdown",
   "metadata": {},
   "source": [
    "<center>$ \\boldsymbol{\\hat{Y}}=\\bf{X}\\boldsymbol{\\theta} =\n",
    "\\begin{bmatrix}\n",
    "\\theta_0 + \\theta_1 x_1 \\\\\n",
    "\\theta_0 + \\theta_1 x_2 \\\\\n",
    "\\dots \\\\\n",
    "\\theta_0 + \\theta_1 x_n \\\\\n",
    "\\end{bmatrix}\n",
    "$</center>"
   ]
  },
  {
   "cell_type": "markdown",
   "metadata": {},
   "source": [
    "Then,our original equation in matrix form looks like:<br>\n",
    "<center>$ \\bf{Y_{model}} = \\textbf{X} \\boldsymbol{\\theta} + \\textbf{e} $</center> <div style=\"text-align: right\"> (2) </div> where "
   ]
  },
  {
   "cell_type": "markdown",
   "metadata": {},
   "source": [
    "<div style=\"text-align: right\"> (3) </div>"
   ]
  },
  {
   "cell_type": "markdown",
   "metadata": {},
   "source": [
    "The total residual error is then:<br>\n",
    "<center>$\\textbf{e} = \\sum_{i=1}^n{e_i} = \\sum_{i=1}^n(\\theta_1 x_i + \\theta_0) - y_i = \\boldsymbol{\\hat{Y}}-\\textbf{Y} = \\boldsymbol{X} \\cdot \\boldsymbol{\\theta} - \\boldsymbol{Y} = \\boldsymbol{X}\\boldsymbol{\\theta} - \\textbf{Y}$</center>"
   ]
  },
  {
   "cell_type": "markdown",
   "metadata": {},
   "source": [
    "This implies that the residual error is the following:<br>\n",
    "<center>$ \\textbf{e} = \\bf{\\hat{Y}}-\\bf{Y} = \\textbf{X}\\boldsymbol{\\theta} - \\textbf{Y} $</center>\n",
    "<br>"
   ]
  },
  {
   "cell_type": "markdown",
   "metadata": {},
   "source": [
    "In order for $\\textbf{e}$ to have defined values, given $\\textbf{X}$ and $\\textbf{Y}$, we need to determine the coefficients or parameters $\\vec{\\theta}$. There are several estimation techniques available to achieve this."
   ]
  },
  {
   "cell_type": "markdown",
   "metadata": {},
   "source": [
    "##### Estimation Techniques\n",
    "\n",
    "- Ordinary Least Squares\n",
    "- Weighted Least Squares\n",
    "- Generalized Least Squares\n",
    "- Maximum liklihood estimation\n",
    "- Ridge Regression\n",
    "- Least Absolute Deviation\n",
    "- Adaptive estimation\n",
    "- Bayesian linear regression\n",
    "- quantile regression\n",
    "- mixed models\n",
    "- principle component regression\n",
    "- least angle regression\n",
    "- theil-sen estimator\n",
    "- alpha trimmed mean\n",
    "- etc\n",
    "- GRADIENT DESCENT\n",
    "More on estimators here: https://en.wikipedia.org/wiki/Linear_regression\n",
    "and here: https://en.wikipedia.org/wiki/List_of_algorithms#Optimization_algorithms"
   ]
  },
  {
   "cell_type": "markdown",
   "metadata": {},
   "source": [
    "##### <b>The Mean Squared Estimation Technique</b>"
   ]
  },
  {
   "cell_type": "markdown",
   "metadata": {},
   "source": [
    "Each parameter estimation method has advantages and disadvantages, for this demonstration we will look at the mean squares regression method.\n",
    "\n",
    "We can define the <b>Loss Function $(L)$</b> as the error associated with a single data entry from our dataset. For Mean Squared Estimation, this means we use the least square loss. Previously, we defined the residual error as\n",
    "<center>$e_i = (\\theta_1 x_i + \\theta_0) - y_i$</center>\n",
    "<br>"
   ]
  },
  {
   "cell_type": "markdown",
   "metadata": {},
   "source": [
    "Redefining the value of a single true dependent variable as $y_i$ and the value of a single predicted dependent variables as $y_p = (\\theta_1 x_i + \\theta_0)$,<br>\n",
    "<br>"
   ]
  },
  {
   "cell_type": "markdown",
   "metadata": {},
   "source": [
    "This suggests that our squared loss (which is of a single data entry) is then\n",
    "<center>$L = (e_i)^2 = [(\\theta_1 x_i + \\theta_0) - y_i]^2 = [y_p-y_i]^2$</center>\n",
    "<br>"
   ]
  },
  {
   "cell_type": "markdown",
   "metadata": {},
   "source": [
    "From the loss function, we define the <b>Cost Function $(J)$</b> as the error asscoated with our entire dataset. To go from Squared Loss as our loss function to Mean Squared Loss as our cost function, we take the average over all squared errors in our dataset:<br>\n",
    "<center>$\\frac{1}{n}\\sum_{i=1}^{n} L = \\frac{1}{n}\\sum_{i=1}^{n} [y^{pred}_i-y^{true}_i]^2 = (\\boldsymbol{\\hat{Y}} - \\textbf{Y})^2$</center>\n",
    "<center>$ = \\frac{1}{n}\\sum_{i=1}^{n} [(\\theta_1 x_i + \\theta_0)-y^{true}_i]^2 = \\frac{1}{n} (\\textbf{X} \\cdot \\boldsymbol{\\theta}-\\textbf{Y})^2$</center>\n",
    "<br>"
   ]
  },
  {
   "cell_type": "markdown",
   "metadata": {},
   "source": [
    "For this method, optimal parameter values are defined when the sum of the mean squared error is minimized. Or, when<br>\n",
    "\n",
    "<center>$ \\large \\frac{e^2}{n} = \\frac{ \\textbf{e}^T \\textbf{e} }{n} = \\frac{ || \\textbf{X}\\boldsymbol{\\theta}-\\textbf{Y} ||^2 }{n} $</center>\n",
    "<br>\n",
    "is minimized. In this \n",
    "case, the mean squared error has been chosen as our cost function.\n",
    "<br>"
   ]
  },
  {
   "cell_type": "markdown",
   "metadata": {},
   "source": [
    "Now, in expanded form the mean squared error is\n",
    "$$ \n",
    "MSE(\\textbf{e}) = \n",
    "\\frac{ \\textbf{e}^T \\textbf{e} }{n} = \n",
    "\\frac{1}{n}\n",
    "(\\textbf{X}\\boldsymbol{\\theta}-\\textbf{Y})^T (\\textbf{X}\\boldsymbol{\\theta}-\\textbf{Y}) = \n",
    "\\frac{1}{n}\n",
    "(\\textbf{X}^T \\boldsymbol{\\theta}^T \\textbf{X}\\boldsymbol{\\theta} - \n",
    "\\textbf{Y}^T \\textbf{X} \\boldsymbol{\\theta} - \n",
    " \\textbf{Y} \\textbf{X}^T \\boldsymbol{\\theta}^T + \n",
    "\\textbf{Y}^T \\textbf{Y} )\n",
    "$$\n",
    "$$\n",
    "=\n",
    "\\frac{1}{n}(\n",
    "\\textbf{X}^T \\boldsymbol{\\theta}^T \\textbf{X}\\boldsymbol{\\theta} -\n",
    "2 \\textbf{Y} \\textbf{X}^T \\boldsymbol{\\theta}^T +\n",
    "\\textbf{Y}^T \\textbf{Y}\n",
    ")\n",
    "$$\n"
   ]
  },
  {
   "cell_type": "markdown",
   "metadata": {},
   "source": [
    "The minimum value of this $MSE(\\textbf{e})$ occurs when the derivative of the $MSE(\\textbf{e})$ with respect to the error or when \n",
    "<br><br>\n",
    "$$\\frac{\\partial MSE(\\textbf{e})}{\\partial \\boldsymbol{\\theta}} = 0$$"
   ]
  },
  {
   "cell_type": "markdown",
   "metadata": {},
   "source": [
    "This implies,\n",
    "<center>$\n",
    "\\frac{1}{n}\n",
    "\\frac{\\partial}{\\partial \\boldsymbol{\\theta}} (\n",
    "\\textbf{X}^T \\boldsymbol{\\theta}^T \\textbf{X}\\boldsymbol{\\theta} -\n",
    "2 \\textbf{Y} \\textbf{X}^T \\boldsymbol{\\theta}^T +\n",
    "\\textbf{Y}^T \\textbf{Y}\n",
    ") \n",
    "= 0 \n",
    "$</center>"
   ]
  },
  {
   "cell_type": "markdown",
   "metadata": {},
   "source": [
    "$\n",
    "\\implies 0 = \n",
    "2 \\textbf{X}^T \\textbf{X} \\boldsymbol{\\theta} - 2 \\textbf{Y} \\textbf{X}^T + 0\n",
    "$<br>"
   ]
  },
  {
   "cell_type": "markdown",
   "metadata": {},
   "source": [
    "$\n",
    "\\implies  \\textbf{X}^T \\textbf{X} \\boldsymbol{\\theta} =  \\textbf{Y} \\textbf{X}^T\n",
    "$<br>"
   ]
  },
  {
   "cell_type": "markdown",
   "metadata": {},
   "source": [
    "$\n",
    "\\implies  \\boldsymbol{\\theta_{min}} = (\\textbf{X}^T \\textbf{X})^{-1} \\textbf{Y} \\textbf{X}^T\n",
    "$"
   ]
  },
  {
   "cell_type": "markdown",
   "metadata": {},
   "source": [
    "To prove that this value for $\\boldsymbol{\\theta}$ is the minimum, we use <u>the second derivative test</u>:\n",
    "<br><br>\n",
    "<center>$\n",
    "\\implies \n",
    "\\frac{\\partial}{\\partial \\boldsymbol{\\theta}}\n",
    "(\\textbf{X}^T \\textbf{X} \\boldsymbol{\\theta} - \\textbf{Y} \\textbf{X}^T)\n",
    "= \\textbf{X}^T \\textbf{X}\n",
    "$</center>"
   ]
  },
  {
   "cell_type": "markdown",
   "metadata": {},
   "source": [
    "since\n",
    "<center>$\n",
    " \\textbf{X}^T \\textbf{X}\n",
    "\\gt 0\n",
    "$</center>\n",
    "this will always be positive, it is positive definite and is the minimum we seek"
   ]
  },
  {
   "cell_type": "markdown",
   "metadata": {},
   "source": [
    "Lastly, to find our predictions with our now known mimized parameter values, we simply use equation () and plug in the values as shown here:\n",
    "<br><br>\n",
    "$$\n",
    "\\hat{\\textbf{Y}} = \\textbf{X} \\boldsymbol{\\theta_{min}}\n",
    "$$"
   ]
  },
  {
   "cell_type": "markdown",
   "metadata": {},
   "source": [
    "<hr style=\"border:solid 1px\">"
   ]
  },
  {
   "cell_type": "markdown",
   "metadata": {},
   "source": [
    "### Linear Regression modelling in python:"
   ]
  },
  {
   "cell_type": "code",
   "execution_count": 1,
   "metadata": {
    "ExecuteTime": {
     "end_time": "2021-08-30T02:08:53.947162Z",
     "start_time": "2021-08-30T02:08:53.352076Z"
    }
   },
   "outputs": [],
   "source": [
    "# Imports\n",
    "import numpy as np\n",
    "from numpy.linalg import inv\n",
    "from numpy.linalg import qr\n",
    "from numpy.linalg import pinv\n",
    "import pandas as pd\n",
    "import matplotlib.pyplot as plt\n",
    "import seaborn as sns\n",
    "from ipynb.fs.full.func_time_script import *\n",
    "from sklearn.linear_model import LinearRegression"
   ]
  },
  {
   "cell_type": "code",
   "execution_count": 12,
   "metadata": {
    "ExecuteTime": {
     "end_time": "2021-08-30T02:08:57.736666Z",
     "start_time": "2021-08-30T02:08:57.733010Z"
    }
   },
   "outputs": [],
   "source": [
    "def gen_data(vec_len):\n",
    "    \"\"\"\n",
    "    Function to generate the random data we will use for the execution of the various models\n",
    "    \"\"\"\n",
    "    #Y = th0 + th1*X = 3 + 2 * X\n",
    "    x_0, x_1 = np.ones(vec_len), np.random.standard_normal(vec_len)    \n",
    "    X = np.column_stack((x_0,x_1))\n",
    "    e = np.random.standard_normal(vec_len)\n",
    "#     y = np.random.standard_normal(vec_len)\n",
    "    return X, 3 + 2*X[:,1]+e #X,y"
   ]
  },
  {
   "cell_type": "markdown",
   "metadata": {},
   "source": [
    "##### The Direct Way"
   ]
  },
  {
   "cell_type": "code",
   "execution_count": 26,
   "metadata": {},
   "outputs": [
    {
     "data": {
      "text/plain": [
       "array([0.121509  , 0.22383888, 0.32616875, 0.41275557, 0.4757278 ])"
      ]
     },
     "execution_count": 26,
     "metadata": {},
     "output_type": "execute_result"
    }
   ],
   "source": [
    "# For fun, in 2 lines of code, without known parameter values\n",
    "\n",
    "# Define data\n",
    "X,y = np.array([ [1,0.05],[1,0.18],[1,0.31],[1,0.42],[1,0.5] ]), np.array([0.12,0.22,0.35,0.38,0.49])\n",
    "\n",
    "# Calculate yhat predictions\n",
    "X @ (inv( X.T @ X ) @ X.T @ y) "
   ]
  },
  {
   "cell_type": "code",
   "execution_count": 17,
   "metadata": {},
   "outputs": [
    {
     "data": {
      "application/javascript": [
       "\n",
       "        if (window._pyforest_update_imports_cell) { window._pyforest_update_imports_cell('import matplotlib.pyplot as plt\\nimport numpy as np'); }\n",
       "    "
      ],
      "text/plain": [
       "<IPython.core.display.Javascript object>"
      ]
     },
     "metadata": {},
     "output_type": "display_data"
    },
    {
     "data": {
      "application/javascript": [
       "\n",
       "        if (window._pyforest_update_imports_cell) { window._pyforest_update_imports_cell('import matplotlib.pyplot as plt\\nimport numpy as np'); }\n",
       "    "
      ],
      "text/plain": [
       "<IPython.core.display.Javascript object>"
      ]
     },
     "metadata": {},
     "output_type": "display_data"
    },
    {
     "data": {
      "application/javascript": [
       "\n",
       "        if (window._pyforest_update_imports_cell) { window._pyforest_update_imports_cell('import matplotlib.pyplot as plt\\nimport numpy as np'); }\n",
       "    "
      ],
      "text/plain": [
       "<IPython.core.display.Javascript object>"
      ]
     },
     "metadata": {},
     "output_type": "display_data"
    },
    {
     "data": {
      "application/javascript": [
       "\n",
       "        if (window._pyforest_update_imports_cell) { window._pyforest_update_imports_cell('import matplotlib.pyplot as plt\\nimport numpy as np'); }\n",
       "    "
      ],
      "text/plain": [
       "<IPython.core.display.Javascript object>"
      ]
     },
     "metadata": {},
     "output_type": "display_data"
    }
   ],
   "source": [
    "# Generate the data\n",
    "X,y = gen_data(100)"
   ]
  },
  {
   "cell_type": "markdown",
   "metadata": {},
   "source": [
    "Lets have a look at the data we have generated:"
   ]
  },
  {
   "cell_type": "code",
   "execution_count": 18,
   "metadata": {},
   "outputs": [
    {
     "data": {
      "application/javascript": [
       "\n",
       "        if (window._pyforest_update_imports_cell) { window._pyforest_update_imports_cell('import matplotlib.pyplot as plt\\nimport numpy as np'); }\n",
       "    "
      ],
      "text/plain": [
       "<IPython.core.display.Javascript object>"
      ]
     },
     "metadata": {},
     "output_type": "display_data"
    },
    {
     "data": {
      "text/plain": [
       "<matplotlib.collections.PathCollection at 0x7fd64a484e48>"
      ]
     },
     "execution_count": 18,
     "metadata": {},
     "output_type": "execute_result"
    },
    {
     "data": {
      "image/png": "[encoded data removed]",
      "text/plain": [
       "<Figure size 432x288 with 1 Axes>"
      ]
     },
     "metadata": {},
     "output_type": "display_data"
    }
   ],
   "source": [
    "plt.scatter(X[:,1],y)"
   ]
  },
  {
   "cell_type": "code",
   "execution_count": 19,
   "metadata": {
    "ExecuteTime": {
     "end_time": "2021-08-30T02:09:00.407700Z",
     "start_time": "2021-08-30T02:09:00.404733Z"
    }
   },
   "outputs": [],
   "source": [
    "def lr(X,y):\n",
    "    \"\"\"\n",
    "    Numpy direct method for Linear Regression\n",
    "    \"\"\"\n",
    "    \n",
    "    b = inv( X.T @ X ) @ X.T @ y\n",
    "    return b[0],b[1], X @ b #returns b,yhat"
   ]
  },
  {
   "cell_type": "code",
   "execution_count": 20,
   "metadata": {},
   "outputs": [
    {
     "ename": "NameError",
     "evalue": "name 'inv' is not defined",
     "output_type": "error",
     "traceback": [
      "\u001b[0;31m---------------------------------------------------------------------------\u001b[0m",
      "\u001b[0;31mNameError\u001b[0m                                 Traceback (most recent call last)",
      "\u001b[0;32m<ipython-input-20-dce5ca57ec43>\u001b[0m in \u001b[0;36m<module>\u001b[0;34m()\u001b[0m\n\u001b[1;32m      1\u001b[0m \u001b[0;31m# View output\u001b[0m\u001b[0;34m\u001b[0m\u001b[0;34m\u001b[0m\u001b[0;34m\u001b[0m\u001b[0m\n\u001b[0;32m----> 2\u001b[0;31m \u001b[0mlr\u001b[0m\u001b[0;34m(\u001b[0m\u001b[0mX\u001b[0m\u001b[0;34m,\u001b[0m\u001b[0my\u001b[0m\u001b[0;34m)\u001b[0m\u001b[0;34m\u001b[0m\u001b[0;34m\u001b[0m\u001b[0m\n\u001b[0m",
      "\u001b[0;32m<ipython-input-19-cc2448ae7005>\u001b[0m in \u001b[0;36mlr\u001b[0;34m(X, y)\u001b[0m\n\u001b[1;32m      4\u001b[0m     \"\"\"\n\u001b[1;32m      5\u001b[0m \u001b[0;34m\u001b[0m\u001b[0m\n\u001b[0;32m----> 6\u001b[0;31m     \u001b[0mb\u001b[0m \u001b[0;34m=\u001b[0m \u001b[0minv\u001b[0m\u001b[0;34m(\u001b[0m \u001b[0mX\u001b[0m\u001b[0;34m.\u001b[0m\u001b[0mT\u001b[0m \u001b[0;34m@\u001b[0m \u001b[0mX\u001b[0m \u001b[0;34m)\u001b[0m \u001b[0;34m@\u001b[0m \u001b[0mX\u001b[0m\u001b[0;34m.\u001b[0m\u001b[0mT\u001b[0m \u001b[0;34m@\u001b[0m \u001b[0my\u001b[0m\u001b[0;34m\u001b[0m\u001b[0;34m\u001b[0m\u001b[0m\n\u001b[0m\u001b[1;32m      7\u001b[0m     \u001b[0;32mreturn\u001b[0m \u001b[0mb\u001b[0m\u001b[0;34m[\u001b[0m\u001b[0;36m0\u001b[0m\u001b[0;34m]\u001b[0m\u001b[0;34m,\u001b[0m\u001b[0mb\u001b[0m\u001b[0;34m[\u001b[0m\u001b[0;36m1\u001b[0m\u001b[0;34m]\u001b[0m\u001b[0;34m,\u001b[0m \u001b[0mX\u001b[0m \u001b[0;34m@\u001b[0m \u001b[0mb\u001b[0m \u001b[0;31m#returns b,yhat\u001b[0m\u001b[0;34m\u001b[0m\u001b[0;34m\u001b[0m\u001b[0m\n",
      "\u001b[0;31mNameError\u001b[0m: name 'inv' is not defined"
     ]
    }
   ],
   "source": [
    "# View output\n",
    "lr(X,y)"
   ]
  },
  {
   "cell_type": "code",
   "execution_count": 1074,
   "metadata": {},
   "outputs": [
    {
     "data": {
      "text/plain": [
       "[<matplotlib.lines.Line2D at 0x7f9cf0d199b0>]"
      ]
     },
     "execution_count": 1074,
     "metadata": {},
     "output_type": "execute_result"
    },
    {
     "data": {
      "image/png": "[encoded data removed]",
      "text/plain": [
       "<Figure size 432x288 with 1 Axes>"
      ]
     },
     "metadata": {},
     "output_type": "display_data"
    }
   ],
   "source": [
    "# Plot input and prediction line\n",
    "plt.scatter(X[:,1],y)\n",
    "plt.plot(X[:,1],lr(X,y)[2],c='red')"
   ]
  },
  {
   "cell_type": "markdown",
   "metadata": {},
   "source": [
    "##### Via QR:"
   ]
  },
  {
   "cell_type": "code",
   "execution_count": 1067,
   "metadata": {},
   "outputs": [],
   "source": [
    "# Generate a new set of data\n",
    "X,y = gen_data(100)"
   ]
  },
  {
   "cell_type": "code",
   "execution_count": 4,
   "metadata": {
    "ExecuteTime": {
     "end_time": "2021-08-30T02:09:03.175408Z",
     "start_time": "2021-08-30T02:09:03.172415Z"
    }
   },
   "outputs": [],
   "source": [
    "def qr_reg(X,y):\n",
    "    \"\"\"\n",
    "    QR Decomposition method for Simple Linear Regression\n",
    "    \"\"\"\n",
    "    \n",
    "    Q, R = qr(X)\n",
    "    b = inv(R) @ (Q.T) @ y\n",
    "    return b, X @ b # returns coefficients, predictions"
   ]
  },
  {
   "cell_type": "code",
   "execution_count": 1069,
   "metadata": {},
   "outputs": [
    {
     "data": {
      "text/plain": [
       "(array([3., 2.]),\n",
       " array([ 7.43792063,  0.45361212,  3.43130717,  0.97981462,  4.68673044,\n",
       "         1.49090539,  3.01483578,  5.33766514,  2.84735156,  5.5935096 ,\n",
       "         1.55446704, -0.58746523,  1.06926919,  5.78415602,  4.54079287,\n",
       "         6.15578118,  3.14030494,  1.25597569,  5.61460291,  0.79797326,\n",
       "        -0.39450045,  5.4063178 ,  0.48841319,  1.63782324,  3.59396505,\n",
       "         2.93122256,  3.49594989,  2.55693253,  4.16121839,  2.25213579,\n",
       "         2.20147938,  0.25189205,  2.27019705,  1.37895397,  2.89655327,\n",
       "         3.64817148,  4.8897556 ,  3.34378643,  4.59664056,  5.77300248,\n",
       "         5.80158792,  4.59291454,  3.43667905,  3.56059711,  5.62311265,\n",
       "         4.100992  ,  5.97325632,  3.23286238,  1.01492359,  7.00007944,\n",
       "         3.48204328,  1.91044971,  0.44752771,  2.78936495, -0.51416641,\n",
       "         3.16688933,  1.99577105,  3.27102824,  2.58736989,  1.24404672,\n",
       "         3.04686594,  3.2978061 , -0.67504298,  2.02769015,  3.44575797,\n",
       "         3.17954674,  4.67689297,  2.142922  ,  5.34172253, -2.04069717,\n",
       "         2.12194793,  4.82729743,  2.20260734,  3.83680482,  4.53864501,\n",
       "         4.89872104,  3.37568855,  2.12508366,  7.19630758,  2.86131901,\n",
       "         5.82395536,  2.15669052,  8.59054686,  1.80335663, -1.21383678,\n",
       "         0.49502807,  3.53249158,  4.31711827,  9.19777061,  0.9215804 ,\n",
       "         2.04521471,  2.60851794,  4.15218655,  2.0057891 ,  6.75751213,\n",
       "        -2.28967409,  3.21323916,  2.33679067,  3.01482478, -1.58533801]))"
      ]
     },
     "execution_count": 1069,
     "metadata": {},
     "output_type": "execute_result"
    }
   ],
   "source": [
    "# View Output\n",
    "qr_reg(X,y)"
   ]
  },
  {
   "cell_type": "code",
   "execution_count": 1070,
   "metadata": {},
   "outputs": [
    {
     "data": {
      "text/plain": [
       "[<matplotlib.lines.Line2D at 0x7f9cf0e9b0f0>]"
      ]
     },
     "execution_count": 1070,
     "metadata": {},
     "output_type": "execute_result"
    },
    {
     "data": {
      "image/png": "[encoded data removed]",
      "text/plain": [
       "<Figure size 432x288 with 1 Axes>"
      ]
     },
     "metadata": {},
     "output_type": "display_data"
    }
   ],
   "source": [
    "# Plot input and prediction line\n",
    "plt.scatter(X[:,1], y)\n",
    "plt.plot(X[:,1], qr_reg(X,y)[1], color='red')"
   ]
  },
  {
   "cell_type": "markdown",
   "metadata": {},
   "source": [
    "##### Via SVD:"
   ]
  },
  {
   "cell_type": "code",
   "execution_count": 1063,
   "metadata": {},
   "outputs": [],
   "source": [
    "# Generate a new set of data\n",
    "X,y = gen_data(100)"
   ]
  },
  {
   "cell_type": "code",
   "execution_count": 5,
   "metadata": {
    "ExecuteTime": {
     "end_time": "2021-08-30T02:09:06.039898Z",
     "start_time": "2021-08-30T02:09:06.037287Z"
    }
   },
   "outputs": [],
   "source": [
    "def svd_reg(X,y):\n",
    "    \"\"\"\n",
    "    SVD method for Simple Linear Regression\n",
    "    \"\"\"\n",
    "    \n",
    "    b = pinv(X) @ y\n",
    "    return b, X @ b # returns coefficients, predictions"
   ]
  },
  {
   "cell_type": "code",
   "execution_count": 1065,
   "metadata": {},
   "outputs": [
    {
     "data": {
      "text/plain": [
       "(array([3., 2.]),\n",
       " array([ 1.75271121,  1.56713924,  3.53903127,  2.31489504,  0.02711106,\n",
       "         3.4769048 ,  3.99835872,  2.07260099,  0.34702336,  9.38426282,\n",
       "         1.13145914,  4.98132147,  4.28905594,  4.13876922,  5.60102999,\n",
       "         2.35274698,  4.88704657,  3.638319  ,  1.09377765,  3.36029015,\n",
       "         2.91585668,  6.76987942,  2.72227242, -1.62683505,  0.60092331,\n",
       "         3.36109839,  2.30840889,  0.47830885,  1.11928498,  5.77360306,\n",
       "         5.2269111 ,  3.41499516,  0.55964609,  3.63913359,  5.3588812 ,\n",
       "         6.37175851,  3.15305023,  5.6385504 ,  2.39462261,  2.25911909,\n",
       "        -0.93073404,  2.64575976,  1.93259933,  4.79111329,  4.05222179,\n",
       "         1.69704694,  7.7730489 ,  6.43778368,  5.8835051 ,  1.89608433,\n",
       "         4.71819576,  0.19130342,  2.66819213,  6.17994416,  4.60973164,\n",
       "         1.97438082,  6.63920922,  2.6340784 ,  4.18225665,  3.34905619,\n",
       "         2.6737097 ,  3.76286118,  4.68152526,  1.50723335,  2.6779335 ,\n",
       "         2.15278256,  0.84723768,  6.29316352,  2.10750286,  2.07100653,\n",
       "         3.92796029,  4.08953452,  1.50254491,  4.80429264, -0.97345761,\n",
       "         5.25238005,  2.05247691,  5.82537694,  2.65796833,  1.84846992,\n",
       "         1.3637853 ,  3.71963665,  4.9896496 ,  1.69684045,  1.43746816,\n",
       "         3.89834077,  5.10477897, -1.71487919,  6.11351148,  4.47821225,\n",
       "         1.4152201 ,  3.55280192,  0.7453625 ,  5.11463604,  3.41832371,\n",
       "         5.3090576 ,  3.48232343,  4.20821104,  3.0347318 ,  1.71037141]))"
      ]
     },
     "execution_count": 1065,
     "metadata": {},
     "output_type": "execute_result"
    }
   ],
   "source": [
    "# View output\n",
    "svd_reg(X,y)"
   ]
  },
  {
   "cell_type": "code",
   "execution_count": 1066,
   "metadata": {},
   "outputs": [
    {
     "data": {
      "text/plain": [
       "[<matplotlib.lines.Line2D at 0x7f9ce2ce8be0>]"
      ]
     },
     "execution_count": 1066,
     "metadata": {},
     "output_type": "execute_result"
    },
    {
     "data": {
      "image/png": "[encoded data removed]",
      "text/plain": [
       "<Figure size 432x288 with 1 Axes>"
      ]
     },
     "metadata": {},
     "output_type": "display_data"
    }
   ],
   "source": [
    "# Plot input and prediction line\n",
    "plt.scatter(X[:,1], y)\n",
    "plt.plot(X[:,1], svd_reg(X,y)[1],c='red')"
   ]
  },
  {
   "cell_type": "markdown",
   "metadata": {},
   "source": [
    "##### Via Gradient Descent:"
   ]
  },
  {
   "cell_type": "markdown",
   "metadata": {},
   "source": [
    "Even though the conjugate gradient descent method is faster and more commonly used for linear regression, we can still use the standard gradient descent method as a starting point to understand how it is implemented and its potential compared to other common methods.\n",
    "\n",
    "The so called update formula for gradient descent works like this:\n",
    "- The change in value of a parameter occurs incrementally in the direction of greatest descent as the negative value of the gradient(direction of greatest ascent) of the cost function(the function that needs optimization) multiplied by a learning rate (so it knows what step size to account for). We will call this the <b>Update Formula</b>. Mathematically, this looks like\n",
    "$$\n",
    " \\Delta \\theta_i = -\\beta \\nabla J_i\n",
    "$$\n",
    "$$\n",
    "\\implies \\theta_{i,new} = \\theta_{i,old} - \\beta \\nabla J_i\n",
    "$$\n",
    "where $\\beta$ is the learning rate and $J$ is the cost function\n",
    "\n",
    "\n",
    "Previously, we defined the <b>Hypothesis Function</b> as\n",
    "$$\n",
    "h(\\vec{\\theta}) = \\theta_0 + \\theta_1 \\textbf{X}\n",
    "$$\n",
    "and we also defined our <b>Loss Function</b> as\n",
    "$$\n",
    "L  = \\frac{1}{n} \\sum_{i=0}^{n_{data}}{[h(\\vec{\\theta})-y_i]} = \\frac{1}{n} \\sum_{i=0}^{n_{data}}{[(\\theta_0 + \\theta_1 x_i)-y_i]}\n",
    "$$\n",
    "and our <b>Cost Function</b> is\n",
    "$$\n",
    "J = MSE(L) = \\frac{1}{n} \\sum_{i=1}^n{[(\\theta_1 x_i + \\theta_0) -y_i]^2} \n",
    "$$\n",
    "and for the ith value of $J$ this becomes $(J_i)$, so $\\nabla J_i$ is\n",
    "$$\n",
    "\\nabla J_i = \\frac{\\partial J_i}{\\partial \\theta_0} \\hat{\\theta_0} +  \\frac{\\partial J_i}{\\partial \\theta_1} \\hat{\\theta_1}\n",
    "$$\n",
    "$$\n",
    "= <\\frac{\\partial J_i}{\\partial \\theta_0}, \\frac{\\partial J_i}{\\partial \\theta_1}> \n",
    "$$\n",
    "$$\n",
    "= <\\frac{2}{n}[\\theta_0 + \\theta_1 x_i-y_i], \\frac{2 x_i}{n} [\\theta_0 + \\theta_1 x_i-y_i]>\n",
    "$$\n",
    "$$\n",
    "\\implies - \\beta \\nabla J_i = <\\frac{-2\\beta}{n}[\\theta_0 + \\theta_1 x_i-y_i], \\frac{-2\\beta x_i}{n} [\\theta_0 + \\theta_1 x_i-y_i]>\n",
    "$$\n",
    "so, the final form of our update function looks like this:\n",
    "$$\n",
    "\\implies \\theta_{i,new} = \\theta_{i,old} - \\beta \\nabla J_i \n",
    "= \\theta_{i,old} - <\\frac{2\\beta}{n}[\\theta_0 + \\theta_1 x_i-y_i], \\frac{2\\beta x_i}{n} [\\theta_0 + \\theta_1 x_i-y_i]> \n",
    "$$"
   ]
  },
  {
   "cell_type": "code",
   "execution_count": 1087,
   "metadata": {},
   "outputs": [],
   "source": [
    "# Generate a new set of data\n",
    "X,y = gen_data(100)"
   ]
  },
  {
   "cell_type": "code",
   "execution_count": 6,
   "metadata": {
    "ExecuteTime": {
     "end_time": "2021-08-30T02:09:09.413751Z",
     "start_time": "2021-08-30T02:09:09.405334Z"
    }
   },
   "outputs": [],
   "source": [
    "def grad_desc(X,y,lrate,iters,n_params):\n",
    "    \"\"\"\n",
    "    Gradient Descent - formulated for linear and multiple regression.\n",
    "    \n",
    "    For 2 parameter linear regression: Use n_params = 2 and X should be a design matrix of size (n x 2) where if one\n",
    "    of the parameters is an added constant such as the b in y=mx+b, the first column of X should be a column of ones.\n",
    "    Each column corresponds to a single parameter.\n",
    "    \n",
    "    For 3+ parameter multiple linear regression: use n_params = 3(or more) with a similar design matrix (n x 3+) with\n",
    "    the consideration if one parameter is constant.\n",
    "    \n",
    "    Note: the number of n_params also dictates the size of the theta matrix. n_params = 2 implies theta is (2 x n),\n",
    "    n_params = 3+ implies theta is (3+ x n)\n",
    "    \"\"\"\n",
    "    \n",
    "    # Initialize the theta matrix and list where J values will be stored\n",
    "    theta = np.zeros(n_params)\n",
    "    J_data = []\n",
    "    \n",
    "    # Loop for the number of desired updates the algorithm will take\n",
    "    for i in range(iters):\n",
    "        \n",
    "        # Define the loss function\n",
    "        Loss = X@theta-y\n",
    "        \n",
    "        # Define the cost function and store the data from this iteration in J_data\n",
    "        J_data.append(np.sum(Loss**2)/len(X))\n",
    "        \n",
    "        # Calculate and store the value of delJ for this iteration\n",
    "        delJ = [(X[:,0] @ Loss), (X[:,1] @ Loss)]\n",
    "        \n",
    "        # Calculate and store the values of the theta matrix for this iteration\n",
    "        theta = np.array([theta[0] - 2*lrate/len(X) * delJ[0], theta[1] - 2*lrate/len(X) * delJ[1]])\n",
    "        \n",
    "    # Return the theta matrix and the cost function data\n",
    "    return theta, J_data"
   ]
  },
  {
   "cell_type": "markdown",
   "metadata": {},
   "source": [
    "##### Tuning the $\\alpha$ hyperparameter:"
   ]
  },
  {
   "cell_type": "code",
   "execution_count": 1221,
   "metadata": {},
   "outputs": [],
   "source": [
    "# Get data for various hyperparameters\n",
    "rs = [grad_desc(X,y,0.9,10000,2),grad_desc(X,y,0.5,10000,2),grad_desc(X,y,0.1,10000,2),grad_desc(X,y,0.01,10000,2),grad_desc(X,y,0.001,10000,2)]"
   ]
  },
  {
   "cell_type": "code",
   "execution_count": 1242,
   "metadata": {},
   "outputs": [
    {
     "data": {
      "image/png": "[encoded data removed]",
      "text/plain": [
       "<Figure size 1080x720 with 1 Axes>"
      ]
     },
     "metadata": {},
     "output_type": "display_data"
    }
   ],
   "source": [
    "# Visualizing the movement of the cost function J as the number of iterations increases\n",
    "\n",
    "# Initialize plot label information\n",
    "cs = ['r','b','green','yellow','black']\n",
    "ylabs = [r'J at $\\alpha=0.9$',r'J at $\\alpha=0.5$',r'J at $\\alpha=0.1$',r'J at $\\alpha=0.01$',r'J at $\\alpha=0.001$']\n",
    "labs = [r'J for $\\alpha=0.9$',r'J for $\\alpha=0.5$(best)',r'J for $\\alpha=0.1$',r'J for $\\alpha=0.01$',r'J for $\\alpha=0.001$']\n",
    "\n",
    "# Adjust figure parameters\n",
    "plt.figure(figsize=(15,10))\n",
    "plt.yscale('log')\n",
    "\n",
    "# Iteratively generate plots matching the data contained in the rs array for cost functions at various alphas\n",
    "for i in range(len(rs)):\n",
    "    \n",
    "    # Generate the plot\n",
    "    plt.plot(np.arange(0,10000),np.abs(rs[i][1]),c=cs[i],label=labs[i])\n",
    "        \n",
    "    # Adjust the plot settings    \n",
    "    plt.title(r'Num of iterations to get J=0 for set $\\alpha$')\n",
    "    plt.xlabel('number of iterations')\n",
    "    plt.ylabel(ylabs[i])\n",
    "    plt.xlim([0,100])\n",
    "    plt.legend()\n",
    "    plt.grid()"
   ]
  },
  {
   "cell_type": "markdown",
   "metadata": {},
   "source": [
    "Therefore, the value of $\\alpha$ that we know of that has fewest iterations to achieve the minimization is:\n",
    "$$\n",
    "\\alpha = 0.5\n",
    "$$\n",
    "and it achieves this in less than 10-30 iterations."
   ]
  },
  {
   "cell_type": "code",
   "execution_count": 1254,
   "metadata": {},
   "outputs": [
    {
     "name": "stdout",
     "output_type": "stream",
     "text": [
      "1000 loops, best of 3: 247 µs per loop\n"
     ]
    }
   ],
   "source": [
    "# Show the approx parameter values as calculated by gradient descent\n",
    "\n",
    "# NOTE: cannot store the output of this value unless you call -o !\n",
    "%timeit grad_desc(X,y,0.5,17,2) "
   ]
  },
  {
   "cell_type": "code",
   "execution_count": 1260,
   "metadata": {},
   "outputs": [],
   "source": [
    "th = grad_desc(X,y,0.5,17,2)[0]"
   ]
  },
  {
   "cell_type": "markdown",
   "metadata": {},
   "source": [
    "- Minor trial and error near 10-30 iterations shows that it achieves the exact values for our parameters at 17 iterations. \n",
    "- And it does this in 247 microseconds!, gradient descent really is awesome"
   ]
  },
  {
   "cell_type": "code",
   "execution_count": 1261,
   "metadata": {},
   "outputs": [
    {
     "data": {
      "text/plain": [
       "<matplotlib.legend.Legend at 0x7f9ce3641198>"
      ]
     },
     "execution_count": 1261,
     "metadata": {},
     "output_type": "execute_result"
    },
    {
     "data": {
      "image/png": "[encoded data removed]",
      "text/plain": [
       "<Figure size 432x288 with 1 Axes>"
      ]
     },
     "metadata": {},
     "output_type": "display_data"
    }
   ],
   "source": [
    "# Show the plot of predicted values over true values\n",
    "plt.scatter(X[:,1],3+2*X[:,1],label='true values')\n",
    "plt.plot(X[:,1],th[0]+th[1]*X[:,1],c='r',label='predicted values')\n",
    "plt.legend()"
   ]
  },
  {
   "cell_type": "markdown",
   "metadata": {},
   "source": [
    "https://datascience.stackexchange.com/questions/11261/linear-regression-and-learning-rate\n",
    "- plot the cost function vs iterations for certain values of learning rate and choose the learning rate with the lowest downshifted(fastest) learning rate"
   ]
  },
  {
   "cell_type": "markdown",
   "metadata": {},
   "source": [
    "##### Via Sklearn:"
   ]
  },
  {
   "cell_type": "code",
   "execution_count": 1037,
   "metadata": {},
   "outputs": [],
   "source": [
    "# Generate a new set of data\n",
    "X,y = gen_data(100)"
   ]
  },
  {
   "cell_type": "code",
   "execution_count": 1049,
   "metadata": {},
   "outputs": [
    {
     "data": {
      "text/plain": [
       "array([0., 2.])"
      ]
     },
     "execution_count": 1049,
     "metadata": {},
     "output_type": "execute_result"
    }
   ],
   "source": [
    "#R squared score of model\n",
    "reg.coef_"
   ]
  },
  {
   "cell_type": "code",
   "execution_count": 7,
   "metadata": {
    "ExecuteTime": {
     "end_time": "2021-08-30T02:09:14.762562Z",
     "start_time": "2021-08-30T02:09:14.757654Z"
    }
   },
   "outputs": [],
   "source": [
    "def sk_reg(X,y):\n",
    "    \"\"\"\n",
    "    Scikit-Learn method for Simple Linear Regression\n",
    "    \"\"\"\n",
    "    \n",
    "    reg = LinearRegression().fit(X,y)\n",
    "    return reg.intercept_, reg.coef_[1], reg.predict(X),reg.score(X,y)"
   ]
  },
  {
   "cell_type": "code",
   "execution_count": 1054,
   "metadata": {},
   "outputs": [
    {
     "name": "stdout",
     "output_type": "stream",
     "text": [
      "theta0 :\n",
      " 3.0 \n",
      "\n",
      "theta1 :\n",
      " 1.9999999999999991 \n",
      "\n",
      "predicted_values :\n",
      " [ 2.2395351   4.74893094  0.86536862  3.01065567  2.70926974  4.43063629\n",
      "  3.09948864  1.57642369  0.76726     3.26306721  3.06030429  3.68685608\n",
      "  4.15943373  4.36567061  3.02920019  3.69768028  2.0996291  -1.99213457\n",
      "  3.16826556  1.63290528  1.52860673  2.28477249  3.96832038  4.76513923\n",
      "  4.67246399  3.88270288  2.68426393  2.13341047  5.0452514   2.62605375\n",
      "  6.97943312  2.77822211  2.86568386  1.05240244  3.76059636  2.76212872\n",
      "  3.73766743  2.68846939  4.03866185  2.40588267  2.94985324  6.00834151\n",
      "  4.2578904   3.66825299  1.74825192  4.26483791  3.42329552  3.33788097\n",
      "  2.53942453  6.09928253  7.33819869 -0.64576995 -2.05207339  2.30001519\n",
      "  6.16485411  4.88386282  2.92292198  2.67515925  3.15212624  4.79555586\n",
      "  1.15970158  3.75315454  3.69582524  4.95403266  7.47650899  1.26919203\n",
      "  4.01215656  2.86460688  1.90156892  2.8730588   1.05548689  1.87822466\n",
      "  3.48255199  6.49029886  0.23955974  2.49589837  2.02899867  1.62303981\n",
      "  4.56006901  5.88258698  0.31469404  0.91000471  1.48182924  2.58962891\n",
      "  5.74788126  4.66375862  2.07743101  1.58659504  4.6520821   3.64723053\n",
      "  4.67630476  0.16482841 -1.27898028  5.9673738   4.46211156  3.86999765\n",
      "  1.26062198 -0.29422534  0.42043543  6.7901673 ] \n",
      "\n",
      "Rsquared :\n",
      " 1.0 \n",
      "\n"
     ]
    }
   ],
   "source": [
    "# View output\n",
    "r,labels = sk_reg(X,y), ['theta0','theta1','predicted_values','Rsquared']\n",
    "for idV,v in enumerate(r):\n",
    "    print(labels[idV],':\\n',v,'\\n')"
   ]
  },
  {
   "cell_type": "code",
   "execution_count": 1056,
   "metadata": {},
   "outputs": [
    {
     "data": {
      "text/plain": [
       "[<matplotlib.lines.Line2D at 0x7f9ce2dbbac8>]"
      ]
     },
     "execution_count": 1056,
     "metadata": {},
     "output_type": "execute_result"
    },
    {
     "data": {
      "image/png": "[encoded data removed]",
      "text/plain": [
       "<Figure size 432x288 with 1 Axes>"
      ]
     },
     "metadata": {},
     "output_type": "display_data"
    }
   ],
   "source": [
    "# Plot input and prediction line\n",
    "plt.scatter(X[:,1],y)\n",
    "plt.plot(X[:,1],reg.predict(X),c='red')"
   ]
  },
  {
   "cell_type": "markdown",
   "metadata": {},
   "source": [
    "##### Covariance approach used in source (alternate direct method):"
   ]
  },
  {
   "cell_type": "code",
   "execution_count": 1058,
   "metadata": {},
   "outputs": [],
   "source": [
    "# Generate a new set of data\n",
    "X,y = gen_data(100)"
   ]
  },
  {
   "cell_type": "code",
   "execution_count": 8,
   "metadata": {
    "ExecuteTime": {
     "end_time": "2021-08-30T02:09:18.337150Z",
     "start_time": "2021-08-30T02:09:18.333804Z"
    }
   },
   "outputs": [],
   "source": [
    "def cov_direct_reg(X,Y):\n",
    "    \"\"\"\n",
    "    Covariance method for Simple Linear Regression\n",
    "    \"\"\"\n",
    "    \n",
    "    b = np.linalg.solve( (X.T @ X)/X.shape[0] , (X.T @ Y)/X.shape[0] ).T # solve(cxx,cxy)\n",
    "    return b, X @ b "
   ]
  },
  {
   "cell_type": "code",
   "execution_count": 1060,
   "metadata": {},
   "outputs": [
    {
     "data": {
      "text/plain": [
       "(array([3., 2.]),\n",
       " array([ 3.89144857,  1.23120233,  3.39576862, -1.56207588,  1.43553765,\n",
       "         2.63713356,  4.06926136,  4.16200798,  2.71587388,  2.3642646 ,\n",
       "         4.89373914,  4.40433964,  6.2313897 ,  4.93806888,  3.34865901,\n",
       "         4.97142242,  1.03673895,  6.28985763,  0.08664925,  4.90348498,\n",
       "         6.84663486,  4.43994424,  6.71276465,  0.9702577 ,  3.94303343,\n",
       "         3.1567516 ,  4.05638814,  5.06903084,  4.28548575,  3.01918571,\n",
       "        -0.25743868,  0.30800728, -0.53260125,  4.35893584,  6.15525287,\n",
       "         3.45406625,  1.58048411,  3.00907837,  5.66801261,  2.99524213,\n",
       "         6.07766567, -0.68711121,  5.05975799,  3.64426878,  4.27772167,\n",
       "         0.86191875,  2.92922007,  1.69950088,  6.94294064,  3.71494056,\n",
       "        -0.18897309,  3.33603921,  1.20093162,  1.74371024,  6.4128771 ,\n",
       "         4.05383127,  0.76273929,  1.14988172,  1.84226357,  4.45229805,\n",
       "        -3.06653605,  3.35393963,  6.30964744,  4.0321224 ,  1.65964384,\n",
       "         1.8986075 ,  2.08909759,  2.0091812 ,  0.5188736 ,  2.9817252 ,\n",
       "         4.35107516,  3.07809121,  5.85491802,  5.91957557, -0.32329486,\n",
       "         2.17884632,  4.09533527,  2.30685843,  2.72358485,  2.82064739,\n",
       "        -0.7800662 ,  2.51972815,  4.06689528,  1.55604485,  3.47541437,\n",
       "         5.78136602,  5.15466113,  5.28758844,  7.2098196 ,  1.32278758,\n",
       "         0.52427315,  0.41206231,  2.73488068,  3.64904476,  2.7899349 ,\n",
       "         3.79925733,  1.53854022,  2.53978672,  1.57303855,  4.6713627 ]))"
      ]
     },
     "execution_count": 1060,
     "metadata": {},
     "output_type": "execute_result"
    }
   ],
   "source": [
    "# View output\n",
    "cov_direct_reg(X,y)"
   ]
  },
  {
   "cell_type": "code",
   "execution_count": 1062,
   "metadata": {},
   "outputs": [
    {
     "data": {
      "text/plain": [
       "[<matplotlib.lines.Line2D at 0x7f9ce3a8b710>]"
      ]
     },
     "execution_count": 1062,
     "metadata": {},
     "output_type": "execute_result"
    },
    {
     "data": {
      "image/png": "[encoded data removed]",
      "text/plain": [
       "<Figure size 432x288 with 1 Axes>"
      ]
     },
     "metadata": {},
     "output_type": "display_data"
    }
   ],
   "source": [
    "# Plot input and prediction line\n",
    "plt.scatter(X[:,1],y)\n",
    "plt.plot(X[:,1],cov_direct_reg(X,y)[1],c='red')"
   ]
  },
  {
   "cell_type": "markdown",
   "metadata": {},
   "source": [
    "NOTE: I will cover the currently popular Adam optimizer that is commonly being used in Deep Learning algorithms right now when I do a post on Deep Learning. The adam optimizer is classified as an adaptive learning rate optimizer and was developed specifically for optimizing deep learning neural networks."
   ]
  },
  {
   "cell_type": "markdown",
   "metadata": {},
   "source": [
    "### Execution time Analysis :"
   ]
  },
  {
   "cell_type": "markdown",
   "metadata": {},
   "source": [
    "##### Analysis of execution time for dot product operation by different methods including lists and numpy arrays"
   ]
  },
  {
   "cell_type": "code",
   "execution_count": 248,
   "metadata": {},
   "outputs": [],
   "source": [
    "# Initialize a few lits\n",
    "a = [1,2,3]\n",
    "b = [2,4,6]\n",
    "\n",
    "# Initialize a few numpy arrays\n",
    "A = np.array([1,2,3])\n",
    "B = np.array([2,4,6])"
   ]
  },
  {
   "cell_type": "markdown",
   "metadata": {},
   "source": [
    "Tests:"
   ]
  },
  {
   "cell_type": "code",
   "execution_count": 280,
   "metadata": {},
   "outputs": [
    {
     "name": "stdout",
     "output_type": "stream",
     "text": [
      "The slowest run took 12.17 times longer than the fastest. This could mean that an intermediate result is being cached.\n",
      "100000 loops, best of 3: 3.04 µs per loop\n",
      "\n",
      "\n",
      "The slowest run took 13.33 times longer than the fastest. This could mean that an intermediate result is being cached.\n",
      "1000000 loops, best of 3: 1.01 µs per loop\n",
      "\n",
      "\n",
      "The slowest run took 7.90 times longer than the fastest. This could mean that an intermediate result is being cached.\n",
      "100000 loops, best of 3: 2.68 µs per loop\n",
      "\n",
      "\n",
      "The slowest run took 7.41 times longer than the fastest. This could mean that an intermediate result is being cached.\n",
      "100000 loops, best of 3: 3.1 µs per loop\n",
      "\n",
      "\n",
      "The slowest run took 11.65 times longer than the fastest. This could mean that an intermediate result is being cached.\n",
      "1000000 loops, best of 3: 836 ns per loop\n"
     ]
    }
   ],
   "source": [
    "# Clock the lists and arrays on the dot product operation in various ways\n",
    "\n",
    "dts = []\n",
    "r = %timeit -o np.dot(a,b)\n",
    "dts.append(r.worst)\n",
    "print(\"\\n\")\n",
    "r = %timeit -o np.dot(A,B)\n",
    "dts.append(r.worst)\n",
    "print(\"\\n\")\n",
    "r = %timeit -o np.array(a).dot(np.array(b))\n",
    "dts.append(r.worst)\n",
    "print(\"\\n\")\n",
    "r = %timeit -o np.array(a) @ np.array(b)\n",
    "dts.append(r.worst)\n",
    "print(\"\\n\")\n",
    "r = %timeit -o A @ B\n",
    "dts.append(r.worst)"
   ]
  },
  {
   "cell_type": "code",
   "execution_count": 292,
   "metadata": {},
   "outputs": [
    {
     "data": {
      "image/png": "[encoded data removed]",
      "text/plain": [
       "<Figure size 432x288 with 1 Axes>"
      ]
     },
     "metadata": {},
     "output_type": "display_data"
    }
   ],
   "source": [
    "# Plot the results of those timings\n",
    "plt.scatter( np.arange( 0,len(dts) ), [dt*10**10 for dt in dts] )\n",
    "plt.title(\"Execution time by function\")\n",
    "plt.xlabel('function')\n",
    "plt.xticks(np.arange(0,len(dts)),['npdot_ab','npdot_AB','nparr_ab','nparr_a@b','A@B'],rotation=90)\n",
    "plt.ylabel('execution time')\n",
    "plt.grid()"
   ]
  },
  {
   "cell_type": "markdown",
   "metadata": {},
   "source": [
    "##### Summary of Results:\n",
    "- If we declare our lists as numpy lists up front, we gain a significant advantage in computing time\n",
    "- Using np.dot() method vs @ operator to calculate dot product, with multiple test runs, varies as to which runs faster. It comes down to np.dot()'s readability vs @'s simplicity"
   ]
  },
  {
   "cell_type": "markdown",
   "metadata": {},
   "source": [
    "##### Analysis of Execution time for various linear regression methods"
   ]
  },
  {
   "cell_type": "code",
   "execution_count": 1078,
   "metadata": {},
   "outputs": [
    {
     "data": {
      "text/plain": [
       "[2, 11, 101, 1001, 10001, 100001, 1000001]"
      ]
     },
     "execution_count": 1078,
     "metadata": {},
     "output_type": "execute_result"
    }
   ],
   "source": [
    "# Create an array of increasing vector lengths\n",
    "\n",
    "# Order of magnitude used to initialize vector length array\n",
    "order = 6\n",
    "\n",
    "# All vector lengths must be greater than 1, reformulate this for different functions (other than SLR)\n",
    "vec_lens = [1+10 ** n for n in range(0, order + 1)] \n",
    "\n",
    "vec_lens"
   ]
  },
  {
   "cell_type": "markdown",
   "metadata": {},
   "source": [
    "##### Generate Execution Times:"
   ]
  },
  {
   "cell_type": "code",
   "execution_count": 159,
   "metadata": {},
   "outputs": [
    {
     "data": {
      "text/plain": [
       "[0.02042166015598923,\n",
       " 0.018849170010071248,\n",
       " 0.025172499590553343,\n",
       " 0.03899155999533832,\n",
       " 0.21071514987852424,\n",
       " 1.449616810423322,\n",
       " 21.644933600910008]"
      ]
     },
     "metadata": {},
     "output_type": "display_data"
    }
   ],
   "source": [
    "# Numpy direct method execution time\n",
    "lr_direct_times = [time_func2(lr, len_, \"array\") for len_ in vec_lens]\n",
    "display(lr_direct_times)"
   ]
  },
  {
   "cell_type": "code",
   "execution_count": 160,
   "metadata": {},
   "outputs": [
    {
     "data": {
      "text/plain": [
       "[0.1661974607850425,\n",
       " 0.13649799017002806,\n",
       " 0.19442648976109922,\n",
       " 0.24257985991425812,\n",
       " 0.711922180489637,\n",
       " 3.826045149471611,\n",
       " 52.45366283081239]"
      ]
     },
     "metadata": {},
     "output_type": "display_data"
    }
   ],
   "source": [
    "# QR Decomposition method execution time\n",
    "qr_reg_times = [time_func2(qr_reg, len_, \"array\") for len_ in vec_lens]\n",
    "display(qr_reg_times)"
   ]
  },
  {
   "cell_type": "code",
   "execution_count": 161,
   "metadata": {},
   "outputs": [
    {
     "data": {
      "text/plain": [
       "[0.16893791005713865,\n",
       " 0.11382216005586088,\n",
       " 0.12940419052029029,\n",
       " 0.206772260426078,\n",
       " 1.0795528403832577,\n",
       " 5.932572980236728,\n",
       " 80.91530992940534]"
      ]
     },
     "metadata": {},
     "output_type": "display_data"
    }
   ],
   "source": [
    "# SVD method execution time\n",
    "svd_reg_times = [time_func2(svd_reg, len_, \"array\") for len_ in vec_lens]\n",
    "display(svd_reg_times)"
   ]
  },
  {
   "cell_type": "code",
   "execution_count": 162,
   "metadata": {},
   "outputs": [
    {
     "data": {
      "text/plain": [
       "[0.8690746399224736,\n",
       " 0.640966170176398,\n",
       " 0.40012003941228613,\n",
       " 0.4147944907890633,\n",
       " 2.2132831503404304,\n",
       " 14.03213015961228,\n",
       " 120.84346672927495]"
      ]
     },
     "metadata": {},
     "output_type": "display_data"
    }
   ],
   "source": [
    "# Scikit-Learn method execution time\n",
    "sk_reg_times = [time_func2(sk_reg, len_, \"array\") for len_ in vec_lens]\n",
    "display(sk_reg_times)"
   ]
  },
  {
   "cell_type": "code",
   "execution_count": 9,
   "metadata": {
    "ExecuteTime": {
     "end_time": "2021-08-30T02:09:59.878110Z",
     "start_time": "2021-08-30T02:09:59.871487Z"
    }
   },
   "outputs": [],
   "source": [
    "def time_gd(func, *args, reps=10):\n",
    "    \n",
    "    \"\"\"\n",
    "    \n",
    "    \"\"\"\n",
    "    \n",
    "    avg_time = timeit(lambda: func(*args), number=reps) / reps\n",
    "    \n",
    "    return avg_time * 1000\n",
    "\n",
    "\n",
    "def time_gd2(\n",
    "    func,\n",
    "    vector_length,\n",
    "    input_type = \"array\",\n",
    "    data_reps = 10,\n",
    "    reps = 10\n",
    "):\n",
    "    \"\"\"\n",
    "    \n",
    "    \"\"\"\n",
    "    \n",
    "    \n",
    "    total_time = 0\n",
    "    \n",
    "    for i in range(0, data_reps):\n",
    "        \n",
    "        A = np.random.standard_normal(vector_length)\n",
    "        B = np.random.standard_normal(vector_length)\n",
    "        X = np.column_stack((np.ones(len(A),dtype=int),A))\n",
    "        y = B\n",
    "        \n",
    "        try:\n",
    "            inst_time = time_gd(func, X, y, 0.9, 10, 2, reps=reps)\n",
    "        except:            \n",
    "            return print(\"1/3 Possible Errors:vector length must be greater than 1, PC must have enough RAM to allocate matrices of size (n x n), and grad_desc must have the right number of parameters set in the time_gd2 function.\")\n",
    "        total_time += inst_time\n",
    "    \n",
    "    avg_time = total_time / data_reps\n",
    "    \n",
    "    return avg_time"
   ]
  },
  {
   "cell_type": "code",
   "execution_count": 1293,
   "metadata": {},
   "outputs": [
    {
     "data": {
      "text/plain": [
       "[0.20380434056278318,\n",
       " 0.16564345045480877,\n",
       " 0.18438049010001123,\n",
       " 0.2421859500464052,\n",
       " 0.9205340297194198,\n",
       " 5.9893139998894185,\n",
       " 146.72215797938406]"
      ]
     },
     "metadata": {},
     "output_type": "display_data"
    }
   ],
   "source": [
    "# Gradient Descent method execution time\n",
    "\"\"\"\n",
    "Note: time_gd2 generates a random dataset with every use, thus its parameters are not optimized properly\n",
    "and could have its time reduced or increased were those parameters identified before calculating these times.\n",
    "\"\"\"\n",
    "gd_reg_times = [time_gd2(grad_desc, len_, \"array\") for len_ in vec_lens]\n",
    "display(gd_reg_times)"
   ]
  },
  {
   "cell_type": "code",
   "execution_count": 169,
   "metadata": {},
   "outputs": [
    {
     "data": {
      "text/plain": [
       "[0.06806040997616947,\n",
       " 0.03559557982953265,\n",
       " 0.02684448118088767,\n",
       " 0.03248780965805054,\n",
       " 0.6528268399415538,\n",
       " 1.1106951296096668,\n",
       " 13.447389130305964]"
      ]
     },
     "metadata": {},
     "output_type": "display_data"
    }
   ],
   "source": [
    "# Covariance method execution time\n",
    "cov_direct_reg_times = [time_func2(cov_direct_reg, len_, \"array\") for len_ in vec_lens]\n",
    "display(cov_direct_reg_times)"
   ]
  },
  {
   "cell_type": "markdown",
   "metadata": {},
   "source": [
    "##### Visualize execution times:"
   ]
  },
  {
   "cell_type": "code",
   "execution_count": 1295,
   "metadata": {},
   "outputs": [
    {
     "data": {
      "image/png": "[encoded data removed]",
      "text/plain": [
       "<Figure size 720x720 with 1 Axes>"
      ]
     },
     "metadata": {},
     "output_type": "display_data"
    }
   ],
   "source": [
    "plt.figure(figsize=(10,10))\n",
    "plt.plot(vec_lens, lr_direct_times, label = \"Numpy Direct Method for Linear Regression\")\n",
    "plt.plot(vec_lens, qr_reg_times, label = \"QR Method for Linear Regression\")\n",
    "plt.plot(vec_lens, svd_reg_times, label = \"SVD Method for Linear Regression\")\n",
    "plt.plot(vec_lens, sk_reg_times, label = \"Sklearn Method for Linear Regression\")\n",
    "plt.plot(vec_lens, gd_reg_times, label = \"Gradient Descent Direct Method for Linear Regression\")\n",
    "plt.plot(vec_lens, cov_direct_reg_times, label = \"Covariance Direct Method for Linear Regression\")\n",
    "plt.title(\"Time Comparison of OSL Linear Regression Functions\")\n",
    "plt.xlabel(\"Length of Vectors\")\n",
    "plt.ylabel(\"Average Time (ms)\")\n",
    "plt.legend()\n",
    "plt.grid()\n",
    "plt.show()"
   ]
  },
  {
   "cell_type": "markdown",
   "metadata": {},
   "source": [
    "These results are consistent with this reference https://github.com/scikit-learn/scikit-learn/issues/13923 - albeit a slightly different design. In the reference, they use a covariance approach to the direct method which will yield similar results, but I have not thought about wether or not it will have a significant impact on execution time. Also in the reference, the execution time is checked only for the time it takes to fit the function where my functions are designed to output the array of coefficients AND the predicted values from the direct inputs. (In practice we would not want to predict over our training set, but this is just to test execution time)"
   ]
  },
  {
   "cell_type": "markdown",
   "metadata": {},
   "source": [
    "##### Summary of Results:\n",
    "\n",
    "While these results indicate useful information to consider for scientific computing with regards to execution time, it is important to mention that each method isn't without its advantages and disadvantages. I'm leaving it as an exercise for the reader determine what those advantages and disadvantages are, but here are a few observations:\n",
    "- It has been said that the QR method is more numberically stable than the numpy method. How? Why?\n",
    "- It has also been said the the SVD method is more numerically stable than the numpy method. This has also been suggested in a way at the github reference I linked above. One of the big things to mentino here is that the numpy direct method does not allow for certain types of matrices such as singular matrices where the SVD method will be more flexible in allowing this behavior due to the different formulation.\n",
    "- The covariance method looks promising, but it could suffer from the same issue with the size constraints of numpy matrices. It would be interesting to examine what kind of allocations are present during the calculation phases of the methods involved within to see how flexible it is compared to SVD.\n",
    "- We MUST consider for gradient descent that there is much more that needs to be understood to properly compare it to the other methods. The way the data is being generated for the performance calculation means a by-inspection alpha parameter optimization is not possible so we have no way of knowing if we are leaving an excessive number of iterations for the algorithm to redundantly process or if the learning rate is low making it learn at too slow of a rate for convergence in the span of those iterations, and the reverse of that may be true as well. We can confidently conclude that the shape of the performance for gradient descent should stay roughly the same and with a much sharper rate of increase than the other methods, regardless of proper optimization, the other methods should outperform it given a large enough input vector length. - The interesting question here regarding Gradient Descent is: If gradient descent performs like this compared to other methods in linear regression, if we can assume the performance is similar when used for other machine learning algorithms and cost functions, what sort of advantages does gradient descent offer to make it so popular as an optimization technique? (For one thing, not all machine learning algorithms and cost functions have closed form solutions for their parameters allowing for a direct calculation. Gradient Descent is a numerical technique that allows more flexibility for such solutions)"
   ]
  },
  {
   "cell_type": "markdown",
   "metadata": {},
   "source": [
    "##### NOTE: The specific execution times are relative to this computer's hardware!\n",
    "##### My Computer Specs: \n",
    "[ Component - Specification ]\n",
    "\n",
    "[ Model - ASUS harman/kardon ] <br>\n",
    "[ Model# - 8265NGW ] <br>\n",
    "[ CPU - Intel(R) Core(TM) i5-8250U CPU @ 1.60GHz ] <br>\n",
    "[ RAM - 8GB ] <br>\n",
    "[ GPU - Mesa DRI Intel(R) UHD Graphics 620 (Kabylake GT2) ] <br>\n",
    "[ FLAVOR,OS - Ubuntu Studio, Ubuntu 18.04.5] <br>\n",
    "[ Disk - SanDisk SD9SN8W1]"
   ]
  }
 ],
 "metadata": {
  "kernelspec": {
   "display_name": "myenv",
   "language": "python",
   "name": "myenv"
  },
  "language_info": {
   "codemirror_mode": {
    "name": "ipython",
    "version": 3
   },
   "file_extension": ".py",
   "mimetype": "text/x-python",
   "name": "python",
   "nbconvert_exporter": "python",
   "pygments_lexer": "ipython3",
   "version": "3.6.9"
  },
  "varInspector": {
   "cols": {
    "lenName": 16,
    "lenType": 16,
    "lenVar": 40
   },
   "kernels_config": {
    "python": {
     "delete_cmd_postfix": "",
     "delete_cmd_prefix": "del ",
     "library": "var_list.py",
     "varRefreshCmd": "print(var_dic_list())"
    },
    "r": {
     "delete_cmd_postfix": ") ",
     "delete_cmd_prefix": "rm(",
     "library": "var_list.r",
     "varRefreshCmd": "cat(var_dic_list()) "
    }
   },
   "types_to_exclude": [
    "module",
    "function",
    "builtin_function_or_method",
    "instance",
    "_Feature"
   ],
   "window_display": false
  }
 },
 "nbformat": 4,
 "nbformat_minor": 4
}
