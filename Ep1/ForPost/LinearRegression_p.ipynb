{
 "cells": [
  {
   "cell_type": "markdown",
   "id": "769bfaef",
   "metadata": {},
   "source": [
    "## **Machine Learning Theory and Application Vol.1: Linear Regression**\n",
    "#### Part 1 - Intro to Univariate Linear Regresion and the Algebraic Solution Method in Python (Post#1)"
   ]
  },
  {
   "cell_type": "markdown",
   "id": "937d307d",
   "metadata": {},
   "source": [
    "### **Introduction**\n",
    "Over the course of this blog post, I am going to...\n",
    "- Explain the basic concepts of Univariate Linear Regression\n",
    "- Develop the code for this in 6 methods from scratch starting from theoretical principles\n",
    "- Give suggestions on how to choose the right method for real world application\n",
    "- Provide an example use case study with a real world dataset\n",
    "\n",
    "After understanding this information, the reader will be able to formulate some linear regression algorithms, code them from scratch, select an appropriate ULR algorithm for a dataset, and apply that algorithm to the dataset.\n",
    "\n",
    "This blog post assumes the reader has programming skills in python and mathematics skills that include linear algebra with some calculus."
   ]
  },
  {
   "cell_type": "markdown",
   "id": "c1b66244",
   "metadata": {},
   "source": [
    "### **What is Univariate Linear Regression?**\n",
    "\n",
    "<i>Univariate Linear Regression</i>(ULR) also known as <i>Simple Linear Regression</i> is a model that fits a linear function to an observable feature graphed against a target variable. It is univariate because only a single feature is used to model the output variable. A model that fits a linear function using multiple observable features is <i>Multivariate Linear Regression.</i>"
   ]
  },
  {
   "cell_type": "markdown",
   "id": "287d780e",
   "metadata": {},
   "source": [
    "### **How does it work?**\n",
    "\n",
    "An overview of the main functional parts of ULR look like this:\n",
    "- Hypothesize the form of the model we are looking for. This manifests as the common \"slope intercept form\" model in ULR and is also called the hypothesis function.\n",
    "- Define the residual error in terms of our dataset's true dependent values and our model's predicted dependent values\n",
    "- An estimation technique is chosen, and a loss function is then defined for individual datapoints in the dataset\n",
    "- From the loss function, a cost function is defined for the sum of all datapoints' losses in the dataset\n",
    "- The goal of finding the parameters is then achieved by minimizing the cost function with respect to the technique(s) of choice\n",
    "- From the minimization, the parameters are solved\n",
    "- From the parameters, we can predict new output values with input values\n",
    "\n",
    "ULR assumes our independent and dependent are linear with respect to one another. From real world data, we have a list of independent datapoints and a list of dependent datapoints. If the data is truly linear in nature, a linear regression model will be a good fit for the dataset. The term <i>fit</i> means that our model has defined values for the parameters(known slope and intercept parameters ULR) that were calculated directly from our dataset. These are calculated by assuming there is some error between the dataset's true dependent values and the dependent values predicted by our linear model. \n",
    "\n",
    "From studies in linear algebra, we should already be familiar with the form of a linear model that has a single dependent variable. This model is the familiar slope intercept form equation which looks like this:\n",
    "<br><br>\n",
    "$ y = mx + b $ \n",
    "\n",
    "Now if we wanted, we could very quickly come up with a terrible linear fit to a dataset. To demonstrate a bad fit, let's define some simple datapoints:\n",
    "<br><br>\n",
    "$x = [1,2,3,4,5]$ and $y = [2,4,6,8,10]$"
   ]
  },
  {
   "cell_type": "code",
   "execution_count": 84,
   "id": "4cace8ce-aeb7-44b7-94b4-b62d10ad3a62",
   "metadata": {},
   "outputs": [
    {
     "data": {
      "application/javascript": [
       "\n",
       "        if (window._pyforest_update_imports_cell) { window._pyforest_update_imports_cell('import numpy as np\\nimport matplotlib.pyplot as plt\\nimport pandas as pd'); }\n",
       "    "
      ],
      "text/plain": [
       "<IPython.core.display.Javascript object>"
      ]
     },
     "metadata": {},
     "output_type": "display_data"
    },
    {
     "data": {
      "text/html": [
       "<div>\n",
       "<style scoped>\n",
       "    .dataframe tbody tr th:only-of-type {\n",
       "        vertical-align: middle;\n",
       "    }\n",
       "\n",
       "    .dataframe tbody tr th {\n",
       "        vertical-align: top;\n",
       "    }\n",
       "\n",
       "    .dataframe thead th {\n",
       "        text-align: right;\n",
       "    }\n",
       "</style>\n",
       "<table border=\"1\" class=\"dataframe\">\n",
       "  <thead>\n",
       "    <tr style=\"text-align: right;\">\n",
       "      <th></th>\n",
       "      <th>x</th>\n",
       "      <th>y</th>\n",
       "    </tr>\n",
       "  </thead>\n",
       "  <tbody>\n",
       "    <tr>\n",
       "      <th>0</th>\n",
       "      <td>1</td>\n",
       "      <td>2</td>\n",
       "    </tr>\n",
       "    <tr>\n",
       "      <th>1</th>\n",
       "      <td>2</td>\n",
       "      <td>4</td>\n",
       "    </tr>\n",
       "    <tr>\n",
       "      <th>2</th>\n",
       "      <td>3</td>\n",
       "      <td>6</td>\n",
       "    </tr>\n",
       "    <tr>\n",
       "      <th>3</th>\n",
       "      <td>4</td>\n",
       "      <td>8</td>\n",
       "    </tr>\n",
       "    <tr>\n",
       "      <th>4</th>\n",
       "      <td>5</td>\n",
       "      <td>10</td>\n",
       "    </tr>\n",
       "  </tbody>\n",
       "</table>\n",
       "</div>"
      ],
      "text/plain": [
       "   x   y\n",
       "0  1   2\n",
       "1  2   4\n",
       "2  3   6\n",
       "3  4   8\n",
       "4  5  10"
      ]
     },
     "metadata": {},
     "output_type": "display_data"
    }
   ],
   "source": [
    "df = pd.DataFrame({'x':[1,2,3,4,5],'y':[2,4,6,8,10]})\n",
    "display(df)"
   ]
  },
  {
   "cell_type": "code",
   "execution_count": 82,
   "id": "4fccc768-2051-4871-9a37-9cd14ff25127",
   "metadata": {},
   "outputs": [
    {
     "data": {
      "image/png": "[encoded data removed]",
      "text/plain": [
       "<Figure size 432x288 with 1 Axes>"
      ]
     },
     "metadata": {
      "needs_background": "light"
     },
     "output_type": "display_data"
    }
   ],
   "source": [
    "plt.scatter(df['x'],df['y'])\n",
    "plt.title(\"Simple dataset\")\n",
    "plt.xlabel('x')\n",
    "plt.ylabel('y')\n",
    "plt.grid();"
   ]
  },
  {
   "cell_type": "markdown",
   "id": "0fbd6213-f6d2-41f9-a8c2-830e20c9b1dc",
   "metadata": {},
   "source": [
    "we can see that assuming $m = 13.37$ and $b = 50$ such that\n",
    "<br><br>\n",
    "$y = 13.37x + 50$"
   ]
  },
  {
   "cell_type": "code",
   "execution_count": 78,
   "id": "763be3a3-82cf-41ed-8c32-bdd74ab86113",
   "metadata": {
    "tags": []
   },
   "outputs": [
    {
     "data": {
      "image/png": "[encoded data removed]",
      "text/plain": [
       "<Figure size 432x288 with 1 Axes>"
      ]
     },
     "metadata": {
      "needs_background": "light"
     },
     "output_type": "display_data"
    }
   ],
   "source": [
    "# Plot the datapoints\n",
    "plt.scatter(df['x'],df['y'], label='datapoint')\n",
    "\n",
    "# Get and predicted datapoints for and plot the regression line\n",
    "y_preds = 13.37*df['x']+50\n",
    "plt.plot(df['x'],y_preds, label='bad regression fit')\n",
    "\n",
    "# Plot the predicted intercept (b_predicted)\n",
    "plt.scatter(1,50+13.37, label='assumed intercept')\n",
    "\n",
    "# Plot the true intercept of our data (b_true)\n",
    "plt.scatter(1,0, label='true intercept')\n",
    "\n",
    "# Visualize the magnitude of error between the predicted and true intercept parameter as a red line\n",
    "plt.plot(np.ones(50),np.arange(1,(50+13.37),(50+13.37)/50), c='red', label='how bad our intercept parameter is')\n",
    "\n",
    "\n",
    "plt.title(\"Simple dataset with bad regression fit\")\n",
    "plt.xlabel('x')\n",
    "plt.ylabel('y')\n",
    "plt.legend()\n",
    "plt.grid()"
   ]
  },
  {
   "cell_type": "markdown",
   "id": "e186826a-4098-4872-a2a4-38472f4fee68",
   "metadata": {},
   "source": [
    "Note: The above figure is displaying the error of predicted intercept parameter to true intercept parameter(This is only the residual error of the first datapoint). This highlights the fact that our parameter values are terrible.\n",
    "\n",
    "<br><br>\n",
    "This a poor choice of parameters because our line will start at an excessively high value for $y$ and have an extremely tall slope. We would say that the error or distance from the datapoints generated by the regression line to the datapoints in our dataset will be very high (Our x and y data's true regression line is at $y = 2x+2$). \n",
    "<br><br>\n",
    "Then the question becomes, <b>how do we make this error as small as possible?</b> That is, how do we minimize the error between our model's datapoints and our dataset's datapoints? We can now introduce a solution method to achieve this regression line. The method we will discuss in this post is the Mean Squared Estimation method. Before that, let's formally define the rest of our theory so we can jump right into the solution methods.\n",
    "\n",
    "\n",
    "Starting from the first equation, we get the hypothesis function $h(x)$ for this model:\n",
    "<br><br>\n",
    "$ h(x) = \\theta_1 x + \\theta_0  $\n",
    "<!-- <div style=\"text-align: right\"> (1) </div> -->\n",
    "\n",
    "<br>\n",
    "In supervised machine learning, we define the <b>hypothesis function</b> as the function we believe best models the target values.\n",
    "\n",
    "<br>\n",
    "These will be our predicted values and we can define them in terms of predicted value $y^{(p)}$ where $y^{(p)}_i$ is the ith predicted value as:\n",
    "<br><br>\n",
    "$y^{(p)}_i = \\theta_1 x_i + \\theta_0$\n",
    "<br><br>\n",
    "and $x_i$ is the ith independent value. The values for $x_i$ come directly from our dataset.\n",
    "<br><br>\n",
    "\n",
    "\n",
    "Next, we define the true dependent values as $y^{(t)}$ where $y^{(t)}_i$ is the ith true dependent value. This also comes directly from our dataset.\n",
    "<br><br>\n",
    "\n",
    "When trying to fit a linear model to data points, there will also always exist some error between those the true values and predicted values. This is known as the residual error. We say that the predicted depedent value is the true dependent value plus some residual error. In mathematical form:\n",
    "<br><br>\n",
    "$ y^{(p)}_i = y^{(t)}_i + e_i$\n",
    "<br>\n",
    "$ \\implies \\theta_1 x_i + \\theta_0 = y^{(t)} + e_i$\n",
    "<br><br>\n",
    "where $e_i$ is the ith residual error.\n",
    "<br><br>\n",
    "\n",
    "\n",
    "If we rearrange this equation, then we see that the ith residual error value is:<br>\n",
    "<br>\n",
    "$ e_i = y^{(p)}_i - y^{(t)}_i$\n",
    "<br>\n",
    "$ = (\\theta_1 x_1 + \\theta_0) - y^{(t)}_i$\n",
    "<br><br>"
   ]
  },
  {
   "cell_type": "markdown",
   "id": "4b5d088b",
   "metadata": {},
   "source": [
    "### **Method 1 - Mean Squared Estimation** "
   ]
  },
  {
   "cell_type": "markdown",
   "id": "4ed6eea8",
   "metadata": {},
   "source": [
    "#### **Starting with the Theory**"
   ]
  },
  {
   "cell_type": "markdown",
   "id": "9d72f27f",
   "metadata": {},
   "source": [
    "**Matrix Notation** "
   ]
  },
  {
   "cell_type": "markdown",
   "id": "6c6e894f",
   "metadata": {},
   "source": [
    "We will now introduce these concepts and further develop them in matrix notation.\n",
    "<br>\n",
    "Note: boldface type $\\textbf{A}$ indicates matrix $\\textbf{A}$ and $\\textbf{A} \\textbf{B}$ side by side assumes a dot product between those matrices such that $\\textbf{A} \\textbf{B} = \\textbf{A} \\cdot \\textbf{B}$"
   ]
  },
  {
   "cell_type": "markdown",
   "id": "5dfa6e1f",
   "metadata": {},
   "source": [
    "Given $n$ datapoints coming directly from our dataset, let $\\bf{X}$ be the $(n \\times 2)$ design matrix:\n",
    "<br><br>\n",
    "$\\bf{X} = \n",
    "\\begin{bmatrix}\n",
    "1 \\ x_1 \\\\\n",
    "1 \\ x_2 \\\\\n",
    "... \\ ... \\\\\n",
    "1 \\ x_n\n",
    "\\end{bmatrix}\n",
    "$\n",
    "<br><Br>"
   ]
  },
  {
   "cell_type": "markdown",
   "id": "ae72758b",
   "metadata": {},
   "source": [
    "and $\\boldsymbol{\\theta}$ be the $(2 \\times 1)$parameter matrix:\n",
    "<br><br>\n",
    "$\n",
    "\\boldsymbol{\\theta} =\n",
    "\\begin{bmatrix}\n",
    "\\theta_0 \\\\\n",
    "\\theta_1\n",
    "\\end{bmatrix}\n",
    "$\n",
    "<br><br>\n",
    "Speficially for ULR, this matrix will have at least 1 parameter for the slope and potentially a second parameter for bias.\n",
    "<br><br>"
   ]
  },
  {
   "cell_type": "markdown",
   "id": "742511f4",
   "metadata": {},
   "source": [
    "and $\\textbf{Y}$ be the $(n \\times 1)$ matrix of true values from our dataset:\n",
    "<br><br>\n",
    "$\n",
    "\\textbf{Y} = \n",
    "\\begin{bmatrix}\n",
    "y_1^{(t)} \\\\\n",
    "y_2^{(t)} \\\\\n",
    "\\dots \\\\\n",
    "y_n^{(t)}\n",
    "\\end{bmatrix}\n",
    "$\n",
    "<br><br>"
   ]
  },
  {
   "cell_type": "markdown",
   "id": "ce41480b",
   "metadata": {},
   "source": [
    "This implies that our predicted value matrix $\\boldsymbol{\\hat{Y}}$ is\n",
    "<br><br>\n",
    "$ \\boldsymbol{\\hat{Y}}=\n",
    "\\begin{bmatrix}\n",
    "y_1^{(p)} \\\\\n",
    "y_2^{(p)} \\\\\n",
    "... \\\\\n",
    "y_i^{(p)}\n",
    "\\end{bmatrix} = \\bf{X}\\boldsymbol{\\theta} =\n",
    "\\begin{bmatrix}\n",
    "\\theta_0 + \\theta_1 x_1 \\\\\n",
    "\\theta_0 + \\theta_1 x_2 \\\\\n",
    "\\dots \\\\\n",
    "\\theta_0 + \\theta_1 x_n \\\\\n",
    "\\end{bmatrix}\n",
    "$\n",
    "<br><br>"
   ]
  },
  {
   "cell_type": "markdown",
   "id": "90341db2",
   "metadata": {},
   "source": [
    "Let $\\textbf{e}$ be the $(n\\times 1)$ residual error matrix:\n",
    "<br><br>\n",
    "$\n",
    "\\textbf{e} = \\begin{bmatrix}\n",
    "e_1 \\\\\n",
    "e_2 \\\\\n",
    "... \\\\\n",
    "e_n\n",
    "\\end{bmatrix} = \\begin{bmatrix}\n",
    "(\\theta_0+\\theta_1 x_1) - y^{(t)}_1 \\\\\n",
    "(\\theta_0+\\theta_1 x_2) - y^{(t)}_2 \\\\\n",
    "... \\\\\n",
    "(\\theta_0+\\theta_1 x_i) - y^{(t)}_i\n",
    "\\end{bmatrix}\n",
    "$\n",
    "<br><br>"
   ]
  },
  {
   "cell_type": "markdown",
   "id": "82fa9b69",
   "metadata": {},
   "source": [
    "Then,our model in matrix form looks like:\n",
    "<br><br>\n",
    "$ \\textbf{Y} = \\textbf{X} \\boldsymbol{\\theta} + \\textbf{e} $\n",
    "<br><br>"
   ]
  },
  {
   "cell_type": "markdown",
   "id": "18629900",
   "metadata": {},
   "source": [
    "so that the residual error is \n",
    "<br><br>\n",
    "$ \\textbf{e} = \\boldsymbol{\\hat{Y}}-\\textbf{Y} = \\textbf{X}\\boldsymbol{\\theta} - \\textbf{Y} $\n",
    "<br><br>"
   ]
  },
  {
   "cell_type": "markdown",
   "id": "d46e259f",
   "metadata": {},
   "source": [
    "**What then is the associated error for each datapoint $e_i$ since $x_i$ and $y^{(t)}_i$ are given?**\n",
    "<br>\n",
    "To calculate the values inside the $\\textbf{e}$, we are still missing values for our parameters in our parameter matrix $\\boldsymbol{\\theta}$. \n",
    "<br><br>"
   ]
  },
  {
   "cell_type": "markdown",
   "id": "96ab2030",
   "metadata": {},
   "source": [
    "**What values should we use for these parameters?**\n",
    "<br>\n",
    "If our goal is to have a model that most closely fits the data, then we want to select parameters that give us the smallest residual error possible between the true and predicted dependent values. Said another way, we want to pick the values that minimize the loss.\n",
    "<br>"
   ]
  },
  {
   "cell_type": "markdown",
   "id": "4e76852f",
   "metadata": {},
   "source": [
    "##### **The Loss Function ($L_i$)** "
   ]
  },
  {
   "cell_type": "markdown",
   "id": "6a4c5c5e",
   "metadata": {},
   "source": [
    "To begin the process of finding these parameters, we can define the <b>Loss Function $(L_i)$</b> as the error associated with a single data entry from our dataset. There are various types of loss functions that can be used to begin finding our parameters and one of the most common is the squared loss. The choice of loss function is beyond the scope of this article and should be studied further. For the Mean Squared Estimation Method, the loss function of choice is indeed the least square loss. To get this loss, previously, we defined the residual error as\n",
    "<br><br>\n",
    "$e_i = (\\theta_1 x_i + \\theta_0) - y_i$\n",
    "<br><br>"
   ]
  },
  {
   "cell_type": "markdown",
   "id": "4ab92606",
   "metadata": {},
   "source": [
    "For the Mean Squared Estimation method, we can define $L_i$ as\n",
    "<br><br>\n",
    "$L_i = [y^{(p)}_i - y^{(t)}_i]^2 = [(\\theta_1 x_i + \\theta_0) - y^{(t)}_i]^2$\n",
    "<br><br>"
   ]
  },
  {
   "cell_type": "markdown",
   "id": "1ff77d31",
   "metadata": {},
   "source": [
    "Let us now define a helpful formula, the norm of a matrix:\n",
    "<br><br>\n",
    "$ ||\\textbf{a}|| = \\textbf{a}^T \\textbf{a} = \\sum^{n}_{i=1} a_i$\n",
    "<br><br>"
   ]
  },
  {
   "cell_type": "markdown",
   "id": "8bbc5ba2",
   "metadata": {},
   "source": [
    "##### **The Cost Function $(J)$**"
   ]
  },
  {
   "cell_type": "markdown",
   "id": "a0ac806c",
   "metadata": {},
   "source": [
    "From the loss function, we define the <b>Cost Function $(J)$</b> as the error asscoated with our entire dataset. To go from Squared Loss as our loss function to Mean Squared Loss as our cost function, we take the average over all squared errors in our dataset:\n",
    "<br><br>\n",
    "$\n",
    "J = MSE(L_i) =  \\frac{1}{n}\\sum_{i=1}^{n} L_i \n",
    "$\n",
    "\n",
    "$ \n",
    "= \\frac{1}{n}||L|| \n",
    "$\n",
    "\n",
    "$\n",
    "= \\frac{1}{n} ||\\boldsymbol{\\hat{Y}} - \\textbf{Y}||^2 \n",
    "$\n",
    "\n",
    "$\n",
    "=  \\frac{1}{n} ||\\textbf{X} \\boldsymbol{\\theta}-\\textbf{Y}||^2\n",
    "$\n",
    "\n",
    "<br>\n",
    "where $MSE(L_i)$ is the Mean Squared Error function applied over the loss function $L_i$"
   ]
  },
  {
   "cell_type": "markdown",
   "id": "52d44866",
   "metadata": {},
   "source": [
    "Now, in expanded form the mean squared error is\n",
    "<br><br>\n",
    "$ \n",
    "\\frac{1}{n}||\\textbf{X}\\boldsymbol{\\theta} - \\textbf{Y}||^2 = \n",
    "\\frac{1}{n}\n",
    "(\\textbf{X}\\boldsymbol{\\theta}-\\textbf{Y})^T (\\textbf{X}\\boldsymbol{\\theta}-\\textbf{Y})\n",
    "$\n",
    "\n",
    "$ = \\frac{1}{n}\n",
    "(\\textbf{X}^T \\boldsymbol{\\theta}^T \\textbf{X}\\boldsymbol{\\theta} - \n",
    "\\textbf{Y}^T \\textbf{X} \\boldsymbol{\\theta} - \n",
    " \\textbf{Y} \\textbf{X}^T \\boldsymbol{\\theta}^T + \n",
    "\\textbf{Y}^T \\textbf{Y} )\n",
    "$\n",
    "\n",
    "$ = \\frac{1}{n}(\n",
    "\\textbf{X}^T \\boldsymbol{\\theta}^T \\textbf{X}\\boldsymbol{\\theta} -\n",
    "2 \\textbf{Y} \\textbf{X}^T \\boldsymbol{\\theta}^T +\n",
    "\\textbf{Y}^T \\textbf{Y}\n",
    ")\n",
    "$\n",
    "<br><br>"
   ]
  },
  {
   "cell_type": "markdown",
   "id": "0c8a911c",
   "metadata": {},
   "source": [
    "##### **Minimizing the Cost Function**"
   ]
  },
  {
   "cell_type": "markdown",
   "id": "50a32fcc",
   "metadata": {},
   "source": [
    "The minimum value of this $MSE(L_i)$ occurs when the derivative of the $MSE(\\textbf{e})$ with respect to the error or when \n",
    "<br><br>\n",
    "$ \\large \\frac{\\partial MSE(L_i)}{\\partial \\boldsymbol{\\theta}} = 0$\n",
    "<br><br>"
   ]
  },
  {
   "cell_type": "markdown",
   "id": "c5982de2",
   "metadata": {},
   "source": [
    "This implies,\n",
    "<br><br>\n",
    "$\n",
    "\\frac{1}{n}\n",
    "\\frac{\\partial}{\\partial \\boldsymbol{\\theta}} (\n",
    "\\textbf{X}^T \\boldsymbol{\\theta}^T \\textbf{X}\\boldsymbol{\\theta} -\n",
    "2 \\textbf{Y} \\textbf{X}^T \\boldsymbol{\\theta}^T +\n",
    "\\textbf{Y}^T \\textbf{Y}\n",
    ") \n",
    "= 0 \n",
    "$"
   ]
  },
  {
   "cell_type": "markdown",
   "id": "e4609ecc",
   "metadata": {},
   "source": [
    "$\n",
    "\\implies 0 = \n",
    "2 \\textbf{X}^T \\textbf{X} \\boldsymbol{\\theta} - 2 \\textbf{Y} \\textbf{X}^T + 0\n",
    "$<br>"
   ]
  },
  {
   "cell_type": "markdown",
   "id": "5c1db507",
   "metadata": {},
   "source": [
    "$\n",
    "\\implies  \\textbf{X}^T \\textbf{X} \\boldsymbol{\\theta} =  \\textbf{Y} \\textbf{X}^T\n",
    "$<br>"
   ]
  },
  {
   "cell_type": "markdown",
   "id": "290f7322",
   "metadata": {},
   "source": [
    "$\n",
    "\\implies  \\boldsymbol{\\theta_{min}} = (\\textbf{X}^T \\textbf{X})^{-1} \\textbf{Y} \\textbf{X}^T\n",
    "$\n",
    "<br><br>"
   ]
  },
  {
   "cell_type": "markdown",
   "id": "66d6ab78",
   "metadata": {},
   "source": [
    "where \n",
    "<br>\n",
    "$\n",
    "\\boldsymbol{\\theta_{min}} = \\begin{bmatrix}\n",
    "\\theta_{0_{min}} \\\\\n",
    "\\theta_{1_{min}} \n",
    "\\end{bmatrix}\n",
    "$\n",
    "are the best parameters for our model."
   ]
  },
  {
   "cell_type": "markdown",
   "id": "81fcd9fd",
   "metadata": {},
   "source": [
    "##### **Checking that our result is the minimum**"
   ]
  },
  {
   "cell_type": "markdown",
   "id": "62556f8c",
   "metadata": {},
   "source": [
    "To prove that this value for $\\boldsymbol{\\theta}$ is the minimum, we use <i>the second derivative test</i> from calculus:\n",
    "<br><br>\n",
    "$\n",
    "\\implies \n",
    "\\frac{\\partial}{\\partial \\boldsymbol{\\theta}}\n",
    "(\\textbf{X}^T \\textbf{X} \\boldsymbol{\\theta} - \\textbf{Y} \\textbf{X}^T)\n",
    "= \\textbf{X}^T \\textbf{X}\n",
    "$\n",
    "<br><br>"
   ]
  },
  {
   "cell_type": "markdown",
   "id": "c728bd1a",
   "metadata": {},
   "source": [
    "since\n",
    "<br><br>\n",
    "$\n",
    " \\textbf{X}^T \\textbf{X}\n",
    "\\gt 0\n",
    "$\n",
    "<br><br>\n",
    "this will always be positive, it is positive definite and is the minimum we seek"
   ]
  },
  {
   "cell_type": "markdown",
   "id": "5848e4be",
   "metadata": {},
   "source": [
    "Lastly, to find our predictions with our now known mimized parameter values, we simply use equation (**?**) and plug in the values as shown here:\n",
    "<br><br>\n",
    "$\n",
    "\\hat{\\textbf{Y}} = \\textbf{X} \\boldsymbol{\\theta_{min}} = \\textbf{X} (\\textbf{X}^T \\textbf{X})^{-1} \\textbf{Y} \\textbf{X}^T\n",
    "$\n",
    "<br><br>"
   ]
  },
  {
   "cell_type": "markdown",
   "id": "219c6e65",
   "metadata": {},
   "source": [
    "#### **Constructing the Model in Python**"
   ]
  },
  {
   "cell_type": "markdown",
   "id": "47f6ebcc",
   "metadata": {},
   "source": [
    "First, we import our necessary packages:"
   ]
  },
  {
   "cell_type": "code",
   "execution_count": 72,
   "id": "d64738de",
   "metadata": {
    "ExecuteTime": {
     "end_time": "2021-08-30T02:08:53.947162Z",
     "start_time": "2021-08-30T02:08:53.352076Z"
    }
   },
   "outputs": [],
   "source": [
    "import numpy as np\n",
    "from numpy.linalg import inv\n",
    "import matplotlib.pyplot as plt"
   ]
  },
  {
   "cell_type": "markdown",
   "id": "688e3e61",
   "metadata": {},
   "source": [
    "##### **Generating the Data**\n",
    "Instead of starting with a dataset directly, let us generate specified true values with specified input values for a linear model and parameters of our choosing:\n",
    "<br>\n",
    "Let's use $y_i^{(t)} = 3 + 2x_i$ to generate our true values and lets let $x_i$ be a range of values whose length we will call vec_len:"
   ]
  },
  {
   "cell_type": "code",
   "execution_count": 66,
   "id": "f65b3926",
   "metadata": {
    "ExecuteTime": {
     "end_time": "2021-08-30T02:08:57.736666Z",
     "start_time": "2021-08-30T02:08:57.733010Z"
    }
   },
   "outputs": [],
   "source": [
    "def gen_data(vec_len):\n",
    "    \"\"\"\n",
    "    Function to generate the random data that will be used for variosu linear regression methods.\n",
    "    \n",
    "    The linear equation, is defined as:\n",
    "        y = th0 + th1*X + e \n",
    "          =   3 +   2*X + e\n",
    "        \n",
    "        y   - vector of dependent variables \n",
    "        x   - vector of independent variables\n",
    "        th0 - constant intercept parameter\n",
    "        th1 - constant slope parameter\n",
    "        e   - vector of residual errors\n",
    "    \"\"\"\n",
    "    \n",
    "    # Generate the design matrix as a column vector of ones of size vec_len and a column vector of random standard normal values of size vec_len\n",
    "    x_0, x_1 = np.ones(vec_len), np.random.standard_normal(vec_len)    \n",
    "    \n",
    "    # Stack the columns together to complete the design matrix\n",
    "    X = np.column_stack((x_0,x_1))\n",
    "    \n",
    "    # Generate the vector that will contain the residual error so our datapoints are all not exactly on the regression line, we multiply by 2 to increase the size of error\n",
    "    e = np.random.standard_normal(vec_len)\n",
    "    \n",
    "    # Return X as the design matrix, and Y as th0(=3) + th1(=2) * X(the second column's values, not the column of 1 values) + residual_error(e)\n",
    "    return X, 3 + 2*X[:,1]+e #X,y"
   ]
  },
  {
   "cell_type": "code",
   "execution_count": 79,
   "id": "3587cbfa",
   "metadata": {
    "tags": []
   },
   "outputs": [],
   "source": [
    "# Generate the data\n",
    "X,y = gen_data(100);"
   ]
  },
  {
   "cell_type": "markdown",
   "id": "6342dd53",
   "metadata": {},
   "source": [
    "Let's see what our generated data looks like:"
   ]
  },
  {
   "cell_type": "code",
   "execution_count": 69,
   "id": "f84e05f9",
   "metadata": {},
   "outputs": [
    {
     "data": {
      "application/javascript": [
       "\n",
       "        if (window._pyforest_update_imports_cell) { window._pyforest_update_imports_cell('import numpy as np\\nimport matplotlib.pyplot as plt\\nimport pandas as pd'); }\n",
       "    "
      ],
      "text/plain": [
       "<IPython.core.display.Javascript object>"
      ]
     },
     "metadata": {},
     "output_type": "display_data"
    },
    {
     "data": {
      "image/png": "[encoded data removed]",
      "text/plain": [
       "<Figure size 432x288 with 1 Axes>"
      ]
     },
     "metadata": {
      "needs_background": "light"
     },
     "output_type": "display_data"
    }
   ],
   "source": [
    "plt.scatter(X[:,1],y);"
   ]
  },
  {
   "cell_type": "markdown",
   "id": "b81e9758",
   "metadata": {},
   "source": [
    "##### **Defining the Model**"
   ]
  },
  {
   "cell_type": "code",
   "execution_count": 73,
   "id": "12d03784",
   "metadata": {
    "ExecuteTime": {
     "end_time": "2021-08-30T02:09:00.407700Z",
     "start_time": "2021-08-30T02:09:00.404733Z"
    }
   },
   "outputs": [],
   "source": [
    "def lr(X,y):\n",
    "    \"\"\"\n",
    "    Numpy Mean Square Error Method for Univariate Linear Regression.\n",
    "    \n",
    "    Returns, in order:\n",
    "        theta_0, theta_1, y_predictions\n",
    "    \"\"\"\n",
    "    \n",
    "    # Get the array of parameter values as b from the theory previously demonstrated\n",
    "    b = inv( X.T @ X ) @ X.T @ y\n",
    "    \n",
    "    return b[0],b[1], X @ b"
   ]
  },
  {
   "cell_type": "markdown",
   "id": "4f71f966",
   "metadata": {},
   "source": [
    "##### **Calculate the parameters and prediction values from the dataset using the model**"
   ]
  },
  {
   "cell_type": "code",
   "execution_count": 74,
   "id": "dad5a417",
   "metadata": {},
   "outputs": [
    {
     "data": {
      "text/plain": [
       "(3.016079377031092,\n",
       " 1.8700826362859087,\n",
       " array([ 1.73211562e+00,  1.80822235e+00,  3.36395785e+00,  2.57516630e+00,\n",
       "         3.70170572e+00,  1.00708542e+00,  6.17515041e+00,  2.11796047e+00,\n",
       "         7.07210173e+00,  2.22193122e+00,  4.93871789e+00,  7.05581793e+00,\n",
       "         1.38025655e+00,  6.34132112e+00,  1.04262428e+00,  3.51560553e+00,\n",
       "         2.14514067e+00,  2.40765765e+00,  4.17869109e+00,  4.91567402e+00,\n",
       "         1.25916773e-01,  4.45447386e+00,  5.60134060e+00,  5.45522456e+00,\n",
       "         4.42231842e-01,  3.32805266e+00,  2.99123857e+00,  1.40350376e+00,\n",
       "         4.89199764e+00,  5.55339912e+00,  5.20180058e+00,  4.19630596e+00,\n",
       "         2.16999152e+00,  2.17612967e+00,  1.48305563e+00,  2.72471325e+00,\n",
       "         5.44181258e+00,  1.34451208e+00,  3.87771544e+00,  3.98183428e+00,\n",
       "         1.38692742e+00,  3.82008399e+00,  1.57435035e+00,  2.80601465e+00,\n",
       "         3.00558024e+00,  4.33724142e+00,  3.37179018e+00,  3.09839602e+00,\n",
       "         4.24238350e+00,  1.71220385e+00,  2.84369362e+00,  4.65110274e+00,\n",
       "         2.67571684e+00,  3.94576592e+00,  4.87834001e+00,  1.69612214e+00,\n",
       "         4.16367311e+00,  4.99588834e+00,  4.27158786e-01,  3.70072303e+00,\n",
       "         3.05441210e+00,  1.64515623e+00,  2.96273155e+00,  5.47897137e+00,\n",
       "         5.71241720e+00,  4.35433616e+00,  1.18505623e+00,  5.25047527e+00,\n",
       "         1.44696108e+00,  1.62459949e+00,  4.87864881e+00,  1.89589765e+00,\n",
       "        -3.72008032e-03,  2.62456477e+00,  2.34331066e+00,  4.17990226e+00,\n",
       "         2.02326064e+00,  2.97159763e+00,  4.64261229e+00,  1.81889473e+00,\n",
       "         2.83333214e+00,  2.64608074e+00,  3.26702492e+00,  4.66482347e+00,\n",
       "         1.78958981e+00,  6.47384986e+00,  8.98230005e-01,  1.13955471e+00,\n",
       "         4.89872560e+00,  2.28041049e+00,  1.60338033e+00,  5.58486759e-01,\n",
       "         3.98496921e+00, -1.90425692e-01,  4.06099679e+00,  5.10131126e-01,\n",
       "         4.65146860e+00,  5.02746500e+00,  3.70906382e+00,  5.41892907e+00]))"
      ]
     },
     "execution_count": 74,
     "metadata": {},
     "output_type": "execute_result"
    }
   ],
   "source": [
    "lr(X,y)"
   ]
  },
  {
   "cell_type": "markdown",
   "id": "f583b08a",
   "metadata": {},
   "source": [
    "##### **Visualization - our regression line vs our actual datapoints**"
   ]
  },
  {
   "cell_type": "code",
   "execution_count": 80,
   "id": "75d66818",
   "metadata": {},
   "outputs": [
    {
     "data": {
      "image/png": "[encoded data removed]",
      "text/plain": [
       "<Figure size 432x288 with 1 Axes>"
      ]
     },
     "metadata": {
      "needs_background": "light"
     },
     "output_type": "display_data"
    }
   ],
   "source": [
    "# Plot of the values from the dataset\n",
    "plt.scatter(X[:,1],y)\n",
    "\n",
    "# Plot of regression line\n",
    "plt.plot(X[:,1],lr(X,y)[2],c='red');"
   ]
  },
  {
   "cell_type": "markdown",
   "id": "5b176745",
   "metadata": {},
   "source": [
    "##### **A Little Code Golf**\n",
    "For a model with these assumptions, the parameters or predicted values could be calculated from numpy with a single line of code.\n",
    "<br>\n",
    "Assuming we already have our data defined from a dataset, or in our case from gen_data,\n",
    "we could either get the parameter values directly by our formula for theta_min:"
   ]
  },
  {
   "cell_type": "code",
   "execution_count": 76,
   "id": "b7716be9",
   "metadata": {},
   "outputs": [
    {
     "data": {
      "text/plain": [
       "array([3.01607938, 1.87008264])"
      ]
     },
     "execution_count": 76,
     "metadata": {},
     "output_type": "execute_result"
    }
   ],
   "source": [
    "inv(X.T@X)@X.T@y"
   ]
  },
  {
   "cell_type": "markdown",
   "id": "553e611c",
   "metadata": {},
   "source": [
    "or, we can get the yhat prediction values using:"
   ]
  },
  {
   "cell_type": "code",
   "execution_count": 77,
   "id": "2274560a",
   "metadata": {},
   "outputs": [
    {
     "data": {
      "text/plain": [
       "array([ 1.73211562e+00,  1.80822235e+00,  3.36395785e+00,  2.57516630e+00,\n",
       "        3.70170572e+00,  1.00708542e+00,  6.17515041e+00,  2.11796047e+00,\n",
       "        7.07210173e+00,  2.22193122e+00,  4.93871789e+00,  7.05581793e+00,\n",
       "        1.38025655e+00,  6.34132112e+00,  1.04262428e+00,  3.51560553e+00,\n",
       "        2.14514067e+00,  2.40765765e+00,  4.17869109e+00,  4.91567402e+00,\n",
       "        1.25916773e-01,  4.45447386e+00,  5.60134060e+00,  5.45522456e+00,\n",
       "        4.42231842e-01,  3.32805266e+00,  2.99123857e+00,  1.40350376e+00,\n",
       "        4.89199764e+00,  5.55339912e+00,  5.20180058e+00,  4.19630596e+00,\n",
       "        2.16999152e+00,  2.17612967e+00,  1.48305563e+00,  2.72471325e+00,\n",
       "        5.44181258e+00,  1.34451208e+00,  3.87771544e+00,  3.98183428e+00,\n",
       "        1.38692742e+00,  3.82008399e+00,  1.57435035e+00,  2.80601465e+00,\n",
       "        3.00558024e+00,  4.33724142e+00,  3.37179018e+00,  3.09839602e+00,\n",
       "        4.24238350e+00,  1.71220385e+00,  2.84369362e+00,  4.65110274e+00,\n",
       "        2.67571684e+00,  3.94576592e+00,  4.87834001e+00,  1.69612214e+00,\n",
       "        4.16367311e+00,  4.99588834e+00,  4.27158786e-01,  3.70072303e+00,\n",
       "        3.05441210e+00,  1.64515623e+00,  2.96273155e+00,  5.47897137e+00,\n",
       "        5.71241720e+00,  4.35433616e+00,  1.18505623e+00,  5.25047527e+00,\n",
       "        1.44696108e+00,  1.62459949e+00,  4.87864881e+00,  1.89589765e+00,\n",
       "       -3.72008032e-03,  2.62456477e+00,  2.34331066e+00,  4.17990226e+00,\n",
       "        2.02326064e+00,  2.97159763e+00,  4.64261229e+00,  1.81889473e+00,\n",
       "        2.83333214e+00,  2.64608074e+00,  3.26702492e+00,  4.66482347e+00,\n",
       "        1.78958981e+00,  6.47384986e+00,  8.98230005e-01,  1.13955471e+00,\n",
       "        4.89872560e+00,  2.28041049e+00,  1.60338033e+00,  5.58486759e-01,\n",
       "        3.98496921e+00, -1.90425692e-01,  4.06099679e+00,  5.10131126e-01,\n",
       "        4.65146860e+00,  5.02746500e+00,  3.70906382e+00,  5.41892907e+00])"
      ]
     },
     "execution_count": 77,
     "metadata": {},
     "output_type": "execute_result"
    }
   ],
   "source": [
    "X@inv(X.T@X)@X.T@y"
   ]
  },
  {
   "cell_type": "markdown",
   "id": "2ec7292c",
   "metadata": {},
   "source": [
    "of course, there are limitations to the linear algebra solution method as not all input shapes in real datasets will behave well with this matrix formulation."
   ]
  },
  {
   "cell_type": "markdown",
   "id": "328946ac",
   "metadata": {},
   "source": [
    "This concludes Post#1 on Intro to Univariate Linear Regresion and the Algebraic Solution Method in Python"
   ]
  }
 ],
 "metadata": {
  "kernelspec": {
   "display_name": "myenv1",
   "language": "python",
   "name": "myenv1"
  },
  "language_info": {
   "codemirror_mode": {
    "name": "ipython",
    "version": 3
   },
   "file_extension": ".py",
   "mimetype": "text/x-python",
   "name": "python",
   "nbconvert_exporter": "python",
   "pygments_lexer": "ipython3",
   "version": "3.7.6"
  }
 },
 "nbformat": 4,
 "nbformat_minor": 5
}
