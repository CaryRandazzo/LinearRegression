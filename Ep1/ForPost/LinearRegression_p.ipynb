{
 "cells": [
  {
   "cell_type": "markdown",
   "id": "1f4e84df",
   "metadata": {},
   "source": [
    "## **Machine Learning Theory and Application Vol.1: Linear Regression**\n",
    "#### Part 1 - Intro to Univariate Linear Regresion and the Algebraic Solution Method in Python (Post#1)"
   ]
  },
  {
   "cell_type": "markdown",
   "id": "6ff06ef6",
   "metadata": {},
   "source": [
    "### **Introduction**\n",
    "\n",
    "The subject of univariate linear regression is important for anyone interested in analysis and prediction. It is a tool that helps us understand the impact changing one piece of information has on another. When that impact is understood, we can then better define what state a system is in and how it will develop with time or change. Put loosely, it allows us to analyze trends, correlations, and predict future outcomes from data. This also provides a perfect starting place on the journey to understanding and implementing Neural Networks and Deep Neural Networks.\n",
    "\n",
    "Understanding the information in this post will prepare you to...\n",
    "- Explain the basic concept of Univariate Linear Regression\n",
    "- Have an intermediate but non complete theoretical understanding of how to formulate a linear regression algorithm\n",
    "- Be capable of developing and implementing a linear regresion algorithm using the Algebraic Solution Method in python\n",
    "\n",
    "To get the most out of this blog post, you should be familiar with python and mathematics that include linear algebra with some calculus. It would also be helpful having some prior exposure to linear regression, but isn't necessary. \n",
    "<br><br>\n",
    "Let's begin."
   ]
  },
  {
   "cell_type": "markdown",
   "id": "6942e25c",
   "metadata": {},
   "source": [
    "### **What is Univariate Linear Regression?**\n",
    "\n",
    "<i>Univariate Linear Regression</i>(ULR) also known as <i>Simple Linear Regression</i> is a model that fits a linear function to an observable feature graphed against a target variable. It is univariate because only a single feature is used to model the output variable. A model that fits a linear function using multiple observable features is <i>Multivariate Linear Regression.</i>"
   ]
  },
  {
   "cell_type": "markdown",
   "id": "35b8daf6",
   "metadata": {},
   "source": [
    "### **How does it work?**\n",
    "The process of developing an Algebraic ULR Solution  looks like this:\n",
    "- Hypothesize the form of the model we are looking for. This manifests as the common \"slope intercept form\" model in ULR and is also called the hypothesis function.\n",
    "- Define the residual error in terms of our dataset's true dependent values and our model's predicted dependent values\n",
    "- An estimation technique is chosen, and a loss function is then defined for individual datapoints in the dataset\n",
    "- From the loss function, a cost function is defined for the sum of all datapoints' losses in the dataset\n",
    "- The goal of finding the parameters is then achieved by minimizing the cost function with respect to the technique(s) of choice\n",
    "- From the minimization, the parameters are solved\n",
    "- From the parameters, we can predict new output values with input values\n",
    "\n",
    "ULR assumes our independent and dependent features are linear with respect to one another. If the data is truly linear in nature, a linear regression model will be a good fit for the dataset. The term <i>fit</i> means that our model has defined values for the parameters(known slope and intercept parameters ULR) that were calculated directly from our dataset. These are calculated by assuming there is some error between the dataset's true dependent values and the dependent values predicted by our linear model. \n",
    "\n",
    "From studies in linear algebra, we should already be familiar with the form of a linear model that has a single dependent variable. This model is the familiar slope intercept form equation which looks like this:\n",
    "<br><br>\n",
    "$ y = mx + b $ \n",
    "\n",
    "Now if we wanted, we could very quickly come up with a terrible linear fit to a dataset. To demonstrate a bad fit, let's define some simple datapoints:\n",
    "<br><br>\n",
    "$x = [1,2,3,4,5]$ and $y = [2,4,6,8,10]$"
   ]
  },
  {
   "cell_type": "code",
   "execution_count": 85,
   "id": "13a84705",
   "metadata": {},
   "outputs": [
    {
     "data": {
      "application/javascript": [
       "\n",
       "        if (window._pyforest_update_imports_cell) { window._pyforest_update_imports_cell('import numpy as np\\nimport matplotlib.pyplot as plt\\nimport pandas as pd'); }\n",
       "    "
      ],
      "text/plain": [
       "<IPython.core.display.Javascript object>"
      ]
     },
     "metadata": {},
     "output_type": "display_data"
    },
    {
     "data": {
      "text/html": [
       "<div>\n",
       "<style scoped>\n",
       "    .dataframe tbody tr th:only-of-type {\n",
       "        vertical-align: middle;\n",
       "    }\n",
       "\n",
       "    .dataframe tbody tr th {\n",
       "        vertical-align: top;\n",
       "    }\n",
       "\n",
       "    .dataframe thead th {\n",
       "        text-align: right;\n",
       "    }\n",
       "</style>\n",
       "<table border=\"1\" class=\"dataframe\">\n",
       "  <thead>\n",
       "    <tr style=\"text-align: right;\">\n",
       "      <th></th>\n",
       "      <th>x</th>\n",
       "      <th>y</th>\n",
       "    </tr>\n",
       "  </thead>\n",
       "  <tbody>\n",
       "    <tr>\n",
       "      <th>0</th>\n",
       "      <td>1</td>\n",
       "      <td>2</td>\n",
       "    </tr>\n",
       "    <tr>\n",
       "      <th>1</th>\n",
       "      <td>2</td>\n",
       "      <td>4</td>\n",
       "    </tr>\n",
       "    <tr>\n",
       "      <th>2</th>\n",
       "      <td>3</td>\n",
       "      <td>6</td>\n",
       "    </tr>\n",
       "    <tr>\n",
       "      <th>3</th>\n",
       "      <td>4</td>\n",
       "      <td>8</td>\n",
       "    </tr>\n",
       "    <tr>\n",
       "      <th>4</th>\n",
       "      <td>5</td>\n",
       "      <td>10</td>\n",
       "    </tr>\n",
       "  </tbody>\n",
       "</table>\n",
       "</div>"
      ],
      "text/plain": [
       "   x   y\n",
       "0  1   2\n",
       "1  2   4\n",
       "2  3   6\n",
       "3  4   8\n",
       "4  5  10"
      ]
     },
     "execution_count": 85,
     "metadata": {},
     "output_type": "execute_result"
    }
   ],
   "source": [
    "df = pd.DataFrame({'x':[1,2,3,4,5],'y':[2,4,6,8,10]})\n",
    "df"
   ]
  },
  {
   "cell_type": "code",
   "execution_count": 82,
   "id": "1589e37f",
   "metadata": {},
   "outputs": [
    {
     "data": {
      "image/png": "[encoded data removed]",
      "text/plain": [
       "<Figure size 432x288 with 1 Axes>"
      ]
     },
     "metadata": {
      "needs_background": "light"
     },
     "output_type": "display_data"
    }
   ],
   "source": [
    "plt.scatter(df['x'],df['y'])\n",
    "plt.title(\"Simple dataset\")\n",
    "plt.xlabel('x')\n",
    "plt.ylabel('y')\n",
    "plt.grid();"
   ]
  },
  {
   "cell_type": "markdown",
   "id": "bc7f30f3",
   "metadata": {},
   "source": [
    "we can see that assuming $m = 13.37$ and $b = 50$ such that\n",
    "<br><br>\n",
    "$y = 13.37x + 50$\n",
    "\n",
    "is a poor choice of parameters:"
   ]
  },
  {
   "cell_type": "code",
   "execution_count": 78,
   "id": "4e5ab077",
   "metadata": {
    "tags": []
   },
   "outputs": [
    {
     "data": {
      "image/png": "[encoded data removed]",
      "text/plain": [
       "<Figure size 432x288 with 1 Axes>"
      ]
     },
     "metadata": {
      "needs_background": "light"
     },
     "output_type": "display_data"
    }
   ],
   "source": [
    "# Plot the datapoints\n",
    "plt.scatter(df['x'],df['y'], label='datapoint')\n",
    "\n",
    "# Get and predicted datapoints for and plot the regression line\n",
    "y_preds = 13.37*df['x']+50\n",
    "plt.plot(df['x'],y_preds, label='bad regression fit')\n",
    "\n",
    "# Plot the predicted intercept (b_predicted)\n",
    "plt.scatter(1,50+13.37, label='assumed intercept')\n",
    "\n",
    "# Plot the true intercept of our data (b_true)\n",
    "plt.scatter(1,0, label='true intercept')\n",
    "\n",
    "# Visualize the magnitude of error between the predicted and true intercept parameter as a red line\n",
    "plt.plot(np.ones(50),np.arange(1,(50+13.37),(50+13.37)/50), c='red', label='how bad our intercept parameter is')\n",
    "\n",
    "\n",
    "plt.title(\"Simple dataset with bad regression fit\")\n",
    "plt.xlabel('x')\n",
    "plt.ylabel('y')\n",
    "plt.legend()\n",
    "plt.grid()"
   ]
  },
  {
   "cell_type": "markdown",
   "id": "e9c128e8",
   "metadata": {},
   "source": [
    "Note: The above figure is displaying the error of predicted intercept parameter to true intercept parameter(This is only the residual error of the first datapoint). This highlights the fact that our parameter values are terrible.\n",
    "\n",
    "This a poor choice of parameters because our line will start at an excessively high value for $y$ and have an extremely tall slope. We would say that the error or distance from the datapoints generated by the regression line to the datapoints in our dataset will be very high (Our x and y data's true regression line is at $y = 2x+2$). \n",
    "<br><br>\n",
    "Then the question becomes, <b>how do we make this error as small as possible?</b> That is, how do we minimize the error between our model's datapoints and our dataset's datapoints? We can now introduce a solution method to achieve this regression line. The method we will discuss in this post is the Mean Squared Estimation method. Before that, let's formally define the rest of our theory so we can jump right into the solution methods.\n",
    "\n",
    "\n",
    "Our first equation is our best guess at the model form, so we get the hypothesis function $h(x)$ for this model as:\n",
    "<br><br>\n",
    "$ h(x) = \\theta_1 x + \\theta_0  $\n",
    "<!-- <div style=\"text-align: right\"> (1) </div> -->\n",
    "\n",
    "<br>\n",
    "In supervised machine learning, we define the <b>hypothesis function</b> as the function we believe best models the target values.\n",
    "\n",
    "<br>\n",
    "These will be our predicted values and we can define them in terms of predicted value $y^{(p)}$ where $y^{(p)}_i$ is the ith predicted value as:\n",
    "<br><br>\n",
    "$y^{(p)}_i = \\theta_1 x_i + \\theta_0$\n",
    "<br><br>\n",
    "and $x_i$ is the ith independent value. The values for $x_i$ come directly from our dataset.\n",
    "<br><br>\n",
    "\n",
    "\n",
    "Next, we define the true dependent values as $y^{(t)}$ where $y^{(t)}_i$ is the ith true dependent value. This also comes directly from our dataset.\n",
    "<br><br>\n",
    "\n",
    "When trying to fit a linear model to data points, there will also always exist some error between those the true values and predicted values. This is known as the residual error. We say that the predicted depedent value is the true dependent value plus some residual error. In mathematical form:\n",
    "<br><br>\n",
    "$ y^{(p)}_i = y^{(t)}_i + e_i$\n",
    "<br>\n",
    "$ \\implies \\theta_1 x_i + \\theta_0 = y^{(t)} + e_i$\n",
    "<br><br>\n",
    "where $e_i$ is the ith residual error.\n",
    "<br><br>\n",
    "\n",
    "\n",
    "If we rearrange this equation, then we see that the ith residual error value is:<br>\n",
    "<br>\n",
    "$ e_i = y^{(p)}_i - y^{(t)}_i$\n",
    "<br>\n",
    "$ = (\\theta_1 x_1 + \\theta_0) - y^{(t)}_i$\n",
    "<br><br>"
   ]
  },
  {
   "cell_type": "markdown",
   "id": "f716c72e",
   "metadata": {},
   "source": [
    "### **Method 1 - Mean Squared Estimation** "
   ]
  },
  {
   "cell_type": "markdown",
   "id": "8f449ce5",
   "metadata": {},
   "source": [
    "**Matrix Notation and the Model** "
   ]
  },
  {
   "cell_type": "markdown",
   "id": "ac8120b7",
   "metadata": {},
   "source": [
    "We will now introduce these concepts and further develop them in matrix notation.\n",
    "<br>\n",
    "Note: boldface type $\\textbf{A}$ indicates matrix $\\textbf{A}$ and $\\textbf{A} \\textbf{B}$ side by side assumes a dot product between those matrices such that $\\textbf{A} \\textbf{B} = \\textbf{A} \\cdot \\textbf{B}$"
   ]
  },
  {
   "cell_type": "markdown",
   "id": "a49cbbbc",
   "metadata": {},
   "source": [
    "Given $n$ datapoints coming directly from our dataset, let $\\bf{X}$ be the $(i \\times 2)$ design matrix:\n",
    "<br><br>\n",
    "$\\bf{X} = \n",
    "\\begin{bmatrix}\n",
    "1 \\ x_1 \\\\\n",
    "1 \\ x_2 \\\\\n",
    "... \\ ... \\\\\n",
    "1 \\ x_i\n",
    "\\end{bmatrix}\n",
    "$\n",
    "<br><Br>"
   ]
  },
  {
   "cell_type": "markdown",
   "id": "786b7fa8",
   "metadata": {},
   "source": [
    "and $\\boldsymbol{\\theta}$ be the $(2 \\times 1)$parameter matrix:\n",
    "<br><br>\n",
    "$\n",
    "\\boldsymbol{\\theta} =\n",
    "\\begin{bmatrix}\n",
    "\\theta_0 \\\\\n",
    "\\theta_1\n",
    "\\end{bmatrix}\n",
    "$\n",
    "<br><br>\n",
    "Speficially for ULR, this matrix will have at least 1 parameter for the slope and potentially a second parameter for bias.\n",
    "<br><br>"
   ]
  },
  {
   "cell_type": "markdown",
   "id": "18dd7b1c",
   "metadata": {},
   "source": [
    "and $\\textbf{Y}$ be the $(i \\times 1)$ matrix of true values from our dataset:\n",
    "<br><br>\n",
    "$\n",
    "\\textbf{Y} = \n",
    "\\begin{bmatrix}\n",
    "y_1^{(t)} \\\\\n",
    "y_2^{(t)} \\\\\n",
    "\\dots \\\\\n",
    "y_i^{(t)}\n",
    "\\end{bmatrix}\n",
    "$\n",
    "<br><br>"
   ]
  },
  {
   "cell_type": "markdown",
   "id": "da499796",
   "metadata": {},
   "source": [
    "This implies that our predicted value matrix $\\boldsymbol{\\hat{Y}}$ is\n",
    "<br><br>\n",
    "$ \\boldsymbol{\\hat{Y}}=\n",
    "\\begin{bmatrix}\n",
    "y_1^{(p)} \\\\\n",
    "y_2^{(p)} \\\\\n",
    "... \\\\\n",
    "y_i^{(p)}\n",
    "\\end{bmatrix} = \\bf{X}\\boldsymbol{\\theta} =\n",
    "\\begin{bmatrix}\n",
    "\\theta_0 + \\theta_1 x_1 \\\\\n",
    "\\theta_0 + \\theta_1 x_2 \\\\\n",
    "\\dots \\\\\n",
    "\\theta_0 + \\theta_1 x_i \\\\\n",
    "\\end{bmatrix}\n",
    "$\n",
    "<br><br>"
   ]
  },
  {
   "cell_type": "markdown",
   "id": "a9a80d41",
   "metadata": {},
   "source": [
    "Let $\\textbf{e}$ be the $(i\\times 1)$ residual error matrix:\n",
    "<br><br>\n",
    "$\n",
    "\\textbf{e} = \\begin{bmatrix}\n",
    "e_1 \\\\\n",
    "e_2 \\\\\n",
    "... \\\\\n",
    "e_i\n",
    "\\end{bmatrix} = \\begin{bmatrix}\n",
    "(\\theta_0+\\theta_1 x_1) - y^{(t)}_1 \\\\\n",
    "(\\theta_0+\\theta_1 x_2) - y^{(t)}_2 \\\\\n",
    "... \\\\\n",
    "(\\theta_0+\\theta_1 x_i) - y^{(t)}_i\n",
    "\\end{bmatrix}\n",
    "$\n",
    "<br><br>"
   ]
  },
  {
   "cell_type": "markdown",
   "id": "1212b3de",
   "metadata": {},
   "source": [
    "Since our residual error is\n",
    "<br><br>\n",
    "$\\textbf{e} = \\boldsymbol{\\hat{Y}} - \\textbf{Y} = \\textbf{X} \\boldsymbol{\\theta} - \\textbf{Y}$ \n",
    "<br><br>\n",
    "This implies that our model for prediction values is\n",
    "<br><br>\n",
    "$\\implies \\boldsymbol{\\hat{Y}} = \\textbf{Y} + \\textbf{e} = \\textbf{X} \\boldsymbol{\\theta} + \\textbf{e}$"
   ]
  },
  {
   "cell_type": "markdown",
   "id": "d4c964c8",
   "metadata": {},
   "source": [
    "**What then is the associated error for each datapoint $e_i$ since $x_i$ and $y^{(t)}_i$ are given?**\n",
    "<br>\n",
    "To calculate the values inside the matrix $\\textbf{e}$, we need values for our parameters in our parameter matrix $\\boldsymbol{\\theta}$. \n",
    "<br>"
   ]
  },
  {
   "cell_type": "markdown",
   "id": "3adda602",
   "metadata": {},
   "source": [
    "**What values should we use for these parameters?**\n",
    "<br>\n",
    "If our goal is to have a model that most closely fits the data, then we want to select parameters that give us the smallest residual error possible between the true and predicted dependent values. Said another way, we want to pick the values that minimize the loss.\n",
    "<br>"
   ]
  },
  {
   "cell_type": "markdown",
   "id": "743f38cc",
   "metadata": {},
   "source": [
    "##### **The Loss Function ($L_i$)** "
   ]
  },
  {
   "cell_type": "markdown",
   "id": "0c04c6a6",
   "metadata": {},
   "source": [
    "To begin the process of finding these parameters, we can define the <b>Loss Function $(L_i)$</b> as the error associated with a single data entry from our dataset. There are various types of loss functions that can be used to begin finding our parameters and one of the most common is the squared loss. The choice of loss function is beyond the scope of this article and should be studied further. For the Mean Squared Estimation Method, the loss function of choice is indeed the least square loss. To get this loss, previously, we defined the residual error as\n",
    "<br><br>\n",
    "$e_i = (\\theta_1 x_i + \\theta_0) - y_i$\n",
    "<br><br>"
   ]
  },
  {
   "cell_type": "markdown",
   "id": "19334348",
   "metadata": {},
   "source": [
    "For the Mean Squared Estimation method, we can define $L_i$ as\n",
    "<br><br>\n",
    "$L_i = e_i^2 = (y^{(p)}_i - y^{(t)}_i)^2 = [(\\theta_1 x_i + \\theta_0) - y^{(t)}_i]^2$\n",
    "<br><br>"
   ]
  },
  {
   "cell_type": "markdown",
   "id": "85a578d9",
   "metadata": {},
   "source": [
    "Let us now define a helpful formula, the norm of a matrix:\n",
    "<br><br>\n",
    "$ ||\\textbf{a}|| = \\textbf{a}^T \\textbf{a} = \\sum^{n}_{i=1} a_i$\n",
    "<br><br>"
   ]
  },
  {
   "cell_type": "markdown",
   "id": "1a5f7f5c",
   "metadata": {},
   "source": [
    "##### **The Cost Function $(J)$**"
   ]
  },
  {
   "cell_type": "markdown",
   "id": "f49d99c5",
   "metadata": {},
   "source": [
    "From the loss function, we define the <b>Cost Function $(J)$</b> as the error asscoated with our entire dataset. To go from Squared Loss as our loss function to Mean Squared Loss as our cost function, we take the average over all squared errors in our dataset:\n",
    "<br><br>\n",
    "\n",
    "$J = MSE(L_i) =  \\frac{1}{n}\\sum_{i=1}^{n} L_i$\n",
    "\n",
    "$ = \\frac{1}{n}||L|| $\n",
    "\n",
    "$= \\frac{1}{n} ||\\boldsymbol{\\hat{Y}} - \\textbf{Y}||^2 $\n",
    "\n",
    "$=  \\frac{1}{n} ||\\textbf{X} \\boldsymbol{\\theta}-\\textbf{Y}||^2$\n",
    "\n",
    "<br>\n",
    "where $MSE(L_i)$ is the Mean Squared Error function applied over the loss function $L_i$\n",
    "<br><br>"
   ]
  },
  {
   "cell_type": "markdown",
   "id": "7fb9f394",
   "metadata": {},
   "source": [
    "Now, in expanded form the cost function is\n",
    "<br><br>\n",
    "$ \n",
    "\\frac{1}{n}||\\textbf{X}\\boldsymbol{\\theta} - \\textbf{Y}||^2 = \n",
    "\\frac{1}{n}\n",
    "(\\textbf{X}\\boldsymbol{\\theta}-\\textbf{Y})^T (\\textbf{X}\\boldsymbol{\\theta}-\\textbf{Y})\n",
    "$\n",
    "\n",
    "$ = \\frac{1}{n}\n",
    "(\\textbf{X}^T \\boldsymbol{\\theta}^T \\textbf{X}\\boldsymbol{\\theta} - \n",
    "\\textbf{Y}^T \\textbf{X} \\boldsymbol{\\theta} - \n",
    " \\textbf{Y} \\textbf{X}^T \\boldsymbol{\\theta}^T + \n",
    "\\textbf{Y}^T \\textbf{Y} )\n",
    "$\n",
    "\n",
    "$ = \\frac{1}{n}(\n",
    "\\textbf{X}^T \\boldsymbol{\\theta}^T \\textbf{X}\\boldsymbol{\\theta} -\n",
    "2 \\textbf{Y} \\textbf{X}^T \\boldsymbol{\\theta}^T +\n",
    "\\textbf{Y}^T \\textbf{Y}\n",
    ")\n",
    "$\n",
    "<br><br>"
   ]
  },
  {
   "cell_type": "markdown",
   "id": "9180d258",
   "metadata": {},
   "source": [
    "##### **Minimizing the Cost Function**"
   ]
  },
  {
   "cell_type": "markdown",
   "id": "294b8c46",
   "metadata": {},
   "source": [
    "The minimum value of this $J$ occurs when its derivative with respect to the parameters is 0\n",
    "<br><br>\n",
    "$ \\large \\frac{\\partial J}{\\partial \\boldsymbol{\\theta}} = 0$\n",
    "<br><br>"
   ]
  },
  {
   "cell_type": "markdown",
   "id": "332ce1d9",
   "metadata": {},
   "source": [
    "This implies,\n",
    "<br><br>\n",
    "$\n",
    "\\frac{1}{n}\n",
    "\\frac{\\partial}{\\partial \\boldsymbol{\\theta}} (\n",
    "\\textbf{X}^T \\boldsymbol{\\theta}^T \\textbf{X}\\boldsymbol{\\theta} -\n",
    "2 \\textbf{Y} \\textbf{X}^T \\boldsymbol{\\theta}^T +\n",
    "\\textbf{Y}^T \\textbf{Y}\n",
    ") \n",
    "= 0 \n",
    "$"
   ]
  },
  {
   "cell_type": "markdown",
   "id": "8ff535b7",
   "metadata": {},
   "source": [
    "$\n",
    "\\implies 2 \\textbf{X}^T \\textbf{X} \\boldsymbol{\\theta_{min}} - 2 \\textbf{Y} \\textbf{X}^T + 0 = 0\n",
    "$<br>"
   ]
  },
  {
   "cell_type": "markdown",
   "id": "484d31d0",
   "metadata": {},
   "source": [
    "$\n",
    "\\implies  \\textbf{X}^T \\textbf{X} \\boldsymbol{\\theta_{min}} =  \\textbf{Y} \\textbf{X}^T\n",
    "$<br>"
   ]
  },
  {
   "cell_type": "markdown",
   "id": "57f2a468",
   "metadata": {},
   "source": [
    "$\n",
    "\\implies  \\boldsymbol{\\theta_{min}} = (\\textbf{X}^T \\textbf{X})^{-1} \\textbf{Y} \\textbf{X}^T\n",
    "$\n",
    "<br><br>"
   ]
  },
  {
   "cell_type": "markdown",
   "id": "fee016b4",
   "metadata": {},
   "source": [
    "where \n",
    "<br>\n",
    "$\n",
    "\\boldsymbol{\\theta_{min}} = \\begin{bmatrix}\n",
    "\\theta_{0_{min}} \\\\\n",
    "\\theta_{1_{min}} \n",
    "\\end{bmatrix}\n",
    "$\n",
    "should be the best parameters for our model using this method.\n",
    "<br><br>"
   ]
  },
  {
   "cell_type": "markdown",
   "id": "a74a8be8",
   "metadata": {},
   "source": [
    "##### **Checking that our result is the minimum**"
   ]
  },
  {
   "cell_type": "markdown",
   "id": "b2a17144",
   "metadata": {},
   "source": [
    "To prove that this value for $\\boldsymbol{\\theta}$ is the minimum, we use <i>the second derivative test</i> from calculus:\n",
    "<br><br>\n",
    "$\n",
    "\\implies \\frac{\\partial^2 J}{\\partial \\theta^2} = \n",
    "\\frac{\\partial}{\\partial \\boldsymbol{\\theta}}\n",
    "(\\textbf{X}^T \\textbf{X} \\boldsymbol{\\theta} - \\textbf{Y} \\textbf{X}^T)\n",
    "= \\textbf{X}^T \\textbf{X}\n",
    "$\n",
    "<br><br>"
   ]
  },
  {
   "cell_type": "code",
   "execution_count": 165,
   "id": "37406c61",
   "metadata": {},
   "outputs": [
    {
     "data": {
      "image/png": "[encoded data removed]",
      "text/plain": [
       "<Figure size 432x288 with 1 Axes>"
      ]
     },
     "metadata": {
      "needs_background": "light"
     },
     "output_type": "display_data"
    }
   ],
   "source": [
    "# Define the X values\n",
    "X = np.linspace(-10,10,100)\n",
    "\n",
    "# Define the function that will calculate (X^T)(X)\n",
    "f = lambda xi: ([xi]@np.identity(1))@[[xi]]\n",
    "\n",
    "# Define the independent variable based on the function\n",
    "Y = np.vectorize(f)(X)\n",
    "\n",
    "# Plot that function\n",
    "plt.plot(X,Y)\n",
    "\n",
    "# Plot the expected minimum\n",
    "plt.scatter(0,0)\n",
    "\n",
    "plt.title(r\"What's the shape of $X^{T}X$?\")\n",
    "plt.xlabel('X')\n",
    "plt.ylabel(r'$X^{T}X$')\n",
    "plt.grid();"
   ]
  },
  {
   "cell_type": "markdown",
   "id": "e1132ba7",
   "metadata": {},
   "source": [
    "Note: The minimum here does not imply that $\\boldsymbol{\\theta_{min}} = 0$. This would imply that $y=0$ and is only valid in limited cases.\n",
    "<br><br>\n",
    "Since $ \\textbf{X}^T \\textbf{X} $ is increasing everywhere up from both ends, it should be pretty obvious we have the minimum we seek for $\\boldsymbol{\\theta}$ as $\\boldsymbol{\\theta_{min}}$. \n",
    "\n",
    "\n"
   ]
  },
  {
   "cell_type": "markdown",
   "id": "9f4cbdc0",
   "metadata": {},
   "source": [
    "##### **Calculating Prediction Values**\n",
    "<br>\n",
    "Finally, to calculate our prediction values with our now known mimized parameter values, we simply use equation for our model and plug in the values as shown here:\n",
    "<br><br>\n",
    "When the parameter matrix $\\boldsymbol{\\theta}$ is minimized to $\\boldsymbol{\\theta_{min}}$,\n",
    "<br><br>\n",
    "This implies that the true $y_i^{(t)}$ values are equal to the predicted $y_i^{(p)}$ values such that\n",
    "<br><br>\n",
    "$ \\boldsymbol{\\hat{Y}} = \\textbf{Y} \\implies \\textbf{e} = \\boldsymbol{\\hat{Y}} - \\textbf{Y} = 0$\n",
    "<br><br>\n",
    "And this further implies that\n",
    "<br><br>\n",
    "$\n",
    "\\implies \\hat{\\textbf{Y}} = \\textbf{X} \\boldsymbol{\\theta_{min}} + 0 = \\textbf{X} (\\textbf{X}^T \\textbf{X})^{-1} \\textbf{Y} \\textbf{X}^T\n",
    "$\n",
    "<br><br>"
   ]
  },
  {
   "cell_type": "markdown",
   "id": "c2e4e8fb",
   "metadata": {},
   "source": [
    "#### **Constructing the Model in Python**"
   ]
  },
  {
   "cell_type": "markdown",
   "id": "f59ce548",
   "metadata": {},
   "source": [
    "First, we import our necessary packages:"
   ]
  },
  {
   "cell_type": "code",
   "execution_count": 72,
   "id": "f9c87968",
   "metadata": {
    "ExecuteTime": {
     "end_time": "2021-08-30T02:08:53.947162Z",
     "start_time": "2021-08-30T02:08:53.352076Z"
    }
   },
   "outputs": [],
   "source": [
    "import numpy as np\n",
    "from numpy.linalg import inv\n",
    "import matplotlib.pyplot as plt"
   ]
  },
  {
   "cell_type": "markdown",
   "id": "a3e7a815",
   "metadata": {},
   "source": [
    "##### **Generating the Data**\n",
    "Instead of starting with a dataset directly, let us generate specified true values with specified input values for a linear model and parameters of our choosing:\n",
    "<br>\n",
    "Let's use $y_i^{(t)} = 3 + 2x_i$ to generate our true values and lets let $x_i$ be a range of values whose length we will call vec_len:"
   ]
  },
  {
   "cell_type": "code",
   "execution_count": 66,
   "id": "4af3fe3a",
   "metadata": {
    "ExecuteTime": {
     "end_time": "2021-08-30T02:08:57.736666Z",
     "start_time": "2021-08-30T02:08:57.733010Z"
    }
   },
   "outputs": [],
   "source": [
    "def gen_data(vec_len):\n",
    "    \"\"\"\n",
    "    Function to generate the random data that will be used for variosu linear regression methods.\n",
    "    \n",
    "    The linear equation, is defined as:\n",
    "        y = th0 + th1*X + e \n",
    "          =   3 +   2*X + e\n",
    "        \n",
    "        y   - vector of dependent variables \n",
    "        x   - vector of independent variables\n",
    "        th0 - constant intercept parameter\n",
    "        th1 - constant slope parameter\n",
    "        e   - vector of residual errors\n",
    "    \"\"\"\n",
    "    \n",
    "    # Generate the design matrix as a column vector of ones of size vec_len and a column vector of random standard normal values of size vec_len\n",
    "    x_0, x_1 = np.ones(vec_len), np.random.standard_normal(vec_len)    \n",
    "    \n",
    "    # Stack the columns together to complete the design matrix\n",
    "    X = np.column_stack((x_0,x_1))\n",
    "    \n",
    "    # Generate the vector that will contain the residual error so our datapoints are all not exactly on the regression line, we multiply by 2 to increase the size of error\n",
    "    e = np.random.standard_normal(vec_len)\n",
    "    \n",
    "    # Return X as the design matrix, and Y as th0(=3) + th1(=2) * X(the second column's values, not the column of 1 values) + residual_error(e)\n",
    "    return X, 3 + 2*X[:,1]+e #X,y"
   ]
  },
  {
   "cell_type": "code",
   "execution_count": 79,
   "id": "82eedf30",
   "metadata": {
    "tags": []
   },
   "outputs": [],
   "source": [
    "# Generate the data\n",
    "X,y = gen_data(100);"
   ]
  },
  {
   "cell_type": "markdown",
   "id": "105f6779",
   "metadata": {},
   "source": [
    "Let's see what our generated data looks like:"
   ]
  },
  {
   "cell_type": "code",
   "execution_count": 69,
   "id": "80aa3d54",
   "metadata": {},
   "outputs": [
    {
     "data": {
      "application/javascript": [
       "\n",
       "        if (window._pyforest_update_imports_cell) { window._pyforest_update_imports_cell('import numpy as np\\nimport matplotlib.pyplot as plt\\nimport pandas as pd'); }\n",
       "    "
      ],
      "text/plain": [
       "<IPython.core.display.Javascript object>"
      ]
     },
     "metadata": {},
     "output_type": "display_data"
    },
    {
     "data": {
      "image/png": "[encoded data removed]",
      "text/plain": [
       "<Figure size 432x288 with 1 Axes>"
      ]
     },
     "metadata": {
      "needs_background": "light"
     },
     "output_type": "display_data"
    }
   ],
   "source": [
    "plt.scatter(X[:,1],y);"
   ]
  },
  {
   "cell_type": "markdown",
   "id": "a356dca9",
   "metadata": {},
   "source": [
    "##### **Defining the Model**"
   ]
  },
  {
   "cell_type": "code",
   "execution_count": 73,
   "id": "8c4e2d59",
   "metadata": {
    "ExecuteTime": {
     "end_time": "2021-08-30T02:09:00.407700Z",
     "start_time": "2021-08-30T02:09:00.404733Z"
    }
   },
   "outputs": [],
   "source": [
    "def lr(X,y):\n",
    "    \"\"\"\n",
    "    Numpy Mean Square Error Method for Univariate Linear Regression.\n",
    "    \n",
    "    Returns, in order:\n",
    "        theta_0, theta_1, y_predictions\n",
    "    \"\"\"\n",
    "    \n",
    "    # Get the array of parameter values as b from the theory previously demonstrated\n",
    "    theta = inv( X.T @ X ) @ X.T @ y\n",
    "    \n",
    "    return theta[0], theta[1], X @ theta"
   ]
  },
  {
   "cell_type": "markdown",
   "id": "d1b859fb",
   "metadata": {},
   "source": [
    "##### **Calculate the parameters and prediction values from the dataset using the model**"
   ]
  },
  {
   "cell_type": "code",
   "execution_count": 74,
   "id": "fb863c63",
   "metadata": {},
   "outputs": [
    {
     "data": {
      "text/plain": [
       "(3.016079377031092,\n",
       " 1.8700826362859087,\n",
       " array([ 1.73211562e+00,  1.80822235e+00,  3.36395785e+00,  2.57516630e+00,\n",
       "         3.70170572e+00,  1.00708542e+00,  6.17515041e+00,  2.11796047e+00,\n",
       "         7.07210173e+00,  2.22193122e+00,  4.93871789e+00,  7.05581793e+00,\n",
       "         1.38025655e+00,  6.34132112e+00,  1.04262428e+00,  3.51560553e+00,\n",
       "         2.14514067e+00,  2.40765765e+00,  4.17869109e+00,  4.91567402e+00,\n",
       "         1.25916773e-01,  4.45447386e+00,  5.60134060e+00,  5.45522456e+00,\n",
       "         4.42231842e-01,  3.32805266e+00,  2.99123857e+00,  1.40350376e+00,\n",
       "         4.89199764e+00,  5.55339912e+00,  5.20180058e+00,  4.19630596e+00,\n",
       "         2.16999152e+00,  2.17612967e+00,  1.48305563e+00,  2.72471325e+00,\n",
       "         5.44181258e+00,  1.34451208e+00,  3.87771544e+00,  3.98183428e+00,\n",
       "         1.38692742e+00,  3.82008399e+00,  1.57435035e+00,  2.80601465e+00,\n",
       "         3.00558024e+00,  4.33724142e+00,  3.37179018e+00,  3.09839602e+00,\n",
       "         4.24238350e+00,  1.71220385e+00,  2.84369362e+00,  4.65110274e+00,\n",
       "         2.67571684e+00,  3.94576592e+00,  4.87834001e+00,  1.69612214e+00,\n",
       "         4.16367311e+00,  4.99588834e+00,  4.27158786e-01,  3.70072303e+00,\n",
       "         3.05441210e+00,  1.64515623e+00,  2.96273155e+00,  5.47897137e+00,\n",
       "         5.71241720e+00,  4.35433616e+00,  1.18505623e+00,  5.25047527e+00,\n",
       "         1.44696108e+00,  1.62459949e+00,  4.87864881e+00,  1.89589765e+00,\n",
       "        -3.72008032e-03,  2.62456477e+00,  2.34331066e+00,  4.17990226e+00,\n",
       "         2.02326064e+00,  2.97159763e+00,  4.64261229e+00,  1.81889473e+00,\n",
       "         2.83333214e+00,  2.64608074e+00,  3.26702492e+00,  4.66482347e+00,\n",
       "         1.78958981e+00,  6.47384986e+00,  8.98230005e-01,  1.13955471e+00,\n",
       "         4.89872560e+00,  2.28041049e+00,  1.60338033e+00,  5.58486759e-01,\n",
       "         3.98496921e+00, -1.90425692e-01,  4.06099679e+00,  5.10131126e-01,\n",
       "         4.65146860e+00,  5.02746500e+00,  3.70906382e+00,  5.41892907e+00]))"
      ]
     },
     "execution_count": 74,
     "metadata": {},
     "output_type": "execute_result"
    }
   ],
   "source": [
    "lr(X,y)"
   ]
  },
  {
   "cell_type": "markdown",
   "id": "f52b90b8",
   "metadata": {},
   "source": [
    "##### **Visualization - our regression line vs our actual datapoints**"
   ]
  },
  {
   "cell_type": "code",
   "execution_count": 80,
   "id": "790ce039",
   "metadata": {},
   "outputs": [
    {
     "data": {
      "image/png": "[encoded data removed]",
      "text/plain": [
       "<Figure size 432x288 with 1 Axes>"
      ]
     },
     "metadata": {
      "needs_background": "light"
     },
     "output_type": "display_data"
    }
   ],
   "source": [
    "# Plot of the values from the dataset\n",
    "plt.scatter(X[:,1],y)\n",
    "\n",
    "# Plot of regression line\n",
    "plt.plot(X[:,1],lr(X,y)[2],c='red');"
   ]
  },
  {
   "cell_type": "markdown",
   "id": "7a650401",
   "metadata": {},
   "source": [
    "##### **Conclusion**\n",
    "In this post, we explained the basic concept of Univariate Linear Regression, developed an intermediate but non complete theoretical understanding of how to formulate a linear regression algorithm, and constructed a linear regresion algorithm using the Algebraic Solution Method in python. More details are required for a complete treatment of this subject and are somewhat required to get the best results out of our machine learning projects. These include various kinds of estimation methods, evaluation methods, and solution methods that work best for the format of our data. However, this will give us a solid place to start as we develop our understanding of this subject and machine learning in general."
   ]
  }
 ],
 "metadata": {
  "kernelspec": {
   "display_name": "myenv1",
   "language": "python",
   "name": "myenv1"
  },
  "language_info": {
   "codemirror_mode": {
    "name": "ipython",
    "version": 3
   },
   "file_extension": ".py",
   "mimetype": "text/x-python",
   "name": "python",
   "nbconvert_exporter": "python",
   "pygments_lexer": "ipython3",
   "version": "3.7.6"
  }
 },
 "nbformat": 4,
 "nbformat_minor": 5
}
