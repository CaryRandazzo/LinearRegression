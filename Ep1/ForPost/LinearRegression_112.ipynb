{
 "cells": [
  {
   "cell_type": "markdown",
   "id": "5998402d-f1bf-4697-bf22-d302c99b9529",
   "metadata": {},
   "source": [
    "This post roughly follows the process in https://www.studocu.com/en-us/document/pasadena-city-college/elementary-astronomy/measuring-the-hubble-constant-lab/13179507"
   ]
  },
  {
   "cell_type": "markdown",
   "id": "f2d182dc-96e6-4ec5-8e5e-73ea64aa75e6",
   "metadata": {},
   "source": []
  },
  {
   "cell_type": "markdown",
   "id": "d41b4574-3a4b-4065-a501-1e3fc7b8e4d1",
   "metadata": {},
   "source": [
    "### Calculating Apparent Size of Galaxy"
   ]
  },
  {
   "cell_type": "markdown",
   "id": "12e4824e-beff-4a38-a673-7ab00717e025",
   "metadata": {},
   "source": [
    "From https://theskylive.com/sky/deepsky/ngc1832-object#apparentisize,<br>\n",
    "We are given angular size of ngc1832 in arcmin as 2.46 arcmin"
   ]
  },
  {
   "cell_type": "markdown",
   "id": "72684c4c-61fa-4869-9afd-5c2e63b9c993",
   "metadata": {},
   "source": [
    "There are 60 minutes of arc in 1 degree,<br>\n",
    "$1 [degree] = 60[arcmin]$<br>\n",
    "$\\implies 2.46[arcmin] \\cdot \\frac{1[degree]}{60[arcmin]} = 2.46/60 = ...$"
   ]
  },
  {
   "cell_type": "code",
   "execution_count": 3,
   "id": "0a7763a1-5073-4b5d-af34-74fbbcdd3bcd",
   "metadata": {},
   "outputs": [
    {
     "name": "stdout",
     "output_type": "stream",
     "text": [
      "A = 0.041 [degrees]\n"
     ]
    }
   ],
   "source": [
    "print('A =',2.46/60,'[degrees]')"
   ]
  },
  {
   "cell_type": "markdown",
   "id": "ef5e448d-f9fc-441c-9eba-86945d37c479",
   "metadata": {},
   "source": [
    "### Calculating Distance to Galaxy in Mlyr"
   ]
  },
  {
   "cell_type": "markdown",
   "id": "d3ea768b-5fdd-4c33-b817-eadb48e1100d",
   "metadata": {},
   "source": [
    "Distance in Mlyr $(D) = 4.1/A [Mlyr] = ...$"
   ]
  },
  {
   "cell_type": "code",
   "execution_count": 5,
   "id": "55749576-b9a1-42c4-900c-51cd6e4c01cc",
   "metadata": {},
   "outputs": [
    {
     "name": "stdout",
     "output_type": "stream",
     "text": [
      "D = 99.99999999999999 [Mlyr]\n"
     ]
    }
   ],
   "source": [
    "print('D =', 4.1/.041,'[Mlyr]')"
   ]
  },
  {
   "cell_type": "markdown",
   "id": "b23c7867-76cd-4799-902b-6cf159140f4c",
   "metadata": {},
   "source": [
    "### Calculating velocity of Galaxy"
   ]
  },
  {
   "cell_type": "markdown",
   "id": "5f07039d-dca9-4ca6-b96c-5460e613752b",
   "metadata": {},
   "source": [
    "According to https://www.bbc.co.uk/bitesize/guides/zphppv4/revision/2,\n",
    "redshift (z)[dimensionless] = velocity of galaxy[km/s] / speed of light constant[km/s] (redshift is given in 10e-3)<br> \n",
    "$z\\cdot 10^{-3} = \\frac{v}{c} \\implies v[km/s] = z\\cdot 10^{-3} \\cdot 299792[km/s]$"
   ]
  },
  {
   "cell_type": "markdown",
   "id": "e3da1b89-4ec0-4500-af25-5773f72ad81f",
   "metadata": {},
   "source": [
    "A search for \"ngc 1832 photometric information\" in google sends us to http://simbad.u-strasbg.fr/simbad/sim-id?Ident=NGC%201832. Querying Simbad with the apparent size in arcmin(2.46) yields an R band (redshift) of 11.07 such that z..."
   ]
  },
  {
   "cell_type": "code",
   "execution_count": 9,
   "id": "9dabb2b8-bdd9-460b-b6b6-cab9fd00868c",
   "metadata": {},
   "outputs": [
    {
     "name": "stdout",
     "output_type": "stream",
     "text": [
      "v_ngc1832 = 3318.69744 [km\\s]\n"
     ]
    }
   ],
   "source": [
    "print('v_ngc1832 =',11.07*299792*10**-3,'[km\\s]')"
   ]
  },
  {
   "cell_type": "code",
   "execution_count": 11,
   "id": "ffcebaf5-cea7-42d3-98ca-5a5195f83213",
   "metadata": {},
   "outputs": [
    {
     "data": {
      "application/javascript": [
       "\n",
       "        if (window._pyforest_update_imports_cell) { window._pyforest_update_imports_cell('import pandas as pd'); }\n",
       "    "
      ],
      "text/plain": [
       "<IPython.core.display.Javascript object>"
      ]
     },
     "metadata": {},
     "output_type": "display_data"
    },
    {
     "data": {
      "text/html": [
       "<div>\n",
       "<style scoped>\n",
       "    .dataframe tbody tr th:only-of-type {\n",
       "        vertical-align: middle;\n",
       "    }\n",
       "\n",
       "    .dataframe tbody tr th {\n",
       "        vertical-align: top;\n",
       "    }\n",
       "\n",
       "    .dataframe thead th {\n",
       "        text-align: right;\n",
       "    }\n",
       "</style>\n",
       "<table border=\"1\" class=\"dataframe\">\n",
       "  <thead>\n",
       "    <tr style=\"text-align: right;\">\n",
       "      <th></th>\n",
       "      <th>d</th>\n",
       "      <th>v</th>\n",
       "    </tr>\n",
       "  </thead>\n",
       "  <tbody>\n",
       "    <tr>\n",
       "      <th>0</th>\n",
       "      <td>124.24</td>\n",
       "      <td>1698</td>\n",
       "    </tr>\n",
       "    <tr>\n",
       "      <th>1</th>\n",
       "      <td>124.24</td>\n",
       "      <td>1929</td>\n",
       "    </tr>\n",
       "    <tr>\n",
       "      <th>2</th>\n",
       "      <td>49.40</td>\n",
       "      <td>555</td>\n",
       "    </tr>\n",
       "    <tr>\n",
       "      <th>3</th>\n",
       "      <td>110.81</td>\n",
       "      <td>2613</td>\n",
       "    </tr>\n",
       "    <tr>\n",
       "      <th>4</th>\n",
       "      <td>40.60</td>\n",
       "      <td>555</td>\n",
       "    </tr>\n",
       "    <tr>\n",
       "      <th>5</th>\n",
       "      <td>82.00</td>\n",
       "      <td>1014</td>\n",
       "    </tr>\n",
       "    <tr>\n",
       "      <th>6</th>\n",
       "      <td>89.13</td>\n",
       "      <td>1242</td>\n",
       "    </tr>\n",
       "  </tbody>\n",
       "</table>\n",
       "</div>"
      ],
      "text/plain": [
       "        d     v\n",
       "0  124.24  1698\n",
       "1  124.24  1929\n",
       "2   49.40   555\n",
       "3  110.81  2613\n",
       "4   40.60   555\n",
       "5   82.00  1014\n",
       "6   89.13  1242"
      ]
     },
     "execution_count": 11,
     "metadata": {},
     "output_type": "execute_result"
    }
   ],
   "source": [
    "# GET THIS DATA MANUALLY FROM SKYLIVE AND CALCULATIONS ABOVE!\n",
    "df = pd.DataFrame({'d':[124.24,124.24,49.40,110.81,40.60,82,89.13],'v':[1698,1929,555,2613,555,1014,1242]})\n",
    "df"
   ]
  },
  {
   "cell_type": "code",
   "execution_count": 12,
   "id": "b9c49961-7b27-483d-ad69-d56c65f584d5",
   "metadata": {},
   "outputs": [
    {
     "data": {
      "application/javascript": [
       "\n",
       "        if (window._pyforest_update_imports_cell) { window._pyforest_update_imports_cell('import matplotlib.pyplot as plt\\nimport pandas as pd'); }\n",
       "    "
      ],
      "text/plain": [
       "<IPython.core.display.Javascript object>"
      ]
     },
     "metadata": {},
     "output_type": "display_data"
    },
    {
     "data": {
      "text/plain": [
       "<matplotlib.collections.PathCollection at 0x7ff951f6d4d0>"
      ]
     },
     "execution_count": 12,
     "metadata": {},
     "output_type": "execute_result"
    },
    {
     "data": {
      "image/png": "[encoded data removed]",
      "text/plain": [
       "<Figure size 432x288 with 1 Axes>"
      ]
     },
     "metadata": {
      "needs_background": "light"
     },
     "output_type": "display_data"
    }
   ],
   "source": [
    "plt.scatter(df['d'],df['v'])"
   ]
  },
  {
   "cell_type": "code",
   "execution_count": 15,
   "id": "45d819ea-2285-4814-bca7-5c962867f305",
   "metadata": {},
   "outputs": [],
   "source": [
    "import numpy as np\n",
    "from numpy.linalg import inv\n",
    "import matplotlib.pyplot as plt"
   ]
  },
  {
   "cell_type": "code",
   "execution_count": 13,
   "id": "4aef4f37-96d6-4aba-b33c-476f75f169a2",
   "metadata": {},
   "outputs": [],
   "source": [
    "def lr(X,y):\n",
    "    \"\"\"\n",
    "    Numpy Mean Square Error Method for Univariate Linear Regression.\n",
    "    \n",
    "    Returns, in order:\n",
    "        theta_0, theta_1, y_predictions\n",
    "    \"\"\"\n",
    "    \n",
    "    # Get the array of parameter values as b from the theory previously demonstrated\n",
    "    theta = inv( X.T @ X ) @ X.T @ y\n",
    "    \n",
    "    return theta[0], theta[1], X @ theta"
   ]
  },
  {
   "cell_type": "code",
   "execution_count": 21,
   "id": "679e6af3-792b-47eb-8cae-492629a85d5c",
   "metadata": {},
   "outputs": [],
   "source": [
    "# Generate the design matrix as a column vector of ones of size vec_len and a column vector of random standard normal values of size vec_len\n",
    "x_0, x_1 = np.ones(len(df['d'].values)), df['d'].values\n",
    "    \n",
    "# Stack the columns together to complete the design matrix\n",
    "X = np.column_stack((x_0,x_1))\n",
    "\n",
    "y = df['v'].values"
   ]
  },
  {
   "cell_type": "code",
   "execution_count": 30,
   "id": "65d7a2c9-3e1c-443c-99b0-4849a394bd6b",
   "metadata": {},
   "outputs": [
    {
     "data": {
      "text/plain": [
       "(-326.1062836142177,\n",
       " 19.162412535539655,\n",
       " array([2054.6318498 , 2054.6318498 ,  620.51689564, 1797.28064945,\n",
       "         451.88766533, 1245.2115443 , 1381.83954568]))"
      ]
     },
     "execution_count": 30,
     "metadata": {},
     "output_type": "execute_result"
    }
   ],
   "source": [
    "lr(X,y) #Hubble Constant from this approximation is the second number in the array"
   ]
  },
  {
   "cell_type": "code",
   "execution_count": 27,
   "id": "3353729f-23dc-4b6f-b626-9527408e1f66",
   "metadata": {},
   "outputs": [
    {
     "data": {
      "text/plain": [
       "Text(0, 0.5, 'velocity of galaxies [km/s]')"
      ]
     },
     "execution_count": 27,
     "metadata": {},
     "output_type": "execute_result"
    },
    {
     "data": {
      "image/png": "[encoded data removed]",
      "text/plain": [
       "<Figure size 432x288 with 1 Axes>"
      ]
     },
     "metadata": {
      "needs_background": "light"
     },
     "output_type": "display_data"
    }
   ],
   "source": [
    "plt.scatter(X[:,1],y)\n",
    "\n",
    "# Plot of regression line\n",
    "plt.plot(X[:,1],lr(X,y)[2],c='red', label=');\n",
    "\n",
    "plt.title('age of the universe')\n",
    "plt.xlabel('distance between galaxies [Mlyr]')\n",
    "plt.ylabel('velocity of galaxies [km/s]')"
   ]
  },
  {
   "cell_type": "code",
   "execution_count": 37,
   "id": "cf4d390c-7f93-4a2a-bfaf-0db0d1deb790",
   "metadata": {},
   "outputs": [
    {
     "data": {
      "text/plain": [
       "1724.617128198569"
      ]
     },
     "execution_count": 37,
     "metadata": {},
     "output_type": "execute_result"
    }
   ],
   "source": [
    "v_at_90mlyr = lr(X,y)[1]*90\n",
    "v_at_90mlyr"
   ]
  },
  {
   "cell_type": "code",
   "execution_count": 38,
   "id": "4deb371f-909b-4206-b8d0-3f2b0edaf660",
   "metadata": {},
   "outputs": [
    {
     "data": {
      "text/plain": [
       "62.46946486585927"
      ]
     },
     "execution_count": 38,
     "metadata": {},
     "output_type": "execute_result"
    }
   ],
   "source": [
    "hubble_constant = 3.26 * v_at_90mlyr/90\n",
    "hubble_constant"
   ]
  },
  {
   "cell_type": "markdown",
   "id": "8f951205-7049-47aa-84c0-f2e79dae09b2",
   "metadata": {},
   "source": [
    "The value for the hubble constant was 73.4 in 2016. This constant is the rate of expansion of the universe in [km\\s\\Mpc)] (velocity per mega parsec)"
   ]
  },
  {
   "cell_type": "code",
   "execution_count": 57,
   "id": "69375710-cfb9-4db2-9cdb-03f2cdee1ff9",
   "metadata": {},
   "outputs": [
    {
     "name": "stdout",
     "output_type": "stream",
     "text": [
      "%error ~ 14.9 %\n"
     ]
    }
   ],
   "source": [
    "print('%error ~',round(np.abs(hubble_constant-73.4)/73.4*100,1),'%')"
   ]
  },
  {
   "cell_type": "code",
   "execution_count": 39,
   "id": "7ff6ab5c-1fa0-4ab0-95ef-70a308d1fdad",
   "metadata": {},
   "outputs": [
    {
     "name": "stdout",
     "output_type": "stream",
     "text": [
      "15.653407662443716 [billions of years]\n"
     ]
    }
   ],
   "source": [
    "age_of_universe = 977.86/hubble_constant\n",
    "print(age_of_universe,'[billions of years]')"
   ]
  },
  {
   "cell_type": "markdown",
   "id": "1584c084-f415-49f2-9ed9-cc3b8d975920",
   "metadata": {},
   "source": [
    "Note, the most accurately estimated age of the universe is 13.8$\\pm$0.1 billion years so this is a pretty good estimate with only a few datapoints!"
   ]
  },
  {
   "cell_type": "code",
   "execution_count": 49,
   "id": "2ebe1bd8-593d-4617-b9ca-6e8febf9b83e",
   "metadata": {},
   "outputs": [
    {
     "name": "stdout",
     "output_type": "stream",
     "text": [
      "%error ~ 13.4 %\n"
     ]
    }
   ],
   "source": [
    "print('%error ~',round((age_of_universe-13.8)/13.8*100,1),'%')"
   ]
  },
  {
   "cell_type": "markdown",
   "id": "da4c1b75-ae95-4efb-921f-c228d6c45ba8",
   "metadata": {},
   "source": [
    "Still not bad considering we are using only 5 of the some 100 billion+ known galaxies.<br>\n",
    "Information regarding the original estimation of the age of the universe by Hubble can be found here: https://www.pnas.org/content/112/11/3173"
   ]
  }
 ],
 "metadata": {
  "kernelspec": {
   "display_name": "myenv1",
   "language": "python",
   "name": "myenv1"
  },
  "language_info": {
   "codemirror_mode": {
    "name": "ipython",
    "version": 3
   },
   "file_extension": ".py",
   "mimetype": "text/x-python",
   "name": "python",
   "nbconvert_exporter": "python",
   "pygments_lexer": "ipython3",
   "version": "3.7.6"
  }
 },
 "nbformat": 4,
 "nbformat_minor": 5
}
