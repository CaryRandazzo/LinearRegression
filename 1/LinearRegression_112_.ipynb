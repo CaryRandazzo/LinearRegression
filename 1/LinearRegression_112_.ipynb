{
 "cells": [
  {
   "cell_type": "markdown",
   "metadata": {},
   "source": [
    "Data was acquired from http://simbad.u-strasbg.fr/simbad/ on Oct 27,2021."
   ]
  },
  {
   "cell_type": "code",
   "execution_count": 467,
   "metadata": {},
   "outputs": [
    {
     "data": {
      "application/javascript": [
       "\n",
       "        if (window._pyforest_update_imports_cell) { window._pyforest_update_imports_cell('import matplotlib.pyplot as plt\\nimport numpy as np\\nimport pandas as pd'); }\n",
       "    "
      ],
      "text/plain": [
       "<IPython.core.display.Javascript object>"
      ]
     },
     "metadata": {},
     "output_type": "display_data"
    },
    {
     "data": {
      "text/html": [
       "<div>\n",
       "<style scoped>\n",
       "    .dataframe tbody tr th:only-of-type {\n",
       "        vertical-align: middle;\n",
       "    }\n",
       "\n",
       "    .dataframe tbody tr th {\n",
       "        vertical-align: top;\n",
       "    }\n",
       "\n",
       "    .dataframe thead th {\n",
       "        text-align: right;\n",
       "    }\n",
       "</style>\n",
       "<table border=\"1\" class=\"dataframe\">\n",
       "  <thead>\n",
       "    <tr style=\"text-align: right;\">\n",
       "      <th></th>\n",
       "      <th>Galaxy</th>\n",
       "      <th>Apparent_Size[arcmin]</th>\n",
       "      <th>Redshift</th>\n",
       "    </tr>\n",
       "  </thead>\n",
       "  <tbody>\n",
       "    <tr>\n",
       "      <th>0</th>\n",
       "      <td>NGC 300</td>\n",
       "      <td>20.890</td>\n",
       "      <td>7.46</td>\n",
       "    </tr>\n",
       "    <tr>\n",
       "      <th>1</th>\n",
       "      <td>NGC 1300</td>\n",
       "      <td>6.170</td>\n",
       "      <td>9.90</td>\n",
       "    </tr>\n",
       "    <tr>\n",
       "      <th>2</th>\n",
       "      <td>NGC 1357</td>\n",
       "      <td>1.730</td>\n",
       "      <td>11.80</td>\n",
       "    </tr>\n",
       "    <tr>\n",
       "      <th>3</th>\n",
       "      <td>NGC 1365</td>\n",
       "      <td>10.720</td>\n",
       "      <td>8.79</td>\n",
       "    </tr>\n",
       "    <tr>\n",
       "      <th>4</th>\n",
       "      <td>NGC 1376</td>\n",
       "      <td>0.977</td>\n",
       "      <td>11.96</td>\n",
       "    </tr>\n",
       "    <tr>\n",
       "      <th>5</th>\n",
       "      <td>NGC 1832</td>\n",
       "      <td>1.567</td>\n",
       "      <td>11.07</td>\n",
       "    </tr>\n",
       "    <tr>\n",
       "      <th>6</th>\n",
       "      <td>NGC 2903</td>\n",
       "      <td>11.480</td>\n",
       "      <td>8.68</td>\n",
       "    </tr>\n",
       "    <tr>\n",
       "      <th>7</th>\n",
       "      <td>NGC 3344</td>\n",
       "      <td>6.760</td>\n",
       "      <td>9.71</td>\n",
       "    </tr>\n",
       "  </tbody>\n",
       "</table>\n",
       "</div>"
      ],
      "text/plain": [
       "     Galaxy  Apparent_Size[arcmin]  Redshift\n",
       "0   NGC 300                 20.890      7.46\n",
       "1  NGC 1300                  6.170      9.90\n",
       "2  NGC 1357                  1.730     11.80\n",
       "3  NGC 1365                 10.720      8.79\n",
       "4  NGC 1376                  0.977     11.96\n",
       "5  NGC 1832                  1.567     11.07\n",
       "6  NGC 2903                 11.480      8.68\n",
       "7  NGC 3344                  6.760      9.71"
      ]
     },
     "execution_count": 467,
     "metadata": {},
     "output_type": "execute_result"
    }
   ],
   "source": [
    "galaxy_list = ['NGC 300', 'NGC 1300', 'NGC 1357', 'NGC 1365', 'NGC 1376', 'NGC 1832', 'NGC 2903', 'NGC 3344']\n",
    "asize_list = [20.89,6.17,1.73,10.72,0.977,1.567,11.480,6.760]\n",
    "rshift_list = [7.46,9.90,11.8,8.79,11.96,11.07,8.68,9.71]\n",
    "df = pd.DataFrame({'Galaxy':galaxy_list,'Apparent_Size[arcmin]':asize_list,'Redshift':rshift_list})\n",
    "df"
   ]
  },
  {
   "cell_type": "code",
   "execution_count": 468,
   "metadata": {},
   "outputs": [],
   "source": [
    "def distance_to_galaxy(arcmins):\n",
    "    \"\"\"\n",
    "    Returns distance to galaxy in million light-years and distance to galaxy in Mega parsecs.\n",
    "    \"\"\"\n",
    "    \n",
    "    d_Mlyr = 70000/(float(arcmins)/60) * 360/(2*np.pi) /1000000\n",
    "    d_Mpc = d_Mlyr * 1000000/3.261563776e6\n",
    "    \n",
    "    return d_Mlyr, d_Mpc"
   ]
  },
  {
   "cell_type": "code",
   "execution_count": 469,
   "metadata": {},
   "outputs": [],
   "source": [
    "# Initialize the distance lists\n",
    "d_Mlyr_list, d_Mpc_list = [],[]\n",
    "\n",
    "# Loop through the apparent sizes\n",
    "for asize in df['Apparent_Size[arcmin]']:\n",
    "    # Get a handle for the distance values\n",
    "    vals = distance_to_galaxy(asize)\n",
    "    \n",
    "    # Store the distance values in their respective lists\n",
    "    d_Mlyr_list.append(float(vals[0]))\n",
    "    d_Mpc_list.append(float(vals[1]))\n",
    "\n",
    "# Construct the distance features for the dataframe\n",
    "df['d_Mlyr'] = d_Mlyr_list\n",
    "df['d_Mpc'] = d_Mpc_list"
   ]
  },
  {
   "cell_type": "code",
   "execution_count": 470,
   "metadata": {},
   "outputs": [
    {
     "data": {
      "text/html": [
       "<div>\n",
       "<style scoped>\n",
       "    .dataframe tbody tr th:only-of-type {\n",
       "        vertical-align: middle;\n",
       "    }\n",
       "\n",
       "    .dataframe tbody tr th {\n",
       "        vertical-align: top;\n",
       "    }\n",
       "\n",
       "    .dataframe thead th {\n",
       "        text-align: right;\n",
       "    }\n",
       "</style>\n",
       "<table border=\"1\" class=\"dataframe\">\n",
       "  <thead>\n",
       "    <tr style=\"text-align: right;\">\n",
       "      <th></th>\n",
       "      <th>Galaxy</th>\n",
       "      <th>Apparent_Size[arcmin]</th>\n",
       "      <th>Redshift</th>\n",
       "      <th>d_Mlyr</th>\n",
       "      <th>d_Mpc</th>\n",
       "    </tr>\n",
       "  </thead>\n",
       "  <tbody>\n",
       "    <tr>\n",
       "      <th>0</th>\n",
       "      <td>NGC 300</td>\n",
       "      <td>20.890</td>\n",
       "      <td>7.46</td>\n",
       "      <td>11.519496</td>\n",
       "      <td>3.531894</td>\n",
       "    </tr>\n",
       "    <tr>\n",
       "      <th>1</th>\n",
       "      <td>NGC 1300</td>\n",
       "      <td>6.170</td>\n",
       "      <td>9.90</td>\n",
       "      <td>39.001989</td>\n",
       "      <td>11.958064</td>\n",
       "    </tr>\n",
       "    <tr>\n",
       "      <th>2</th>\n",
       "      <td>NGC 1357</td>\n",
       "      <td>1.730</td>\n",
       "      <td>11.80</td>\n",
       "      <td>139.099580</td>\n",
       "      <td>42.648125</td>\n",
       "    </tr>\n",
       "    <tr>\n",
       "      <th>3</th>\n",
       "      <td>NGC 1365</td>\n",
       "      <td>10.720</td>\n",
       "      <td>8.79</td>\n",
       "      <td>22.447973</td>\n",
       "      <td>6.882580</td>\n",
       "    </tr>\n",
       "    <tr>\n",
       "      <th>4</th>\n",
       "      <td>NGC 1376</td>\n",
       "      <td>0.977</td>\n",
       "      <td>11.96</td>\n",
       "      <td>246.307343</td>\n",
       "      <td>75.518175</td>\n",
       "    </tr>\n",
       "    <tr>\n",
       "      <th>5</th>\n",
       "      <td>NGC 1832</td>\n",
       "      <td>1.567</td>\n",
       "      <td>11.07</td>\n",
       "      <td>153.568777</td>\n",
       "      <td>47.084401</td>\n",
       "    </tr>\n",
       "    <tr>\n",
       "      <th>6</th>\n",
       "      <td>NGC 2903</td>\n",
       "      <td>11.480</td>\n",
       "      <td>8.68</td>\n",
       "      <td>20.961871</td>\n",
       "      <td>6.426939</td>\n",
       "    </tr>\n",
       "    <tr>\n",
       "      <th>7</th>\n",
       "      <td>NGC 3344</td>\n",
       "      <td>6.760</td>\n",
       "      <td>9.71</td>\n",
       "      <td>35.597970</td>\n",
       "      <td>10.914387</td>\n",
       "    </tr>\n",
       "  </tbody>\n",
       "</table>\n",
       "</div>"
      ],
      "text/plain": [
       "     Galaxy  Apparent_Size[arcmin]  Redshift      d_Mlyr      d_Mpc\n",
       "0   NGC 300                 20.890      7.46   11.519496   3.531894\n",
       "1  NGC 1300                  6.170      9.90   39.001989  11.958064\n",
       "2  NGC 1357                  1.730     11.80  139.099580  42.648125\n",
       "3  NGC 1365                 10.720      8.79   22.447973   6.882580\n",
       "4  NGC 1376                  0.977     11.96  246.307343  75.518175\n",
       "5  NGC 1832                  1.567     11.07  153.568777  47.084401\n",
       "6  NGC 2903                 11.480      8.68   20.961871   6.426939\n",
       "7  NGC 3344                  6.760      9.71   35.597970  10.914387"
      ]
     },
     "execution_count": 470,
     "metadata": {},
     "output_type": "execute_result"
    }
   ],
   "source": [
    "df"
   ]
  },
  {
   "cell_type": "code",
   "execution_count": 471,
   "metadata": {},
   "outputs": [],
   "source": [
    "def v_galaxy(redshift):\n",
    "    \"\"\"\n",
    "    Returns apparent recession velocity of galaxy in kilometers per second.\n",
    "    \"\"\"\n",
    "    \n",
    "    return float(redshift)*299792*10**(-3)"
   ]
  },
  {
   "cell_type": "code",
   "execution_count": 472,
   "metadata": {},
   "outputs": [],
   "source": [
    "# Initialize the velocity list\n",
    "velocities = []\n",
    "\n",
    "# Loop through the redshift data\n",
    "for rshift in df['Redshift']:\n",
    "    \n",
    "    # Store the velocity data of each galaxy in the velocity list\n",
    "    velocities.append(v_galaxy(rshift))\n",
    "\n",
    "# Construct the velocity feature for the dataframe\n",
    "df['velocity[km/s]'] = velocities"
   ]
  },
  {
   "cell_type": "code",
   "execution_count": 473,
   "metadata": {},
   "outputs": [
    {
     "data": {
      "text/html": [
       "<div>\n",
       "<style scoped>\n",
       "    .dataframe tbody tr th:only-of-type {\n",
       "        vertical-align: middle;\n",
       "    }\n",
       "\n",
       "    .dataframe tbody tr th {\n",
       "        vertical-align: top;\n",
       "    }\n",
       "\n",
       "    .dataframe thead th {\n",
       "        text-align: right;\n",
       "    }\n",
       "</style>\n",
       "<table border=\"1\" class=\"dataframe\">\n",
       "  <thead>\n",
       "    <tr style=\"text-align: right;\">\n",
       "      <th></th>\n",
       "      <th>Galaxy</th>\n",
       "      <th>Apparent_Size[arcmin]</th>\n",
       "      <th>Redshift</th>\n",
       "      <th>d_Mlyr</th>\n",
       "      <th>d_Mpc</th>\n",
       "      <th>velocity[km/s]</th>\n",
       "    </tr>\n",
       "  </thead>\n",
       "  <tbody>\n",
       "    <tr>\n",
       "      <th>0</th>\n",
       "      <td>NGC 300</td>\n",
       "      <td>20.890</td>\n",
       "      <td>7.46</td>\n",
       "      <td>11.519496</td>\n",
       "      <td>3.531894</td>\n",
       "      <td>2236.44832</td>\n",
       "    </tr>\n",
       "    <tr>\n",
       "      <th>1</th>\n",
       "      <td>NGC 1300</td>\n",
       "      <td>6.170</td>\n",
       "      <td>9.90</td>\n",
       "      <td>39.001989</td>\n",
       "      <td>11.958064</td>\n",
       "      <td>2967.94080</td>\n",
       "    </tr>\n",
       "    <tr>\n",
       "      <th>2</th>\n",
       "      <td>NGC 1357</td>\n",
       "      <td>1.730</td>\n",
       "      <td>11.80</td>\n",
       "      <td>139.099580</td>\n",
       "      <td>42.648125</td>\n",
       "      <td>3537.54560</td>\n",
       "    </tr>\n",
       "    <tr>\n",
       "      <th>3</th>\n",
       "      <td>NGC 1365</td>\n",
       "      <td>10.720</td>\n",
       "      <td>8.79</td>\n",
       "      <td>22.447973</td>\n",
       "      <td>6.882580</td>\n",
       "      <td>2635.17168</td>\n",
       "    </tr>\n",
       "    <tr>\n",
       "      <th>4</th>\n",
       "      <td>NGC 1376</td>\n",
       "      <td>0.977</td>\n",
       "      <td>11.96</td>\n",
       "      <td>246.307343</td>\n",
       "      <td>75.518175</td>\n",
       "      <td>3585.51232</td>\n",
       "    </tr>\n",
       "    <tr>\n",
       "      <th>5</th>\n",
       "      <td>NGC 1832</td>\n",
       "      <td>1.567</td>\n",
       "      <td>11.07</td>\n",
       "      <td>153.568777</td>\n",
       "      <td>47.084401</td>\n",
       "      <td>3318.69744</td>\n",
       "    </tr>\n",
       "    <tr>\n",
       "      <th>6</th>\n",
       "      <td>NGC 2903</td>\n",
       "      <td>11.480</td>\n",
       "      <td>8.68</td>\n",
       "      <td>20.961871</td>\n",
       "      <td>6.426939</td>\n",
       "      <td>2602.19456</td>\n",
       "    </tr>\n",
       "    <tr>\n",
       "      <th>7</th>\n",
       "      <td>NGC 3344</td>\n",
       "      <td>6.760</td>\n",
       "      <td>9.71</td>\n",
       "      <td>35.597970</td>\n",
       "      <td>10.914387</td>\n",
       "      <td>2910.98032</td>\n",
       "    </tr>\n",
       "  </tbody>\n",
       "</table>\n",
       "</div>"
      ],
      "text/plain": [
       "     Galaxy  Apparent_Size[arcmin]  Redshift      d_Mlyr      d_Mpc  \\\n",
       "0   NGC 300                 20.890      7.46   11.519496   3.531894   \n",
       "1  NGC 1300                  6.170      9.90   39.001989  11.958064   \n",
       "2  NGC 1357                  1.730     11.80  139.099580  42.648125   \n",
       "3  NGC 1365                 10.720      8.79   22.447973   6.882580   \n",
       "4  NGC 1376                  0.977     11.96  246.307343  75.518175   \n",
       "5  NGC 1832                  1.567     11.07  153.568777  47.084401   \n",
       "6  NGC 2903                 11.480      8.68   20.961871   6.426939   \n",
       "7  NGC 3344                  6.760      9.71   35.597970  10.914387   \n",
       "\n",
       "   velocity[km/s]  \n",
       "0      2236.44832  \n",
       "1      2967.94080  \n",
       "2      3537.54560  \n",
       "3      2635.17168  \n",
       "4      3585.51232  \n",
       "5      3318.69744  \n",
       "6      2602.19456  \n",
       "7      2910.98032  "
      ]
     },
     "execution_count": 473,
     "metadata": {},
     "output_type": "execute_result"
    }
   ],
   "source": [
    "df"
   ]
  },
  {
   "cell_type": "code",
   "execution_count": 500,
   "metadata": {},
   "outputs": [
    {
     "data": {
      "image/png": "[encoded data removed]",
      "text/plain": [
       "<Figure size 432x288 with 1 Axes>"
      ]
     },
     "metadata": {},
     "output_type": "display_data"
    }
   ],
   "source": [
    "# Plot of datapoints\n",
    "plt.scatter(df['d_Mpc'],df['velocity[km/s]']);\n",
    "\n",
    "# Plot the metadata for the graph\n",
    "plt.title('Estimated Apparent Velocity[km\\s] vs Apparent Distance[Mpc] of Galaxies relative to Earth');\n",
    "plt.xlabel('Est. Distance from Earth [Mpc]');\n",
    "plt.ylabel('Est. Velocities[km/s]');"
   ]
  },
  {
   "cell_type": "code",
   "execution_count": 363,
   "metadata": {},
   "outputs": [],
   "source": [
    "# Necessary Imports\n",
    "import numpy as np\n",
    "from numpy.linalg import inv\n",
    "import matplotlib.pyplot as plt"
   ]
  },
  {
   "cell_type": "code",
   "execution_count": 475,
   "metadata": {},
   "outputs": [],
   "source": [
    "def lr(X,y):\n",
    "    \"\"\"\n",
    "    Numpy Mean Square Error Method for Univariate Linear Regression.\n",
    "    \n",
    "    Returns, in order:\n",
    "        theta_0, theta_1, y_predictions\n",
    "    \"\"\"\n",
    "    \n",
    "    # Get the array of parameter values as b from the theory previously demonstrated\n",
    "    theta = inv( X.T @ X ) @ X.T @ y\n",
    "    \n",
    "    return theta, X @ theta"
   ]
  },
  {
   "cell_type": "code",
   "execution_count": 476,
   "metadata": {},
   "outputs": [],
   "source": [
    "# Define the design matrix having a single column such that it is a column vector\n",
    "# NOTE: without reshaping this vector to a column vector, it will fail to compute the linear algebra operations necessary for our theta solution\n",
    "X = np.array(df['d_Mlyr'].values).reshape(-1,1)\n",
    "\n",
    "y = df['velocity[km/s]'].values"
   ]
  },
  {
   "cell_type": "code",
   "execution_count": 477,
   "metadata": {},
   "outputs": [
    {
     "data": {
      "text/plain": [
       "(array([20.87868594]),\n",
       " array([ 240.51194165,  814.31028543, 2904.21645149,  468.6841848 ,\n",
       "        5142.57365515, 3206.31426999,  437.65631194,  743.2388256 ]))"
      ]
     },
     "execution_count": 477,
     "metadata": {},
     "output_type": "execute_result"
    }
   ],
   "source": [
    "# Hubble Constant from this approximation is the second number in the array\n",
    "lr(X,y)"
   ]
  },
  {
   "cell_type": "code",
   "execution_count": 478,
   "metadata": {},
   "outputs": [
    {
     "data": {
      "text/plain": [
       "68.0971657624307"
      ]
     },
     "execution_count": 478,
     "metadata": {},
     "output_type": "execute_result"
    }
   ],
   "source": [
    "# Construct the conversion factor\n",
    "conv_factor = 3261563.7769443/1000000 #1Mpc = [?]Mlyr\n",
    "\n",
    "# Determine the Hubble constant in Mlyr\n",
    "HO_mlyr = lr(X,y)[0]\n",
    "# HO_mlyr = 22\n",
    "\n",
    "#HO must be given in km/s/Mpc not km/s/mlyr\n",
    "HO_mpc = float(HO_mlyr)*conv_factor\n",
    "HO_mpc"
   ]
  },
  {
   "cell_type": "code",
   "execution_count": 489,
   "metadata": {},
   "outputs": [
    {
     "data": {
      "text/plain": [
       "71.2"
      ]
     },
     "execution_count": 489,
     "metadata": {},
     "output_type": "execute_result"
    }
   ],
   "source": [
    "np.array([70,74,72,67.4,74,69.8]).mean() #avgHO[km/s/Mpc]"
   ]
  },
  {
   "cell_type": "code",
   "execution_count": 490,
   "metadata": {},
   "outputs": [
    {
     "name": "stdout",
     "output_type": "stream",
     "text": [
      "4.6% error\n"
     ]
    }
   ],
   "source": [
    "print(f'{round(np.abs(HO_mpc-71.2)/HO_mpc*100,1)}% error')"
   ]
  },
  {
   "cell_type": "code",
   "execution_count": 480,
   "metadata": {},
   "outputs": [
    {
     "data": {
      "image/png": "[encoded data removed]",
      "text/plain": [
       "<Figure size 432x288 with 1 Axes>"
      ]
     },
     "metadata": {},
     "output_type": "display_data"
    }
   ],
   "source": [
    "# Plot the datapoints\n",
    "plt.scatter(df['d_Mpc'],df['velocity[km/s]'])\n",
    "\n",
    "# Plot of regression line\n",
    "plt.plot(df['d_Mpc'],df['d_Mpc']*HO_mpc,c='red');\n",
    "\n",
    "# Plot metadata for the graph\n",
    "plt.title('age of the universe');\n",
    "plt.xlabel('distance between galaxies [Mpc]');\n",
    "plt.ylabel('velocity of galaxies [km/s]');\n",
    "plt.grid();"
   ]
  },
  {
   "cell_type": "code",
   "execution_count": 491,
   "metadata": {},
   "outputs": [
    {
     "name": "stdout",
     "output_type": "stream",
     "text": [
      "14.359775315927857 [billions of years]\n"
     ]
    }
   ],
   "source": [
    "age_of_universe = 977.86/HO_mpc\n",
    "print(age_of_universe,'[billions of years]')"
   ]
  },
  {
   "cell_type": "code",
   "execution_count": 492,
   "metadata": {},
   "outputs": [
    {
     "name": "stdout",
     "output_type": "stream",
     "text": [
      "4.2% error\n"
     ]
    }
   ],
   "source": [
    "print(f'{round(np.abs(age_of_universe-13.787)/13.8*100,1)}% error')"
   ]
  }
 ],
 "metadata": {
  "kernelspec": {
   "display_name": "myenv",
   "language": "python",
   "name": "myenv"
  },
  "language_info": {
   "codemirror_mode": {
    "name": "ipython",
    "version": 3
   },
   "file_extension": ".py",
   "mimetype": "text/x-python",
   "name": "python",
   "nbconvert_exporter": "python",
   "pygments_lexer": "ipython3",
   "version": "3.6.9"
  }
 },
 "nbformat": 4,
 "nbformat_minor": 4
}
