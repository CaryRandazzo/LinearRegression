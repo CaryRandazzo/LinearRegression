{
 "cells": [
  {
   "cell_type": "code",
   "execution_count": 13,
   "metadata": {},
   "outputs": [],
   "source": [
    "import numpy as np\n",
    "from timeit import timeit\n",
    "import matplotlib.pyplot as plt"
   ]
  },
  {
   "cell_type": "code",
   "execution_count": 14,
   "metadata": {},
   "outputs": [],
   "source": [
    "def dot(A_arr, B_arr):\n",
    "    \n",
    "    \"\"\"\n",
    "    Takes two vectors (array-like) and returns thier dot product.\n",
    "    Uses only base python.\n",
    "    \"\"\"\n",
    "    \n",
    "    dot_product = 0\n",
    "    \n",
    "    for a, b in zip(A_arr, B_arr):\n",
    "        dot_product += a * b\n",
    "    \n",
    "    return dot_product"
   ]
  },
  {
   "cell_type": "code",
   "execution_count": 15,
   "metadata": {},
   "outputs": [],
   "source": [
    "def time_function(func, *args, reps=10):\n",
    "    \n",
    "    \"\"\"\n",
    "    Passes *args into a function, func, and times it reps times, returns the average time in milliseconds (ms).\n",
    "    \"\"\"\n",
    "    \n",
    "    avg_time = timeit(lambda: func(*args), number=reps) / reps\n",
    "    \n",
    "    return avg_time * 1000"
   ]
  },
  {
   "cell_type": "code",
   "execution_count": 64,
   "metadata": {},
   "outputs": [],
   "source": [
    "def time_func2(\n",
    "    func,\n",
    "    vector_length,\n",
    "    input_type = \"array\",\n",
    "    data_reps = 10,\n",
    "    reps = 10\n",
    "):\n",
    "    \n",
    "    \"\"\"\n",
    "    Takes func, a function that perfroms a calculation on two vectors (array-lines) and   \n",
    "    returns the times (in ms) the function takes to run on std. normal generated vectors.\n",
    "    \n",
    "    Arguments:\n",
    "    ----------\n",
    "    func (function): a function that perfroms a calculation on two vectors (array-lines)\n",
    "    vector_length (int): the length that the radom vectors should be\n",
    "    input_type (str): Vontrols the data type of the random vector. Takes values \\\"list\\\" or \\\"array\\\"\n",
    "    data_reps (int): the number of times to generate the data\n",
    "    reps (int): the number of time to run the timer for each data set\n",
    "    \"\"\"\n",
    "    \n",
    "    \n",
    "    total_time = 0\n",
    "    \n",
    "    for i in range(0, data_reps):\n",
    "        \n",
    "        A = np.random.standard_normal(vector_length)\n",
    "        B = np.random.standard_normal(vector_length)\n",
    "        if func==lr:\n",
    "            X = np.column_stack((np.ones(len(A),dtype=int),A))\n",
    "            y = B\n",
    "        \n",
    "#         if input_type == \"list\":\n",
    "#             A = list(A)\n",
    "#             B = list(B)\n",
    "            \n",
    "#         inst_time = time_function(func, A, B, reps=reps)\n",
    "        try:\n",
    "            inst_time = time_function(func, X, y, reps=reps)\n",
    "        except:            \n",
    "            return print(\"ERROR:vector length must be greater than 1 AND Must have enough RAM to allocate matrices of size (n x n)\")\n",
    "        total_time += inst_time\n",
    "    \n",
    "    avg_time = total_time / data_reps\n",
    "    \n",
    "    return avg_time"
   ]
  },
  {
   "cell_type": "code",
   "execution_count": 61,
   "metadata": {},
   "outputs": [],
   "source": [
    "def lr(X,y):\n",
    "    b = np.linalg.inv( X.T @ X ) @ X.T @ y\n",
    "    return b, X @ b #returns b,yhat"
   ]
  },
  {
   "cell_type": "markdown",
   "metadata": {},
   "source": [
    "<hr style=\"border:solid 1px\">"
   ]
  },
  {
   "cell_type": "code",
   "execution_count": 18,
   "metadata": {},
   "outputs": [],
   "source": [
    "# create the vectors\n",
    "\n",
    "# create the vectors as numpy arrays\n",
    "A_arr = np.random.randn(10**3)\n",
    "B_arr = np.random.randn(10**3)\n",
    "\n",
    "# copy the vectors as lists\n",
    "A_list = list(A_arr)\n",
    "B_list = list(B_arr)"
   ]
  },
  {
   "cell_type": "markdown",
   "metadata": {},
   "source": [
    "<hr style=\"border:solid 1px\">"
   ]
  },
  {
   "cell_type": "code",
   "execution_count": 19,
   "metadata": {},
   "outputs": [],
   "source": [
    "# create an array of increasing times\n",
    "\n",
    "ord_mag = 6\n",
    "lengths = [10 ** n for n in range(0, ord_mag + 1)]"
   ]
  },
  {
   "cell_type": "code",
   "execution_count": 20,
   "metadata": {},
   "outputs": [
    {
     "name": "stdout",
     "output_type": "stream",
     "text": [
      "ERROR:vector length must be greater than 1 AND Must have enough RAM to allocate matrices of size (n x n)\n",
      "ERROR:vector length must be greater than 1 AND Must have enough RAM to allocate matrices of size (n x n)\n",
      "ERROR:vector length must be greater than 1 AND Must have enough RAM to allocate matrices of size (n x n)\n",
      "ERROR:vector length must be greater than 1 AND Must have enough RAM to allocate matrices of size (n x n)\n",
      "ERROR:vector length must be greater than 1 AND Must have enough RAM to allocate matrices of size (n x n)\n",
      "ERROR:vector length must be greater than 1 AND Must have enough RAM to allocate matrices of size (n x n)\n",
      "ERROR:vector length must be greater than 1 AND Must have enough RAM to allocate matrices of size (n x n)\n"
     ]
    },
    {
     "data": {
      "text/plain": [
       "[None, None, None, None, None, None, None]"
      ]
     },
     "execution_count": 20,
     "metadata": {},
     "output_type": "execute_result"
    }
   ],
   "source": [
    "# time the loop-based function\n",
    "# use list as inputs\n",
    "\n",
    "loop_list_times = [time_func2(dot, e, \"list\") for e in lengths]\n",
    "loop_list_times"
   ]
  },
  {
   "cell_type": "code",
   "execution_count": 8,
   "metadata": {},
   "outputs": [
    {
     "data": {
      "text/plain": [
       "[0.002126969920936972,\n",
       " 0.006631219875998795,\n",
       " 0.05142188019817695,\n",
       " 0.4281762201571837,\n",
       " 3.370406289177481,\n",
       " 33.87435117998393,\n",
       " 328.8083392599947]"
      ]
     },
     "execution_count": 8,
     "metadata": {},
     "output_type": "execute_result"
    }
   ],
   "source": [
    "# time the loop-based function\n",
    "# use list as inputs\n",
    "\n",
    "loop_array_times = [time_func2(dot, length, \"array\") for length in lengths]\n",
    "loop_array_times"
   ]
  },
  {
   "cell_type": "code",
   "execution_count": 9,
   "metadata": {},
   "outputs": [
    {
     "data": {
      "text/plain": [
       "[0.012665099930018187,\n",
       " 0.0033778694341890514,\n",
       " 0.002895450161304325,\n",
       " 0.0020629502250812948,\n",
       " 0.005723939393647015,\n",
       " 0.026674140244722366,\n",
       " 1.3893447601003572]"
      ]
     },
     "execution_count": 9,
     "metadata": {},
     "output_type": "execute_result"
    }
   ],
   "source": [
    "# time numpy\n",
    "\n",
    "np_times = [time_func2(np.dot, length) for length in lengths]\n",
    "np_times"
   ]
  },
  {
   "cell_type": "code",
   "execution_count": 10,
   "metadata": {},
   "outputs": [
    {
     "data": {
      "image/png": "[encoded data removed]",
      "text/plain": [
       "<Figure size 432x288 with 1 Axes>"
      ]
     },
     "metadata": {},
     "output_type": "display_data"
    }
   ],
   "source": [
    "# plot numpy time v.s. loop time\n",
    "\n",
    "plt.plot(lengths, loop_list_times, label = \"Loop-based function with lists as inputs\")\n",
    "plt.plot(lengths, loop_array_times, label = \"Loop-based function with arrays as inputs\")\n",
    "plt.plot(lengths, np_times, label = \"Numpy's function\")\n",
    "plt.title(\"Time Comparison of Dot Product Functions\")\n",
    "plt.xlabel(\"Length of Vectors\")\n",
    "plt.ylabel(\"Average Time (ms)\")\n",
    "plt.legend()\n",
    "plt.show()"
   ]
  },
  {
   "cell_type": "code",
   "execution_count": 11,
   "metadata": {},
   "outputs": [
    {
     "data": {
      "image/png": "[encoded data removed]",
      "text/plain": [
       "<Figure size 432x288 with 1 Axes>"
      ]
     },
     "metadata": {},
     "output_type": "display_data"
    }
   ],
   "source": [
    "plt.plot(lengths, np_times, label = \"Numpy's function\", c = \"C2\")\n",
    "plt.title(\"Time Comparison of Dot Product Functions\")\n",
    "plt.xlabel(\"Length of Vectors\")\n",
    "plt.ylabel(\"Average Time (ms)\")\n",
    "plt.legend()\n",
    "plt.show()"
   ]
  },
  {
   "cell_type": "markdown",
   "metadata": {},
   "source": [
    "<hr style=\"border:solid 1px\">"
   ]
  },
  {
   "cell_type": "code",
   "execution_count": 62,
   "metadata": {},
   "outputs": [],
   "source": [
    "# create an array of increasing times\n",
    "\n",
    "ord_mag = 6\n",
    "# lengths = [10 ** n for n in range(0, ord_mag + 1)]\n",
    "lengths = [1+10 ** n for n in range(0, ord_mag + 1)] #all vector lengths must be greater than 1"
   ]
  },
  {
   "cell_type": "code",
   "execution_count": 63,
   "metadata": {},
   "outputs": [
    {
     "data": {
      "text/plain": [
       "[2, 11, 101, 1001, 10001, 100001, 1000001]"
      ]
     },
     "execution_count": 63,
     "metadata": {},
     "output_type": "execute_result"
    }
   ],
   "source": [
    "lengths"
   ]
  },
  {
   "cell_type": "markdown",
   "metadata": {},
   "source": [
    "##### Direct Numpy Method"
   ]
  },
  {
   "cell_type": "code",
   "execution_count": 65,
   "metadata": {},
   "outputs": [
    {
     "data": {
      "text/plain": [
       "[0.04502129042521119,\n",
       " 0.030040760175324976,\n",
       " 0.033855369547382,\n",
       " 0.03224913001758978,\n",
       " 0.3933348404825665,\n",
       " 1.2221182603389025,\n",
       " 21.06056908989558]"
      ]
     },
     "execution_count": 65,
     "metadata": {},
     "output_type": "execute_result"
    }
   ],
   "source": [
    "# time the function\n",
    "\n",
    "loop_array_times = [time_func2(lr, length, \"array\") for length in lengths]\n",
    "loop_array_times"
   ]
  },
  {
   "cell_type": "markdown",
   "metadata": {},
   "source": [
    "The error I get above is because the dot product example uses arrays of length $10^5$ and $10^6$, but when calculating yhat (calculating b works fine), it generates an (n x n) matrix that the dot product will be taken of it with y to get an array of yhat values of size (n). (see unable to allocate error further down)\n",
    "\n",
    "The problem is,\n",
    "https://www.google.com/search?channel=fs&client=ubuntu&q=numpy+multiply+arrays+without+holding+in+memory\n",
    "\n",
    "##### Further Investigation:"
   ]
  },
  {
   "cell_type": "code",
   "execution_count": 356,
   "metadata": {},
   "outputs": [
    {
     "data": {
      "text/plain": [
       "(10000, 10000)"
      ]
     },
     "metadata": {},
     "output_type": "display_data"
    },
    {
     "name": "stdout",
     "output_type": "stream",
     "text": [
      "a of size 10001: 800.0  MB\n"
     ]
    },
    {
     "data": {
      "text/plain": [
       "(20000, 20000)"
      ]
     },
     "metadata": {},
     "output_type": "display_data"
    },
    {
     "name": "stdout",
     "output_type": "stream",
     "text": [
      "a of size 20001: 3200.0  MB\n",
      "\n",
      " memory size increases at O(n^2) where n is vector length\n",
      "\n",
      " a of size 10**5+1: (X[1:a] @ inv(X[1:a].T @ X[1:a]) @ X[1:a].T @ y[1:a]).shape = 74500, MB\n"
     ]
    }
   ],
   "source": [
    "A = np.random.standard_normal(100001)\n",
    "B = np.random.standard_normal(100001)\n",
    "X = np.column_stack((np.ones(len(A),dtype=\"float16\"),A))\n",
    "y = B.astype(\"float16\")\n",
    "\n",
    "a = 10001\n",
    "display((X[1:a] @ inv(X[1:a].T @ X[1:a])@X[1:a].T ).shape)\n",
    "print(\"a of size 10001:\",(X[1:a] @ inv(X[1:a].T @ X[1:a])@X[1:a].T ).nbytes/(10**6),\" MB\") #bytes/10**6=mb\n",
    "\n",
    "a = 20001\n",
    "display((X[1:a] @ inv(X[1:a].T @ X[1:a])@X[1:a].T ).shape)\n",
    "print(\"a of size 20001:\",(X[1:a] @ inv(X[1:a].T @ X[1:a])@X[1:a].T ).nbytes/(10**6),\" MB\") #bytes/10**6=mb\n",
    "\n",
    "print(\"\\n memory size increases at O(n^2) where n is vector length\")\n",
    "\n",
    "# a = 100001\n",
    "print(\"\\n a of size 10**5+1: (X[1:a] @ inv(X[1:a].T @ X[1:a]) @ X[1:a].T @ y[1:a]).shape = 74500, MB\")"
   ]
  },
  {
   "cell_type": "code",
   "execution_count": 395,
   "metadata": {},
   "outputs": [
    {
     "data": {
      "text/plain": [
       "80000"
      ]
     },
     "metadata": {},
     "output_type": "display_data"
    },
    {
     "data": {
      "text/plain": [
       "40000"
      ]
     },
     "metadata": {},
     "output_type": "display_data"
    }
   ],
   "source": [
    "print(\"You can make it take up less memory by changing the data type\")\n",
    "a = 10001\n",
    "display((X[1:a] @ inv(X[1:a].T @ X[1:a]) @ X[1:a].T @ y[1:a]).nbytes)\n",
    "display((X[1:a].astype(\"float32\") @ inv(X[1:a].T.astype(\"float32\") @ X[1:a].astype(\"float32\")) @ X[1:a].T.astype(\"float32\") @ y[1:a].astype(\"float32\")).nbytes)"
   ]
  },
  {
   "cell_type": "code",
   "execution_count": 396,
   "metadata": {},
   "outputs": [
    {
     "name": "stdout",
     "output_type": "stream",
     "text": [
      "But it will still call the allocation at the original datatype float64\n"
     ]
    },
    {
     "ename": "MemoryError",
     "evalue": "Unable to allocate 74.5 GiB for an array with shape (100000, 100000) and data type float64",
     "output_type": "error",
     "traceback": [
      "\u001b[0;31m---------------------------------------------------------------------------\u001b[0m",
      "\u001b[0;31mMemoryError\u001b[0m                               Traceback (most recent call last)",
      "\u001b[0;32m<ipython-input-396-ca2bc304d8c1>\u001b[0m in \u001b[0;36m<module>\u001b[0;34m()\u001b[0m\n\u001b[1;32m      1\u001b[0m \u001b[0mprint\u001b[0m\u001b[0;34m(\u001b[0m\u001b[0;34m\"But it will still call the allocation at the original datatype float64\"\u001b[0m\u001b[0;34m)\u001b[0m\u001b[0;34m\u001b[0m\u001b[0;34m\u001b[0m\u001b[0m\n\u001b[1;32m      2\u001b[0m \u001b[0ma\u001b[0m \u001b[0;34m=\u001b[0m \u001b[0;36m100001\u001b[0m\u001b[0;34m\u001b[0m\u001b[0;34m\u001b[0m\u001b[0m\n\u001b[0;32m----> 3\u001b[0;31m \u001b[0mdisplay\u001b[0m\u001b[0;34m(\u001b[0m\u001b[0;34m(\u001b[0m\u001b[0mX\u001b[0m\u001b[0;34m[\u001b[0m\u001b[0;36m1\u001b[0m\u001b[0;34m:\u001b[0m\u001b[0ma\u001b[0m\u001b[0;34m]\u001b[0m \u001b[0;34m@\u001b[0m \u001b[0minv\u001b[0m\u001b[0;34m(\u001b[0m\u001b[0mX\u001b[0m\u001b[0;34m[\u001b[0m\u001b[0;36m1\u001b[0m\u001b[0;34m:\u001b[0m\u001b[0ma\u001b[0m\u001b[0;34m]\u001b[0m\u001b[0;34m.\u001b[0m\u001b[0mT\u001b[0m \u001b[0;34m@\u001b[0m \u001b[0mX\u001b[0m\u001b[0;34m[\u001b[0m\u001b[0;36m1\u001b[0m\u001b[0;34m:\u001b[0m\u001b[0ma\u001b[0m\u001b[0;34m]\u001b[0m\u001b[0;34m)\u001b[0m \u001b[0;34m@\u001b[0m \u001b[0mX\u001b[0m\u001b[0;34m[\u001b[0m\u001b[0;36m1\u001b[0m\u001b[0;34m:\u001b[0m\u001b[0ma\u001b[0m\u001b[0;34m]\u001b[0m\u001b[0;34m.\u001b[0m\u001b[0mT\u001b[0m \u001b[0;34m@\u001b[0m \u001b[0my\u001b[0m\u001b[0;34m[\u001b[0m\u001b[0;36m1\u001b[0m\u001b[0;34m:\u001b[0m\u001b[0ma\u001b[0m\u001b[0;34m]\u001b[0m\u001b[0;34m)\u001b[0m\u001b[0;34m.\u001b[0m\u001b[0mnbytes\u001b[0m\u001b[0;34m)\u001b[0m\u001b[0;34m\u001b[0m\u001b[0;34m\u001b[0m\u001b[0m\n\u001b[0m\u001b[1;32m      4\u001b[0m \u001b[0mdisplay\u001b[0m\u001b[0;34m(\u001b[0m\u001b[0;34m(\u001b[0m\u001b[0mX\u001b[0m\u001b[0;34m[\u001b[0m\u001b[0;36m1\u001b[0m\u001b[0;34m:\u001b[0m\u001b[0ma\u001b[0m\u001b[0;34m]\u001b[0m\u001b[0;34m.\u001b[0m\u001b[0mastype\u001b[0m\u001b[0;34m(\u001b[0m\u001b[0;34m\"float32\"\u001b[0m\u001b[0;34m)\u001b[0m \u001b[0;34m@\u001b[0m \u001b[0minv\u001b[0m\u001b[0;34m(\u001b[0m\u001b[0mX\u001b[0m\u001b[0;34m[\u001b[0m\u001b[0;36m1\u001b[0m\u001b[0;34m:\u001b[0m\u001b[0ma\u001b[0m\u001b[0;34m]\u001b[0m\u001b[0;34m.\u001b[0m\u001b[0mT\u001b[0m\u001b[0;34m.\u001b[0m\u001b[0mastype\u001b[0m\u001b[0;34m(\u001b[0m\u001b[0;34m\"float32\"\u001b[0m\u001b[0;34m)\u001b[0m \u001b[0;34m@\u001b[0m \u001b[0mX\u001b[0m\u001b[0;34m[\u001b[0m\u001b[0;36m1\u001b[0m\u001b[0;34m:\u001b[0m\u001b[0ma\u001b[0m\u001b[0;34m]\u001b[0m\u001b[0;34m.\u001b[0m\u001b[0mastype\u001b[0m\u001b[0;34m(\u001b[0m\u001b[0;34m\"float32\"\u001b[0m\u001b[0;34m)\u001b[0m\u001b[0;34m)\u001b[0m \u001b[0;34m@\u001b[0m \u001b[0mX\u001b[0m\u001b[0;34m[\u001b[0m\u001b[0;36m1\u001b[0m\u001b[0;34m:\u001b[0m\u001b[0ma\u001b[0m\u001b[0;34m]\u001b[0m\u001b[0;34m.\u001b[0m\u001b[0mT\u001b[0m\u001b[0;34m.\u001b[0m\u001b[0mastype\u001b[0m\u001b[0;34m(\u001b[0m\u001b[0;34m\"float32\"\u001b[0m\u001b[0;34m)\u001b[0m \u001b[0;34m@\u001b[0m \u001b[0my\u001b[0m\u001b[0;34m[\u001b[0m\u001b[0;36m1\u001b[0m\u001b[0;34m:\u001b[0m\u001b[0ma\u001b[0m\u001b[0;34m]\u001b[0m\u001b[0;34m.\u001b[0m\u001b[0mastype\u001b[0m\u001b[0;34m(\u001b[0m\u001b[0;34m\"float32\"\u001b[0m\u001b[0;34m)\u001b[0m\u001b[0;34m)\u001b[0m\u001b[0;34m.\u001b[0m\u001b[0mnbytes\u001b[0m\u001b[0;34m)\u001b[0m\u001b[0;34m\u001b[0m\u001b[0;34m\u001b[0m\u001b[0m\n",
      "\u001b[0;31mMemoryError\u001b[0m: Unable to allocate 74.5 GiB for an array with shape (100000, 100000) and data type float64"
     ]
    }
   ],
   "source": [
    "print(\"But it will still call the allocation at the original datatype float64\")\n",
    "a = 100001\n",
    "display((X[1:a] @ inv(X[1:a].T @ X[1:a]) @ X[1:a].T @ y[1:a]).nbytes)\n",
    "display((X[1:a].astype(\"float32\") @ inv(X[1:a].T.astype(\"float32\") @ X[1:a].astype(\"float32\")) @ X[1:a].T.astype(\"float32\") @ y[1:a].astype(\"float32\")).nbytes)"
   ]
  },
  {
   "cell_type": "markdown",
   "metadata": {},
   "source": [
    "<u>HOWEVER</u>: IF WE DECLARE our design matrix X as a np.array instead of an np.matrix, it works!"
   ]
  },
  {
   "cell_type": "markdown",
   "metadata": {},
   "source": [
    "##### Method 2:"
   ]
  },
  {
   "cell_type": "code",
   "execution_count": 209,
   "metadata": {},
   "outputs": [],
   "source": [
    "# time method2\n",
    "\n",
    "# method2_times = [time_func2(function2, length) for length in lengths]\n",
    "# method2_times"
   ]
  },
  {
   "cell_type": "markdown",
   "metadata": {},
   "source": [
    "##### Plot Results of timings:"
   ]
  },
  {
   "cell_type": "code",
   "execution_count": 66,
   "metadata": {},
   "outputs": [
    {
     "data": {
      "image/png": "[encoded data removed]",
      "text/plain": [
       "<Figure size 504x504 with 1 Axes>"
      ]
     },
     "metadata": {},
     "output_type": "display_data"
    }
   ],
   "source": [
    "# plot numpy time v.s. loop time\n",
    "\n",
    "plt.figure(figsize=(7,7))\n",
    "plt.plot(lengths, loop_array_times, label = \"Direct Numpy Method for Linear Regression(Limited by RAM)\")\n",
    "# plt.plot(lengths, np_times, label = \"Numpy's function\")\n",
    "plt.title(\"Time Comparison of OSL Linear Regression Functions\")\n",
    "plt.xlabel(\"Length of Vectors\")\n",
    "plt.ylabel(\"Average Time (ms)\")\n",
    "plt.legend()\n",
    "plt.show()"
   ]
  },
  {
   "cell_type": "code",
   "execution_count": null,
   "metadata": {},
   "outputs": [],
   "source": []
  }
 ],
 "metadata": {
  "kernelspec": {
   "display_name": "myenv",
   "language": "python",
   "name": "myenv"
  },
  "language_info": {
   "codemirror_mode": {
    "name": "ipython",
    "version": 3
   },
   "file_extension": ".py",
   "mimetype": "text/x-python",
   "name": "python",
   "nbconvert_exporter": "python",
   "pygments_lexer": "ipython3",
   "version": "3.6.9"
  }
 },
 "nbformat": 4,
 "nbformat_minor": 4
}
